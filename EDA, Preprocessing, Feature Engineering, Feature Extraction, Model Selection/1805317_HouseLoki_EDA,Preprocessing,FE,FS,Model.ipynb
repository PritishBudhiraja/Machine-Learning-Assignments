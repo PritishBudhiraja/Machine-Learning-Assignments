{
 "cells": [
  {
   "cell_type": "markdown",
   "metadata": {},
   "source": [
    "# Pritish Budhiraja\n",
    "# 1805317\n",
    "# House Loki"
   ]
  },
  {
   "cell_type": "code",
   "execution_count": 1,
   "metadata": {},
   "outputs": [],
   "source": [
    "\"\"\"\n",
    "Importing important libraries like numpy, pandas, matplotlib, seaborn, datetime.\n",
    "Warning is also imported to remove unnecessary warnings and filter them out.\n",
    "sklearn is also imported that provide many supervised and unsupervised learning algorithm and metrics\n",
    "to check the accuracy of those algorithms.\n",
    "\"\"\"\n",
    "import numpy as np\n",
    "import pandas as pd\n",
    "import matplotlib.pyplot as plt\n",
    "import seaborn as sns\n",
    "from math import sqrt\n",
    "from datetime import datetime\n",
    "%matplotlib inline\n",
    "import warnings\n",
    "warnings.filterwarnings('ignore')\n",
    "warnings.simplefilter(action='ignore', category=FutureWarning)\n",
    "\n",
    "from sklearn.feature_selection import VarianceThreshold\n",
    "from sklearn.model_selection import train_test_split\n",
    "from sklearn import preprocessing\n",
    "from sklearn.metrics import mean_squared_error\n",
    "from sklearn.linear_model import LinearRegression\n",
    "from sklearn.svm import SVR\n",
    "from sklearn.tree import DecisionTreeRegressor\n",
    "from sklearn.ensemble import RandomForestRegressor\n",
    "import xgboost as xgb\n",
    "from sklearn.metrics import r2_score"
   ]
  },
  {
   "cell_type": "code",
   "execution_count": 2,
   "metadata": {},
   "outputs": [
    {
     "data": {
      "text/html": [
       "<div>\n",
       "<style scoped>\n",
       "    .dataframe tbody tr th:only-of-type {\n",
       "        vertical-align: middle;\n",
       "    }\n",
       "\n",
       "    .dataframe tbody tr th {\n",
       "        vertical-align: top;\n",
       "    }\n",
       "\n",
       "    .dataframe thead th {\n",
       "        text-align: right;\n",
       "    }\n",
       "</style>\n",
       "<table border=\"1\" class=\"dataframe\">\n",
       "  <thead>\n",
       "    <tr style=\"text-align: right;\">\n",
       "      <th></th>\n",
       "      <th>business_code</th>\n",
       "      <th>cust_number</th>\n",
       "      <th>name_customer</th>\n",
       "      <th>clear_date</th>\n",
       "      <th>buisness_year</th>\n",
       "      <th>doc_id</th>\n",
       "      <th>posting_date</th>\n",
       "      <th>document_create_date</th>\n",
       "      <th>document_create_date.1</th>\n",
       "      <th>due_in_date</th>\n",
       "      <th>invoice_currency</th>\n",
       "      <th>document type</th>\n",
       "      <th>posting_id</th>\n",
       "      <th>area_business</th>\n",
       "      <th>total_open_amount</th>\n",
       "      <th>baseline_create_date</th>\n",
       "      <th>cust_payment_terms</th>\n",
       "      <th>invoice_id</th>\n",
       "      <th>isOpen</th>\n",
       "    </tr>\n",
       "  </thead>\n",
       "  <tbody>\n",
       "    <tr>\n",
       "      <th>0</th>\n",
       "      <td>U001</td>\n",
       "      <td>200769623</td>\n",
       "      <td>WAL-MAR trust</td>\n",
       "      <td>2019-07-29 00:00:00</td>\n",
       "      <td>2019.0</td>\n",
       "      <td>1.929612e+09</td>\n",
       "      <td>2019-07-17</td>\n",
       "      <td>20190712</td>\n",
       "      <td>20190717</td>\n",
       "      <td>20190801.0</td>\n",
       "      <td>USD</td>\n",
       "      <td>RV</td>\n",
       "      <td>1.0</td>\n",
       "      <td>NaN</td>\n",
       "      <td>14777.25</td>\n",
       "      <td>20190717.0</td>\n",
       "      <td>NAH4</td>\n",
       "      <td>1.929612e+09</td>\n",
       "      <td>0</td>\n",
       "    </tr>\n",
       "    <tr>\n",
       "      <th>1</th>\n",
       "      <td>U001</td>\n",
       "      <td>0200726979</td>\n",
       "      <td>BJ'S  us</td>\n",
       "      <td>2019-08-01 00:00:00</td>\n",
       "      <td>2019.0</td>\n",
       "      <td>1.929625e+09</td>\n",
       "      <td>2019-07-17</td>\n",
       "      <td>20190716</td>\n",
       "      <td>20190717</td>\n",
       "      <td>20190801.0</td>\n",
       "      <td>USD</td>\n",
       "      <td>RV</td>\n",
       "      <td>1.0</td>\n",
       "      <td>NaN</td>\n",
       "      <td>454.27</td>\n",
       "      <td>20190717.0</td>\n",
       "      <td>NAA8</td>\n",
       "      <td>1.929625e+09</td>\n",
       "      <td>0</td>\n",
       "    </tr>\n",
       "    <tr>\n",
       "      <th>2</th>\n",
       "      <td>U001</td>\n",
       "      <td>0200875006</td>\n",
       "      <td>KROGER co</td>\n",
       "      <td>2019-12-09 00:00:00</td>\n",
       "      <td>2019.0</td>\n",
       "      <td>1.930190e+09</td>\n",
       "      <td>2019-11-24</td>\n",
       "      <td>20191124</td>\n",
       "      <td>20191124</td>\n",
       "      <td>20191209.0</td>\n",
       "      <td>USD</td>\n",
       "      <td>RV</td>\n",
       "      <td>1.0</td>\n",
       "      <td>NaN</td>\n",
       "      <td>117929.61</td>\n",
       "      <td>20191124.0</td>\n",
       "      <td>NAA8</td>\n",
       "      <td>1.930190e+09</td>\n",
       "      <td>0</td>\n",
       "    </tr>\n",
       "    <tr>\n",
       "      <th>3</th>\n",
       "      <td>U001</td>\n",
       "      <td>0200331749</td>\n",
       "      <td>SYSC in</td>\n",
       "      <td>2019-08-09 00:00:00</td>\n",
       "      <td>2019.0</td>\n",
       "      <td>1.929635e+09</td>\n",
       "      <td>2019-07-24</td>\n",
       "      <td>20190718</td>\n",
       "      <td>20190724</td>\n",
       "      <td>20190808.0</td>\n",
       "      <td>USD</td>\n",
       "      <td>RV</td>\n",
       "      <td>1.0</td>\n",
       "      <td>NaN</td>\n",
       "      <td>5380.53</td>\n",
       "      <td>20190724.0</td>\n",
       "      <td>NAA8</td>\n",
       "      <td>1.929635e+09</td>\n",
       "      <td>0</td>\n",
       "    </tr>\n",
       "    <tr>\n",
       "      <th>4</th>\n",
       "      <td>U001</td>\n",
       "      <td>0200795490</td>\n",
       "      <td>HY -  foundation</td>\n",
       "      <td>2019-11-18 00:00:00</td>\n",
       "      <td>2019.0</td>\n",
       "      <td>1.929970e+09</td>\n",
       "      <td>2019-10-05</td>\n",
       "      <td>20191005</td>\n",
       "      <td>20191005</td>\n",
       "      <td>20191114.0</td>\n",
       "      <td>USD</td>\n",
       "      <td>RV</td>\n",
       "      <td>1.0</td>\n",
       "      <td>NaN</td>\n",
       "      <td>4825.26</td>\n",
       "      <td>20191005.0</td>\n",
       "      <td>NAWU</td>\n",
       "      <td>1.929970e+09</td>\n",
       "      <td>0</td>\n",
       "    </tr>\n",
       "  </tbody>\n",
       "</table>\n",
       "</div>"
      ],
      "text/plain": [
       "  business_code cust_number     name_customer           clear_date  \\\n",
       "0          U001   200769623     WAL-MAR trust  2019-07-29 00:00:00   \n",
       "1          U001  0200726979          BJ'S  us  2019-08-01 00:00:00   \n",
       "2          U001  0200875006         KROGER co  2019-12-09 00:00:00   \n",
       "3          U001  0200331749           SYSC in  2019-08-09 00:00:00   \n",
       "4          U001  0200795490  HY -  foundation  2019-11-18 00:00:00   \n",
       "\n",
       "   buisness_year        doc_id posting_date  document_create_date  \\\n",
       "0         2019.0  1.929612e+09   2019-07-17              20190712   \n",
       "1         2019.0  1.929625e+09   2019-07-17              20190716   \n",
       "2         2019.0  1.930190e+09   2019-11-24              20191124   \n",
       "3         2019.0  1.929635e+09   2019-07-24              20190718   \n",
       "4         2019.0  1.929970e+09   2019-10-05              20191005   \n",
       "\n",
       "   document_create_date.1  due_in_date invoice_currency document type  \\\n",
       "0                20190717   20190801.0              USD            RV   \n",
       "1                20190717   20190801.0              USD            RV   \n",
       "2                20191124   20191209.0              USD            RV   \n",
       "3                20190724   20190808.0              USD            RV   \n",
       "4                20191005   20191114.0              USD            RV   \n",
       "\n",
       "   posting_id  area_business  total_open_amount  baseline_create_date  \\\n",
       "0         1.0            NaN           14777.25            20190717.0   \n",
       "1         1.0            NaN             454.27            20190717.0   \n",
       "2         1.0            NaN          117929.61            20191124.0   \n",
       "3         1.0            NaN            5380.53            20190724.0   \n",
       "4         1.0            NaN            4825.26            20191005.0   \n",
       "\n",
       "  cust_payment_terms    invoice_id  isOpen  \n",
       "0               NAH4  1.929612e+09       0  \n",
       "1               NAA8  1.929625e+09       0  \n",
       "2               NAA8  1.930190e+09       0  \n",
       "3               NAA8  1.929635e+09       0  \n",
       "4               NAWU  1.929970e+09       0  "
      ]
     },
     "execution_count": 2,
     "metadata": {},
     "output_type": "execute_result"
    }
   ],
   "source": [
    "\"\"\"\n",
    "Importing the invoice dataset(1805317.csv) in the invoiceData dataframe.\n",
    "\"\"\"\n",
    "invoiceData=pd.read_csv(r\"1805317.csv\")\n",
    "invoiceData.head() # for displaying the first 5 rows of the dataset"
   ]
  },
  {
   "cell_type": "code",
   "execution_count": 3,
   "metadata": {},
   "outputs": [
    {
     "name": "stdout",
     "output_type": "stream",
     "text": [
      "The columns of the invoiveData dataframe that contain some NULL information are: \n",
      "['clear_date', 'area_business', 'invoice_id']\n"
     ]
    },
    {
     "data": {
      "text/plain": [
       "business_code                 0\n",
       "cust_number                   0\n",
       "name_customer                 0\n",
       "clear_date                 3326\n",
       "buisness_year                 0\n",
       "doc_id                        0\n",
       "posting_date                  0\n",
       "document_create_date          0\n",
       "document_create_date.1        0\n",
       "due_in_date                   0\n",
       "invoice_currency              0\n",
       "document type                 0\n",
       "posting_id                    0\n",
       "area_business             50000\n",
       "total_open_amount             0\n",
       "baseline_create_date          0\n",
       "cust_payment_terms            0\n",
       "invoice_id                    6\n",
       "isOpen                        0\n",
       "dtype: int64"
      ]
     },
     "execution_count": 3,
     "metadata": {},
     "output_type": "execute_result"
    }
   ],
   "source": [
    "print(\"The columns of the invoiveData dataframe that contain some NULL information are: \")\n",
    "print([col for col in invoiceData.columns if invoiceData[col].isnull().sum()>0])\n",
    "invoiceData.isnull().sum()"
   ]
  },
  {
   "cell_type": "code",
   "execution_count": 4,
   "metadata": {},
   "outputs": [],
   "source": [
    "\"\"\"\n",
    "As we can see the area_business column is whole NULL that means it will not providing any inference to the model\n",
    "So we will remove this column.\n",
    "And one more thing we can see that we have document_create_date and document_create_date.1 that .1 is added by python \n",
    "to distinguish it from others but the original csv has the same name so we can drop anyone of it.\n",
    "So I'm dropping the document_create_date\n",
    "\"\"\"\n",
    "invoiceData.drop(columns=[\"area_business\", \"document_create_date\"],inplace=True)"
   ]
  },
  {
   "cell_type": "code",
   "execution_count": 5,
   "metadata": {},
   "outputs": [
    {
     "data": {
      "text/html": [
       "<div>\n",
       "<style scoped>\n",
       "    .dataframe tbody tr th:only-of-type {\n",
       "        vertical-align: middle;\n",
       "    }\n",
       "\n",
       "    .dataframe tbody tr th {\n",
       "        vertical-align: top;\n",
       "    }\n",
       "\n",
       "    .dataframe thead th {\n",
       "        text-align: right;\n",
       "    }\n",
       "</style>\n",
       "<table border=\"1\" class=\"dataframe\">\n",
       "  <thead>\n",
       "    <tr style=\"text-align: right;\">\n",
       "      <th></th>\n",
       "      <th>business_code</th>\n",
       "      <th>cust_number</th>\n",
       "      <th>name_customer</th>\n",
       "      <th>clear_date</th>\n",
       "      <th>buisness_year</th>\n",
       "      <th>doc_id</th>\n",
       "      <th>posting_date</th>\n",
       "      <th>document_create_date.1</th>\n",
       "      <th>due_in_date</th>\n",
       "      <th>invoice_currency</th>\n",
       "      <th>document type</th>\n",
       "      <th>posting_id</th>\n",
       "      <th>total_open_amount</th>\n",
       "      <th>baseline_create_date</th>\n",
       "      <th>cust_payment_terms</th>\n",
       "      <th>invoice_id</th>\n",
       "      <th>isOpen</th>\n",
       "    </tr>\n",
       "  </thead>\n",
       "  <tbody>\n",
       "    <tr>\n",
       "      <th>26939</th>\n",
       "      <td>CA02</td>\n",
       "      <td>0140104223</td>\n",
       "      <td>H Y LO corporation</td>\n",
       "      <td>2019-05-08 00:00:00</td>\n",
       "      <td>2019.0</td>\n",
       "      <td>9.500000e+09</td>\n",
       "      <td>2019-04-30</td>\n",
       "      <td>20190329</td>\n",
       "      <td>20190408.0</td>\n",
       "      <td>CAD</td>\n",
       "      <td>X2</td>\n",
       "      <td>1.0</td>\n",
       "      <td>27816.00</td>\n",
       "      <td>20190329.0</td>\n",
       "      <td>CA10</td>\n",
       "      <td>NaN</td>\n",
       "      <td>0</td>\n",
       "    </tr>\n",
       "    <tr>\n",
       "      <th>33868</th>\n",
       "      <td>CA02</td>\n",
       "      <td>0140104409</td>\n",
       "      <td>LOB</td>\n",
       "      <td>2019-12-27 00:00:00</td>\n",
       "      <td>2019.0</td>\n",
       "      <td>9.500000e+09</td>\n",
       "      <td>2019-03-29</td>\n",
       "      <td>20181030</td>\n",
       "      <td>20181109.0</td>\n",
       "      <td>CAD</td>\n",
       "      <td>X2</td>\n",
       "      <td>1.0</td>\n",
       "      <td>383.64</td>\n",
       "      <td>20181030.0</td>\n",
       "      <td>CA10</td>\n",
       "      <td>NaN</td>\n",
       "      <td>0</td>\n",
       "    </tr>\n",
       "    <tr>\n",
       "      <th>38640</th>\n",
       "      <td>CA02</td>\n",
       "      <td>0140106054</td>\n",
       "      <td>TREE  llc</td>\n",
       "      <td>2019-05-09 00:00:00</td>\n",
       "      <td>2019.0</td>\n",
       "      <td>9.500000e+09</td>\n",
       "      <td>2019-03-29</td>\n",
       "      <td>20190225</td>\n",
       "      <td>20190307.0</td>\n",
       "      <td>CAD</td>\n",
       "      <td>X2</td>\n",
       "      <td>1.0</td>\n",
       "      <td>5896.80</td>\n",
       "      <td>20190225.0</td>\n",
       "      <td>CA10</td>\n",
       "      <td>NaN</td>\n",
       "      <td>0</td>\n",
       "    </tr>\n",
       "    <tr>\n",
       "      <th>38863</th>\n",
       "      <td>CA02</td>\n",
       "      <td>0100030194</td>\n",
       "      <td>AMAZO</td>\n",
       "      <td>2019-12-27 00:00:00</td>\n",
       "      <td>2019.0</td>\n",
       "      <td>9.500000e+09</td>\n",
       "      <td>2019-03-29</td>\n",
       "      <td>20190305</td>\n",
       "      <td>20190315.0</td>\n",
       "      <td>CAD</td>\n",
       "      <td>X2</td>\n",
       "      <td>1.0</td>\n",
       "      <td>313.15</td>\n",
       "      <td>20190305.0</td>\n",
       "      <td>CA10</td>\n",
       "      <td>NaN</td>\n",
       "      <td>0</td>\n",
       "    </tr>\n",
       "    <tr>\n",
       "      <th>39585</th>\n",
       "      <td>CA02</td>\n",
       "      <td>0140106379</td>\n",
       "      <td>QUAL associates</td>\n",
       "      <td>2019-05-08 00:00:00</td>\n",
       "      <td>2019.0</td>\n",
       "      <td>9.500000e+09</td>\n",
       "      <td>2019-04-30</td>\n",
       "      <td>20190325</td>\n",
       "      <td>20190404.0</td>\n",
       "      <td>CAD</td>\n",
       "      <td>X2</td>\n",
       "      <td>1.0</td>\n",
       "      <td>7812.00</td>\n",
       "      <td>20190325.0</td>\n",
       "      <td>CA10</td>\n",
       "      <td>NaN</td>\n",
       "      <td>0</td>\n",
       "    </tr>\n",
       "    <tr>\n",
       "      <th>44848</th>\n",
       "      <td>CA02</td>\n",
       "      <td>0140104409</td>\n",
       "      <td>LOB</td>\n",
       "      <td>2019-12-27 00:00:00</td>\n",
       "      <td>2019.0</td>\n",
       "      <td>9.500000e+09</td>\n",
       "      <td>2019-03-29</td>\n",
       "      <td>20181212</td>\n",
       "      <td>20181222.0</td>\n",
       "      <td>CAD</td>\n",
       "      <td>X2</td>\n",
       "      <td>1.0</td>\n",
       "      <td>628.60</td>\n",
       "      <td>20181212.0</td>\n",
       "      <td>CA10</td>\n",
       "      <td>NaN</td>\n",
       "      <td>0</td>\n",
       "    </tr>\n",
       "  </tbody>\n",
       "</table>\n",
       "</div>"
      ],
      "text/plain": [
       "      business_code cust_number       name_customer           clear_date  \\\n",
       "26939          CA02  0140104223  H Y LO corporation  2019-05-08 00:00:00   \n",
       "33868          CA02  0140104409                LOB   2019-12-27 00:00:00   \n",
       "38640          CA02  0140106054           TREE  llc  2019-05-09 00:00:00   \n",
       "38863          CA02  0100030194              AMAZO   2019-12-27 00:00:00   \n",
       "39585          CA02  0140106379     QUAL associates  2019-05-08 00:00:00   \n",
       "44848          CA02  0140104409                LOB   2019-12-27 00:00:00   \n",
       "\n",
       "       buisness_year        doc_id posting_date  document_create_date.1  \\\n",
       "26939         2019.0  9.500000e+09   2019-04-30                20190329   \n",
       "33868         2019.0  9.500000e+09   2019-03-29                20181030   \n",
       "38640         2019.0  9.500000e+09   2019-03-29                20190225   \n",
       "38863         2019.0  9.500000e+09   2019-03-29                20190305   \n",
       "39585         2019.0  9.500000e+09   2019-04-30                20190325   \n",
       "44848         2019.0  9.500000e+09   2019-03-29                20181212   \n",
       "\n",
       "       due_in_date invoice_currency document type  posting_id  \\\n",
       "26939   20190408.0              CAD            X2         1.0   \n",
       "33868   20181109.0              CAD            X2         1.0   \n",
       "38640   20190307.0              CAD            X2         1.0   \n",
       "38863   20190315.0              CAD            X2         1.0   \n",
       "39585   20190404.0              CAD            X2         1.0   \n",
       "44848   20181222.0              CAD            X2         1.0   \n",
       "\n",
       "       total_open_amount  baseline_create_date cust_payment_terms  invoice_id  \\\n",
       "26939           27816.00            20190329.0               CA10         NaN   \n",
       "33868             383.64            20181030.0               CA10         NaN   \n",
       "38640            5896.80            20190225.0               CA10         NaN   \n",
       "38863             313.15            20190305.0               CA10         NaN   \n",
       "39585            7812.00            20190325.0               CA10         NaN   \n",
       "44848             628.60            20181212.0               CA10         NaN   \n",
       "\n",
       "       isOpen  \n",
       "26939       0  \n",
       "33868       0  \n",
       "38640       0  \n",
       "38863       0  \n",
       "39585       0  \n",
       "44848       0  "
      ]
     },
     "execution_count": 5,
     "metadata": {},
     "output_type": "execute_result"
    }
   ],
   "source": [
    "\"\"\"\n",
    "We can also observe that there are 6 are rows of invoice_id that are NULL.\n",
    "So let's try to handle that.\n",
    "There is also another column document_id as I have observed that almost all values of the document_id \n",
    "are equal to the invoice_id.\n",
    "Let's verify.\n",
    "\"\"\"\n",
    "invoiceData[invoiceData[\"doc_id\"]-invoiceData[\"invoice_id\"]!=0]"
   ]
  },
  {
   "cell_type": "code",
   "execution_count": 6,
   "metadata": {},
   "outputs": [
    {
     "data": {
      "text/plain": [
       "RV    49994\n",
       "X2        6\n",
       "Name: document type, dtype: int64"
      ]
     },
     "execution_count": 6,
     "metadata": {},
     "output_type": "execute_result"
    }
   ],
   "source": [
    "\"\"\"\n",
    "By this we can infer that those rows that have invoice_id NULL values are the ones that are not equal to the doc_id \n",
    "and it's quite obvious because you can't subtract something from NULL\n",
    "\"\"\"\n",
    "\"\"\"\n",
    "And one more thing we can observe from the data that the document type column. Let's see.\n",
    "\"\"\"\n",
    "invoiceData[\"document type\"].value_counts()"
   ]
  },
  {
   "cell_type": "code",
   "execution_count": 7,
   "metadata": {},
   "outputs": [
    {
     "data": {
      "text/html": [
       "<div>\n",
       "<style scoped>\n",
       "    .dataframe tbody tr th:only-of-type {\n",
       "        vertical-align: middle;\n",
       "    }\n",
       "\n",
       "    .dataframe tbody tr th {\n",
       "        vertical-align: top;\n",
       "    }\n",
       "\n",
       "    .dataframe thead th {\n",
       "        text-align: right;\n",
       "    }\n",
       "</style>\n",
       "<table border=\"1\" class=\"dataframe\">\n",
       "  <thead>\n",
       "    <tr style=\"text-align: right;\">\n",
       "      <th></th>\n",
       "      <th>business_code</th>\n",
       "      <th>cust_number</th>\n",
       "      <th>name_customer</th>\n",
       "      <th>clear_date</th>\n",
       "      <th>buisness_year</th>\n",
       "      <th>doc_id</th>\n",
       "      <th>posting_date</th>\n",
       "      <th>document_create_date.1</th>\n",
       "      <th>due_in_date</th>\n",
       "      <th>invoice_currency</th>\n",
       "      <th>document type</th>\n",
       "      <th>posting_id</th>\n",
       "      <th>total_open_amount</th>\n",
       "      <th>baseline_create_date</th>\n",
       "      <th>cust_payment_terms</th>\n",
       "      <th>invoice_id</th>\n",
       "      <th>isOpen</th>\n",
       "    </tr>\n",
       "  </thead>\n",
       "  <tbody>\n",
       "    <tr>\n",
       "      <th>26939</th>\n",
       "      <td>CA02</td>\n",
       "      <td>0140104223</td>\n",
       "      <td>H Y LO corporation</td>\n",
       "      <td>2019-05-08 00:00:00</td>\n",
       "      <td>2019.0</td>\n",
       "      <td>9.500000e+09</td>\n",
       "      <td>2019-04-30</td>\n",
       "      <td>20190329</td>\n",
       "      <td>20190408.0</td>\n",
       "      <td>CAD</td>\n",
       "      <td>X2</td>\n",
       "      <td>1.0</td>\n",
       "      <td>27816.00</td>\n",
       "      <td>20190329.0</td>\n",
       "      <td>CA10</td>\n",
       "      <td>NaN</td>\n",
       "      <td>0</td>\n",
       "    </tr>\n",
       "    <tr>\n",
       "      <th>33868</th>\n",
       "      <td>CA02</td>\n",
       "      <td>0140104409</td>\n",
       "      <td>LOB</td>\n",
       "      <td>2019-12-27 00:00:00</td>\n",
       "      <td>2019.0</td>\n",
       "      <td>9.500000e+09</td>\n",
       "      <td>2019-03-29</td>\n",
       "      <td>20181030</td>\n",
       "      <td>20181109.0</td>\n",
       "      <td>CAD</td>\n",
       "      <td>X2</td>\n",
       "      <td>1.0</td>\n",
       "      <td>383.64</td>\n",
       "      <td>20181030.0</td>\n",
       "      <td>CA10</td>\n",
       "      <td>NaN</td>\n",
       "      <td>0</td>\n",
       "    </tr>\n",
       "    <tr>\n",
       "      <th>38640</th>\n",
       "      <td>CA02</td>\n",
       "      <td>0140106054</td>\n",
       "      <td>TREE  llc</td>\n",
       "      <td>2019-05-09 00:00:00</td>\n",
       "      <td>2019.0</td>\n",
       "      <td>9.500000e+09</td>\n",
       "      <td>2019-03-29</td>\n",
       "      <td>20190225</td>\n",
       "      <td>20190307.0</td>\n",
       "      <td>CAD</td>\n",
       "      <td>X2</td>\n",
       "      <td>1.0</td>\n",
       "      <td>5896.80</td>\n",
       "      <td>20190225.0</td>\n",
       "      <td>CA10</td>\n",
       "      <td>NaN</td>\n",
       "      <td>0</td>\n",
       "    </tr>\n",
       "    <tr>\n",
       "      <th>38863</th>\n",
       "      <td>CA02</td>\n",
       "      <td>0100030194</td>\n",
       "      <td>AMAZO</td>\n",
       "      <td>2019-12-27 00:00:00</td>\n",
       "      <td>2019.0</td>\n",
       "      <td>9.500000e+09</td>\n",
       "      <td>2019-03-29</td>\n",
       "      <td>20190305</td>\n",
       "      <td>20190315.0</td>\n",
       "      <td>CAD</td>\n",
       "      <td>X2</td>\n",
       "      <td>1.0</td>\n",
       "      <td>313.15</td>\n",
       "      <td>20190305.0</td>\n",
       "      <td>CA10</td>\n",
       "      <td>NaN</td>\n",
       "      <td>0</td>\n",
       "    </tr>\n",
       "    <tr>\n",
       "      <th>39585</th>\n",
       "      <td>CA02</td>\n",
       "      <td>0140106379</td>\n",
       "      <td>QUAL associates</td>\n",
       "      <td>2019-05-08 00:00:00</td>\n",
       "      <td>2019.0</td>\n",
       "      <td>9.500000e+09</td>\n",
       "      <td>2019-04-30</td>\n",
       "      <td>20190325</td>\n",
       "      <td>20190404.0</td>\n",
       "      <td>CAD</td>\n",
       "      <td>X2</td>\n",
       "      <td>1.0</td>\n",
       "      <td>7812.00</td>\n",
       "      <td>20190325.0</td>\n",
       "      <td>CA10</td>\n",
       "      <td>NaN</td>\n",
       "      <td>0</td>\n",
       "    </tr>\n",
       "    <tr>\n",
       "      <th>44848</th>\n",
       "      <td>CA02</td>\n",
       "      <td>0140104409</td>\n",
       "      <td>LOB</td>\n",
       "      <td>2019-12-27 00:00:00</td>\n",
       "      <td>2019.0</td>\n",
       "      <td>9.500000e+09</td>\n",
       "      <td>2019-03-29</td>\n",
       "      <td>20181212</td>\n",
       "      <td>20181222.0</td>\n",
       "      <td>CAD</td>\n",
       "      <td>X2</td>\n",
       "      <td>1.0</td>\n",
       "      <td>628.60</td>\n",
       "      <td>20181212.0</td>\n",
       "      <td>CA10</td>\n",
       "      <td>NaN</td>\n",
       "      <td>0</td>\n",
       "    </tr>\n",
       "  </tbody>\n",
       "</table>\n",
       "</div>"
      ],
      "text/plain": [
       "      business_code cust_number       name_customer           clear_date  \\\n",
       "26939          CA02  0140104223  H Y LO corporation  2019-05-08 00:00:00   \n",
       "33868          CA02  0140104409                LOB   2019-12-27 00:00:00   \n",
       "38640          CA02  0140106054           TREE  llc  2019-05-09 00:00:00   \n",
       "38863          CA02  0100030194              AMAZO   2019-12-27 00:00:00   \n",
       "39585          CA02  0140106379     QUAL associates  2019-05-08 00:00:00   \n",
       "44848          CA02  0140104409                LOB   2019-12-27 00:00:00   \n",
       "\n",
       "       buisness_year        doc_id posting_date  document_create_date.1  \\\n",
       "26939         2019.0  9.500000e+09   2019-04-30                20190329   \n",
       "33868         2019.0  9.500000e+09   2019-03-29                20181030   \n",
       "38640         2019.0  9.500000e+09   2019-03-29                20190225   \n",
       "38863         2019.0  9.500000e+09   2019-03-29                20190305   \n",
       "39585         2019.0  9.500000e+09   2019-04-30                20190325   \n",
       "44848         2019.0  9.500000e+09   2019-03-29                20181212   \n",
       "\n",
       "       due_in_date invoice_currency document type  posting_id  \\\n",
       "26939   20190408.0              CAD            X2         1.0   \n",
       "33868   20181109.0              CAD            X2         1.0   \n",
       "38640   20190307.0              CAD            X2         1.0   \n",
       "38863   20190315.0              CAD            X2         1.0   \n",
       "39585   20190404.0              CAD            X2         1.0   \n",
       "44848   20181222.0              CAD            X2         1.0   \n",
       "\n",
       "       total_open_amount  baseline_create_date cust_payment_terms  invoice_id  \\\n",
       "26939           27816.00            20190329.0               CA10         NaN   \n",
       "33868             383.64            20181030.0               CA10         NaN   \n",
       "38640            5896.80            20190225.0               CA10         NaN   \n",
       "38863             313.15            20190305.0               CA10         NaN   \n",
       "39585            7812.00            20190325.0               CA10         NaN   \n",
       "44848             628.60            20181212.0               CA10         NaN   \n",
       "\n",
       "       isOpen  \n",
       "26939       0  \n",
       "33868       0  \n",
       "38640       0  \n",
       "38863       0  \n",
       "39585       0  \n",
       "44848       0  "
      ]
     },
     "execution_count": 7,
     "metadata": {},
     "output_type": "execute_result"
    }
   ],
   "source": [
    "\"\"\"\n",
    "From this we can see there are only 6 rows that have X2 document type and these are that rows that have invoice_id NULL.\n",
    "Let's Verify.\n",
    "\"\"\"\n",
    "invoiceData[invoiceData[\"document type\"]==\"X2\"]"
   ]
  },
  {
   "cell_type": "code",
   "execution_count": 8,
   "metadata": {},
   "outputs": [],
   "source": [
    "\"\"\"\n",
    "And there we found that where ever there is NULL in invoice_id the document type is X2.\n",
    "So let's frame into one concluding statement for this case :\n",
    "Invoice id has some NULL values.\n",
    "doc_id and invoice_id are same and we can keep anyone of it so let's drop anyone of it to avoid redundant data.\n",
    "As invoice_id has some NULL information. So let's drop invoice_id and and if we drop the invoice_id then the \n",
    "document type X2 will be considered as a rare one as there will be only 6 values of X2 while rest are RV \n",
    "and will be treated as quasi-constant. So we can also drop the document type with invoice_id\n",
    "\"\"\"\n",
    "invoiceData.drop(columns=[\"invoice_id\",\"document type\"],inplace=True)"
   ]
  },
  {
   "cell_type": "code",
   "execution_count": 9,
   "metadata": {},
   "outputs": [],
   "source": [
    "\"\"\"\n",
    "But let's observe one thing, how many unique value does this doc_id has.\n",
    "\"\"\"\n",
    "invoiceData[\"doc_id\"].nunique()\n",
    "\"\"\"\n",
    "By this we can infere that the doc_id is unique so it's just like index or help us to find the \n",
    "particular invoice but in our case it's not useful to keep this. \n",
    "Droping this column will not hamper our data. So let's drop this.\n",
    "\"\"\"\n",
    "invoiceData.drop(columns=[\"doc_id\"],inplace=True)"
   ]
  },
  {
   "cell_type": "code",
   "execution_count": 10,
   "metadata": {
    "scrolled": true
   },
   "outputs": [
    {
     "data": {
      "text/plain": [
       "'\\nFrom this we can infer that all the dates are in object format so first \\nwe have to convert all these dates to datetime format for doing manipulation in them.\\n'"
      ]
     },
     "execution_count": 10,
     "metadata": {},
     "output_type": "execute_result"
    }
   ],
   "source": [
    "\"\"\"\n",
    "Let's check the data types of all the columns.\n",
    "\"\"\"\n",
    "invoiceData.dtypes\n",
    "\"\"\"\n",
    "From this we can infer that all the dates are in object format so first \n",
    "we have to convert all these dates to datetime format for doing manipulation in them.\n",
    "\"\"\""
   ]
  },
  {
   "cell_type": "code",
   "execution_count": 11,
   "metadata": {
    "scrolled": true
   },
   "outputs": [
    {
     "data": {
      "text/plain": [
       "business_code                     object\n",
       "cust_number                       object\n",
       "name_customer                     object\n",
       "clear_date                datetime64[ns]\n",
       "buisness_year                    float64\n",
       "posting_date              datetime64[ns]\n",
       "document_create_date.1    datetime64[ns]\n",
       "due_in_date               datetime64[ns]\n",
       "invoice_currency                  object\n",
       "posting_id                       float64\n",
       "total_open_amount                float64\n",
       "baseline_create_date      datetime64[ns]\n",
       "cust_payment_terms                object\n",
       "isOpen                             int64\n",
       "dtype: object"
      ]
     },
     "execution_count": 11,
     "metadata": {},
     "output_type": "execute_result"
    }
   ],
   "source": [
    "invoiceData['posting_date']= pd.to_datetime(invoiceData['posting_date'],format=\"%Y-%m-%d\")\n",
    "invoiceData['document_create_date.1']= pd.to_datetime(invoiceData['document_create_date.1'],format=\"%Y%m%d\")\n",
    "invoiceData['due_in_date']= pd.to_datetime(invoiceData['due_in_date'],format=\"%Y%m%d\")\n",
    "invoiceData['baseline_create_date']= pd.to_datetime(invoiceData['baseline_create_date'],format=\"%Y%m%d\")\n",
    "invoiceData['clear_date']= pd.to_datetime(invoiceData['clear_date'],format=\"%Y-%m-%d %H:%M:%S\")\n",
    "\"\"\"\n",
    "to_datetime function converts string datetime into datetime object.\n",
    "\"\"\"\n",
    "\"\"\"\n",
    "Let's verify that the data type of the date columns are converted or not.\n",
    "\"\"\"\n",
    "invoiceData.dtypes"
   ]
  },
  {
   "cell_type": "code",
   "execution_count": 12,
   "metadata": {},
   "outputs": [
    {
     "data": {
      "text/plain": [
       "2019    40435\n",
       "2020     9565\n",
       "Name: buisness_year, dtype: int64"
      ]
     },
     "execution_count": 12,
     "metadata": {},
     "output_type": "execute_result"
    }
   ],
   "source": [
    "\"\"\"\n",
    "One more thing we can see that buisness_year is in float so we will convert it into integer format.\n",
    "It will not effect something but it will look good.\n",
    "\"\"\"\n",
    "invoiceData[\"buisness_year\"]=invoiceData[\"buisness_year\"].astype(\"int64\")\n",
    "\"\"\"\n",
    "Let's see how many unique values are there for buisness_year\n",
    "\"\"\"\n",
    "invoiceData[\"buisness_year\"].value_counts()"
   ]
  },
  {
   "cell_type": "code",
   "execution_count": 13,
   "metadata": {
    "scrolled": true
   },
   "outputs": [
    {
     "name": "stdout",
     "output_type": "stream",
     "text": [
      "USD    46030\n",
      "CAD     3970\n",
      "Name: invoice_currency, dtype: int64\n"
     ]
    },
    {
     "data": {
      "text/html": [
       "<div>\n",
       "<style scoped>\n",
       "    .dataframe tbody tr th:only-of-type {\n",
       "        vertical-align: middle;\n",
       "    }\n",
       "\n",
       "    .dataframe tbody tr th {\n",
       "        vertical-align: top;\n",
       "    }\n",
       "\n",
       "    .dataframe thead th {\n",
       "        text-align: right;\n",
       "    }\n",
       "</style>\n",
       "<table border=\"1\" class=\"dataframe\">\n",
       "  <thead>\n",
       "    <tr style=\"text-align: right;\">\n",
       "      <th></th>\n",
       "      <th>business_code</th>\n",
       "      <th>cust_number</th>\n",
       "      <th>name_customer</th>\n",
       "      <th>clear_date</th>\n",
       "      <th>buisness_year</th>\n",
       "      <th>posting_date</th>\n",
       "      <th>document_create_date.1</th>\n",
       "      <th>due_in_date</th>\n",
       "      <th>invoice_currency</th>\n",
       "      <th>posting_id</th>\n",
       "      <th>total_open_amount</th>\n",
       "      <th>baseline_create_date</th>\n",
       "      <th>cust_payment_terms</th>\n",
       "      <th>isOpen</th>\n",
       "    </tr>\n",
       "  </thead>\n",
       "  <tbody>\n",
       "    <tr>\n",
       "      <th>0</th>\n",
       "      <td>U001</td>\n",
       "      <td>200769623</td>\n",
       "      <td>WAL-MAR trust</td>\n",
       "      <td>2019-07-29</td>\n",
       "      <td>2019</td>\n",
       "      <td>2019-07-17</td>\n",
       "      <td>2019-07-17</td>\n",
       "      <td>2019-08-01</td>\n",
       "      <td>USD</td>\n",
       "      <td>1.0</td>\n",
       "      <td>14777.25</td>\n",
       "      <td>2019-07-17</td>\n",
       "      <td>NAH4</td>\n",
       "      <td>0</td>\n",
       "    </tr>\n",
       "    <tr>\n",
       "      <th>1</th>\n",
       "      <td>U001</td>\n",
       "      <td>0200726979</td>\n",
       "      <td>BJ'S  us</td>\n",
       "      <td>2019-08-01</td>\n",
       "      <td>2019</td>\n",
       "      <td>2019-07-17</td>\n",
       "      <td>2019-07-17</td>\n",
       "      <td>2019-08-01</td>\n",
       "      <td>USD</td>\n",
       "      <td>1.0</td>\n",
       "      <td>454.27</td>\n",
       "      <td>2019-07-17</td>\n",
       "      <td>NAA8</td>\n",
       "      <td>0</td>\n",
       "    </tr>\n",
       "    <tr>\n",
       "      <th>2</th>\n",
       "      <td>U001</td>\n",
       "      <td>0200875006</td>\n",
       "      <td>KROGER co</td>\n",
       "      <td>2019-12-09</td>\n",
       "      <td>2019</td>\n",
       "      <td>2019-11-24</td>\n",
       "      <td>2019-11-24</td>\n",
       "      <td>2019-12-09</td>\n",
       "      <td>USD</td>\n",
       "      <td>1.0</td>\n",
       "      <td>117929.61</td>\n",
       "      <td>2019-11-24</td>\n",
       "      <td>NAA8</td>\n",
       "      <td>0</td>\n",
       "    </tr>\n",
       "    <tr>\n",
       "      <th>3</th>\n",
       "      <td>U001</td>\n",
       "      <td>0200331749</td>\n",
       "      <td>SYSC in</td>\n",
       "      <td>2019-08-09</td>\n",
       "      <td>2019</td>\n",
       "      <td>2019-07-24</td>\n",
       "      <td>2019-07-24</td>\n",
       "      <td>2019-08-08</td>\n",
       "      <td>USD</td>\n",
       "      <td>1.0</td>\n",
       "      <td>5380.53</td>\n",
       "      <td>2019-07-24</td>\n",
       "      <td>NAA8</td>\n",
       "      <td>0</td>\n",
       "    </tr>\n",
       "    <tr>\n",
       "      <th>4</th>\n",
       "      <td>U001</td>\n",
       "      <td>0200795490</td>\n",
       "      <td>HY -  foundation</td>\n",
       "      <td>2019-11-18</td>\n",
       "      <td>2019</td>\n",
       "      <td>2019-10-05</td>\n",
       "      <td>2019-10-05</td>\n",
       "      <td>2019-11-14</td>\n",
       "      <td>USD</td>\n",
       "      <td>1.0</td>\n",
       "      <td>4825.26</td>\n",
       "      <td>2019-10-05</td>\n",
       "      <td>NAWU</td>\n",
       "      <td>0</td>\n",
       "    </tr>\n",
       "  </tbody>\n",
       "</table>\n",
       "</div>"
      ],
      "text/plain": [
       "  business_code cust_number     name_customer clear_date  buisness_year  \\\n",
       "0          U001   200769623     WAL-MAR trust 2019-07-29           2019   \n",
       "1          U001  0200726979          BJ'S  us 2019-08-01           2019   \n",
       "2          U001  0200875006         KROGER co 2019-12-09           2019   \n",
       "3          U001  0200331749           SYSC in 2019-08-09           2019   \n",
       "4          U001  0200795490  HY -  foundation 2019-11-18           2019   \n",
       "\n",
       "  posting_date document_create_date.1 due_in_date invoice_currency  \\\n",
       "0   2019-07-17             2019-07-17  2019-08-01              USD   \n",
       "1   2019-07-17             2019-07-17  2019-08-01              USD   \n",
       "2   2019-11-24             2019-11-24  2019-12-09              USD   \n",
       "3   2019-07-24             2019-07-24  2019-08-08              USD   \n",
       "4   2019-10-05             2019-10-05  2019-11-14              USD   \n",
       "\n",
       "   posting_id  total_open_amount baseline_create_date cust_payment_terms  \\\n",
       "0         1.0           14777.25           2019-07-17               NAH4   \n",
       "1         1.0             454.27           2019-07-17               NAA8   \n",
       "2         1.0          117929.61           2019-11-24               NAA8   \n",
       "3         1.0            5380.53           2019-07-24               NAA8   \n",
       "4         1.0            4825.26           2019-10-05               NAWU   \n",
       "\n",
       "   isOpen  \n",
       "0       0  \n",
       "1       0  \n",
       "2       0  \n",
       "3       0  \n",
       "4       0  "
      ]
     },
     "execution_count": 13,
     "metadata": {},
     "output_type": "execute_result"
    }
   ],
   "source": [
    "\"\"\"\n",
    "Now let's say how many unique currency we have like USD, INR, CAD etc.\n",
    "\"\"\"\n",
    "print(invoiceData[\"invoice_currency\"].value_counts())\n",
    "\"\"\"\n",
    "Here, we can see that we have only 2 currency USD and CAD.\n",
    "So, we will convert the one currency to other to make our data normalise.\n",
    "\"\"\"\n",
    "invoiceData.loc[invoiceData[\"invoice_currency\"] == \"CAD\", \"total_open_amount\"] = 0.78*invoiceData[\"total_open_amount\"]\n",
    "\"\"\"\n",
    "By this we can observe that, all the currency will be converted to USD as we have taken the conversion rate as \n",
    "1 CAD= 0.78 USD\n",
    "So by this we can infer that the invoice_currency will not give any significant factor to us right now as all things have been converted to a single currency.\n",
    "We can also convert it into CAD by having the conversion rate as 1 USD= 1.28 CAD:\n",
    "\n",
    "invoiceData.loc[invoiceData[\"invoice_currency\"] == \"USD\", \"total_open_amount\"] = 1.28*invoiceData[\"total_open_amount\"]\n",
    "\n",
    "\"\"\"\n",
    "invoiceData.head()"
   ]
  },
  {
   "cell_type": "code",
   "execution_count": 14,
   "metadata": {
    "scrolled": true
   },
   "outputs": [
    {
     "data": {
      "text/plain": [
       "1.0    50000\n",
       "Name: posting_id, dtype: int64"
      ]
     },
     "execution_count": 14,
     "metadata": {},
     "output_type": "execute_result"
    }
   ],
   "source": [
    "\"\"\"\n",
    "Let's observe the posting id. How many unique value does this posting_id.\n",
    "\"\"\"\n",
    "invoiceData[\"posting_id\"].value_counts()"
   ]
  },
  {
   "cell_type": "code",
   "execution_count": 15,
   "metadata": {},
   "outputs": [],
   "source": [
    "\"\"\"\n",
    "As we have seen, the whole column posting_id is having one value that is 1 and it's a constant column.\n",
    "So we can remove this column as it will not provide any information to our model.\n",
    "Let's drop the invoice_currency as all amount are converted into a single currency and this posting_id.\n",
    "\"\"\"\n",
    "invoiceData.drop(columns=[\"invoice_currency\",\"posting_id\"],inplace=True)"
   ]
  },
  {
   "cell_type": "code",
   "execution_count": 16,
   "metadata": {},
   "outputs": [
    {
     "data": {
      "text/html": [
       "<div>\n",
       "<style scoped>\n",
       "    .dataframe tbody tr th:only-of-type {\n",
       "        vertical-align: middle;\n",
       "    }\n",
       "\n",
       "    .dataframe tbody tr th {\n",
       "        vertical-align: top;\n",
       "    }\n",
       "\n",
       "    .dataframe thead th {\n",
       "        text-align: right;\n",
       "    }\n",
       "</style>\n",
       "<table border=\"1\" class=\"dataframe\">\n",
       "  <thead>\n",
       "    <tr style=\"text-align: right;\">\n",
       "      <th></th>\n",
       "      <th>business_code</th>\n",
       "      <th>cust_number</th>\n",
       "      <th>name_customer</th>\n",
       "      <th>clear_date</th>\n",
       "      <th>buisness_year</th>\n",
       "      <th>posting_date</th>\n",
       "      <th>document_create_date.1</th>\n",
       "      <th>due_in_date</th>\n",
       "      <th>total_open_amount</th>\n",
       "      <th>baseline_create_date</th>\n",
       "      <th>cust_payment_terms</th>\n",
       "      <th>isOpen</th>\n",
       "    </tr>\n",
       "  </thead>\n",
       "  <tbody>\n",
       "    <tr>\n",
       "      <th>0</th>\n",
       "      <td>U001</td>\n",
       "      <td>200769623</td>\n",
       "      <td>WAL-MAR trust</td>\n",
       "      <td>2019-07-29</td>\n",
       "      <td>2019</td>\n",
       "      <td>2019-07-17</td>\n",
       "      <td>2019-07-17</td>\n",
       "      <td>2019-08-01</td>\n",
       "      <td>14777.25</td>\n",
       "      <td>2019-07-17</td>\n",
       "      <td>NAH4</td>\n",
       "      <td>0</td>\n",
       "    </tr>\n",
       "    <tr>\n",
       "      <th>1</th>\n",
       "      <td>U001</td>\n",
       "      <td>0200726979</td>\n",
       "      <td>BJ'S  us</td>\n",
       "      <td>2019-08-01</td>\n",
       "      <td>2019</td>\n",
       "      <td>2019-07-17</td>\n",
       "      <td>2019-07-17</td>\n",
       "      <td>2019-08-01</td>\n",
       "      <td>454.27</td>\n",
       "      <td>2019-07-17</td>\n",
       "      <td>NAA8</td>\n",
       "      <td>0</td>\n",
       "    </tr>\n",
       "    <tr>\n",
       "      <th>2</th>\n",
       "      <td>U001</td>\n",
       "      <td>0200875006</td>\n",
       "      <td>KROGER co</td>\n",
       "      <td>2019-12-09</td>\n",
       "      <td>2019</td>\n",
       "      <td>2019-11-24</td>\n",
       "      <td>2019-11-24</td>\n",
       "      <td>2019-12-09</td>\n",
       "      <td>117929.61</td>\n",
       "      <td>2019-11-24</td>\n",
       "      <td>NAA8</td>\n",
       "      <td>0</td>\n",
       "    </tr>\n",
       "    <tr>\n",
       "      <th>3</th>\n",
       "      <td>U001</td>\n",
       "      <td>0200331749</td>\n",
       "      <td>SYSC in</td>\n",
       "      <td>2019-08-09</td>\n",
       "      <td>2019</td>\n",
       "      <td>2019-07-24</td>\n",
       "      <td>2019-07-24</td>\n",
       "      <td>2019-08-08</td>\n",
       "      <td>5380.53</td>\n",
       "      <td>2019-07-24</td>\n",
       "      <td>NAA8</td>\n",
       "      <td>0</td>\n",
       "    </tr>\n",
       "    <tr>\n",
       "      <th>4</th>\n",
       "      <td>U001</td>\n",
       "      <td>0200795490</td>\n",
       "      <td>HY -  foundation</td>\n",
       "      <td>2019-11-18</td>\n",
       "      <td>2019</td>\n",
       "      <td>2019-10-05</td>\n",
       "      <td>2019-10-05</td>\n",
       "      <td>2019-11-14</td>\n",
       "      <td>4825.26</td>\n",
       "      <td>2019-10-05</td>\n",
       "      <td>NAWU</td>\n",
       "      <td>0</td>\n",
       "    </tr>\n",
       "  </tbody>\n",
       "</table>\n",
       "</div>"
      ],
      "text/plain": [
       "  business_code cust_number     name_customer clear_date  buisness_year  \\\n",
       "0          U001   200769623     WAL-MAR trust 2019-07-29           2019   \n",
       "1          U001  0200726979          BJ'S  us 2019-08-01           2019   \n",
       "2          U001  0200875006         KROGER co 2019-12-09           2019   \n",
       "3          U001  0200331749           SYSC in 2019-08-09           2019   \n",
       "4          U001  0200795490  HY -  foundation 2019-11-18           2019   \n",
       "\n",
       "  posting_date document_create_date.1 due_in_date  total_open_amount  \\\n",
       "0   2019-07-17             2019-07-17  2019-08-01           14777.25   \n",
       "1   2019-07-17             2019-07-17  2019-08-01             454.27   \n",
       "2   2019-11-24             2019-11-24  2019-12-09          117929.61   \n",
       "3   2019-07-24             2019-07-24  2019-08-08            5380.53   \n",
       "4   2019-10-05             2019-10-05  2019-11-14            4825.26   \n",
       "\n",
       "  baseline_create_date cust_payment_terms  isOpen  \n",
       "0           2019-07-17               NAH4       0  \n",
       "1           2019-07-17               NAA8       0  \n",
       "2           2019-11-24               NAA8       0  \n",
       "3           2019-07-24               NAA8       0  \n",
       "4           2019-10-05               NAWU       0  "
      ]
     },
     "execution_count": 16,
     "metadata": {},
     "output_type": "execute_result"
    }
   ],
   "source": [
    "invoiceData.head()"
   ]
  },
  {
   "cell_type": "code",
   "execution_count": 17,
   "metadata": {
    "scrolled": true
   },
   "outputs": [
    {
     "data": {
      "text/plain": [
       "business_code                     object\n",
       "cust_number                       object\n",
       "name_customer                     object\n",
       "clear_date                datetime64[ns]\n",
       "buisness_year                      int64\n",
       "posting_date              datetime64[ns]\n",
       "document_create_date.1    datetime64[ns]\n",
       "due_in_date               datetime64[ns]\n",
       "total_open_amount                float64\n",
       "baseline_create_date      datetime64[ns]\n",
       "cust_payment_terms                object\n",
       "isOpen                             int64\n",
       "dtype: object"
      ]
     },
     "execution_count": 17,
     "metadata": {},
     "output_type": "execute_result"
    }
   ],
   "source": [
    "invoiceData.dtypes"
   ]
  },
  {
   "cell_type": "markdown",
   "metadata": {},
   "source": [
    "As we have already seen, there are 3326 rows that have NULL values in their clear_date column it means we have to predict those values so let's keep those values in seperate dataframe and not touch them."
   ]
  },
  {
   "cell_type": "markdown",
   "metadata": {},
   "source": [
    "Now Let's craete <b>two</b> dataframes: <br>\n",
    "<b>1) train_invoiceData</b><br>\n",
    "<b>2) test_invoiceData</b><br>\n",
    "train_invoiceData: will be the dataframe where we will train,test,val and predict our accuracy and all.<br>\n",
    "test_invoiceData: it will predict our final output that we desire that is the clear date of those NULL values and then we have to bucketize those values in specific range of buckets.<br>"
   ]
  },
  {
   "cell_type": "code",
   "execution_count": 18,
   "metadata": {},
   "outputs": [],
   "source": [
    "\"\"\"\n",
    "There is a column which tell about that our payment is done or not i.e. isOpen. \n",
    "By seeing this column we can infer that the rows having isOpen is equal to one are those that have clear date equal to NULL \n",
    "as they haven't paid their dues yet.\n",
    "\"\"\"\n",
    "\n",
    "test_invoiceData=invoiceData[invoiceData[\"isOpen\"]==1]\n",
    "train_invoiceData=invoiceData[invoiceData[\"isOpen\"]==0]"
   ]
  },
  {
   "cell_type": "code",
   "execution_count": 19,
   "metadata": {},
   "outputs": [],
   "source": [
    "\"\"\"\n",
    "The index will be not in order so let's make the index correct.\n",
    "\"\"\"\n",
    "test_invoiceData.reset_index(drop=True,inplace=True)\n",
    "train_invoiceData.reset_index(drop=True,inplace=True)"
   ]
  },
  {
   "cell_type": "markdown",
   "metadata": {},
   "source": [
    "Now we will make our target column that will be the <b>No. of Day's Delayed</b> in clearing dues.<br>\n",
    "It can be either positive or negative depending upon the customer.<br>\n",
    "Let's say if customer has paid their dues before due_date then it will be negative and it will not be an anamoly."
   ]
  },
  {
   "cell_type": "code",
   "execution_count": 20,
   "metadata": {},
   "outputs": [],
   "source": [
    "train_invoiceData[\"delay\"]=(train_invoiceData[\"clear_date\"]-train_invoiceData[\"due_in_date\"]).dt.days"
   ]
  },
  {
   "cell_type": "code",
   "execution_count": 21,
   "metadata": {},
   "outputs": [
    {
     "data": {
      "text/html": [
       "<div>\n",
       "<style scoped>\n",
       "    .dataframe tbody tr th:only-of-type {\n",
       "        vertical-align: middle;\n",
       "    }\n",
       "\n",
       "    .dataframe tbody tr th {\n",
       "        vertical-align: top;\n",
       "    }\n",
       "\n",
       "    .dataframe thead th {\n",
       "        text-align: right;\n",
       "    }\n",
       "</style>\n",
       "<table border=\"1\" class=\"dataframe\">\n",
       "  <thead>\n",
       "    <tr style=\"text-align: right;\">\n",
       "      <th></th>\n",
       "      <th>business_code</th>\n",
       "      <th>cust_number</th>\n",
       "      <th>name_customer</th>\n",
       "      <th>clear_date</th>\n",
       "      <th>buisness_year</th>\n",
       "      <th>posting_date</th>\n",
       "      <th>document_create_date.1</th>\n",
       "      <th>due_in_date</th>\n",
       "      <th>total_open_amount</th>\n",
       "      <th>baseline_create_date</th>\n",
       "      <th>cust_payment_terms</th>\n",
       "      <th>isOpen</th>\n",
       "      <th>delay</th>\n",
       "    </tr>\n",
       "  </thead>\n",
       "  <tbody>\n",
       "    <tr>\n",
       "      <th>0</th>\n",
       "      <td>U001</td>\n",
       "      <td>200769623</td>\n",
       "      <td>WAL-MAR trust</td>\n",
       "      <td>2019-07-29</td>\n",
       "      <td>2019</td>\n",
       "      <td>2019-07-17</td>\n",
       "      <td>2019-07-17</td>\n",
       "      <td>2019-08-01</td>\n",
       "      <td>14777.25</td>\n",
       "      <td>2019-07-17</td>\n",
       "      <td>NAH4</td>\n",
       "      <td>0</td>\n",
       "      <td>-3</td>\n",
       "    </tr>\n",
       "    <tr>\n",
       "      <th>1</th>\n",
       "      <td>U001</td>\n",
       "      <td>0200726979</td>\n",
       "      <td>BJ'S  us</td>\n",
       "      <td>2019-08-01</td>\n",
       "      <td>2019</td>\n",
       "      <td>2019-07-17</td>\n",
       "      <td>2019-07-17</td>\n",
       "      <td>2019-08-01</td>\n",
       "      <td>454.27</td>\n",
       "      <td>2019-07-17</td>\n",
       "      <td>NAA8</td>\n",
       "      <td>0</td>\n",
       "      <td>0</td>\n",
       "    </tr>\n",
       "    <tr>\n",
       "      <th>2</th>\n",
       "      <td>U001</td>\n",
       "      <td>0200875006</td>\n",
       "      <td>KROGER co</td>\n",
       "      <td>2019-12-09</td>\n",
       "      <td>2019</td>\n",
       "      <td>2019-11-24</td>\n",
       "      <td>2019-11-24</td>\n",
       "      <td>2019-12-09</td>\n",
       "      <td>117929.61</td>\n",
       "      <td>2019-11-24</td>\n",
       "      <td>NAA8</td>\n",
       "      <td>0</td>\n",
       "      <td>0</td>\n",
       "    </tr>\n",
       "    <tr>\n",
       "      <th>3</th>\n",
       "      <td>U001</td>\n",
       "      <td>0200331749</td>\n",
       "      <td>SYSC in</td>\n",
       "      <td>2019-08-09</td>\n",
       "      <td>2019</td>\n",
       "      <td>2019-07-24</td>\n",
       "      <td>2019-07-24</td>\n",
       "      <td>2019-08-08</td>\n",
       "      <td>5380.53</td>\n",
       "      <td>2019-07-24</td>\n",
       "      <td>NAA8</td>\n",
       "      <td>0</td>\n",
       "      <td>1</td>\n",
       "    </tr>\n",
       "    <tr>\n",
       "      <th>4</th>\n",
       "      <td>U001</td>\n",
       "      <td>0200795490</td>\n",
       "      <td>HY -  foundation</td>\n",
       "      <td>2019-11-18</td>\n",
       "      <td>2019</td>\n",
       "      <td>2019-10-05</td>\n",
       "      <td>2019-10-05</td>\n",
       "      <td>2019-11-14</td>\n",
       "      <td>4825.26</td>\n",
       "      <td>2019-10-05</td>\n",
       "      <td>NAWU</td>\n",
       "      <td>0</td>\n",
       "      <td>4</td>\n",
       "    </tr>\n",
       "  </tbody>\n",
       "</table>\n",
       "</div>"
      ],
      "text/plain": [
       "  business_code cust_number     name_customer clear_date  buisness_year  \\\n",
       "0          U001   200769623     WAL-MAR trust 2019-07-29           2019   \n",
       "1          U001  0200726979          BJ'S  us 2019-08-01           2019   \n",
       "2          U001  0200875006         KROGER co 2019-12-09           2019   \n",
       "3          U001  0200331749           SYSC in 2019-08-09           2019   \n",
       "4          U001  0200795490  HY -  foundation 2019-11-18           2019   \n",
       "\n",
       "  posting_date document_create_date.1 due_in_date  total_open_amount  \\\n",
       "0   2019-07-17             2019-07-17  2019-08-01           14777.25   \n",
       "1   2019-07-17             2019-07-17  2019-08-01             454.27   \n",
       "2   2019-11-24             2019-11-24  2019-12-09          117929.61   \n",
       "3   2019-07-24             2019-07-24  2019-08-08            5380.53   \n",
       "4   2019-10-05             2019-10-05  2019-11-14            4825.26   \n",
       "\n",
       "  baseline_create_date cust_payment_terms  isOpen  delay  \n",
       "0           2019-07-17               NAH4       0     -3  \n",
       "1           2019-07-17               NAA8       0      0  \n",
       "2           2019-11-24               NAA8       0      0  \n",
       "3           2019-07-24               NAA8       0      1  \n",
       "4           2019-10-05               NAWU       0      4  "
      ]
     },
     "execution_count": 21,
     "metadata": {},
     "output_type": "execute_result"
    }
   ],
   "source": [
    "train_invoiceData.head()"
   ]
  },
  {
   "cell_type": "code",
   "execution_count": 22,
   "metadata": {},
   "outputs": [],
   "source": [
    "\"\"\"\n",
    "Now let's observe how many delay's are positive or negative to have a rough idea about our whole data.\n",
    "\"\"\"\n",
    "delay_list=train_invoiceData['delay'].value_counts().index.tolist()\n",
    "pos_delay, neg_delay = 0, 0\n",
    "for num in delay_list: \n",
    "    if num >= 0: \n",
    "        pos_delay += 1\n",
    "    else :\n",
    "        neg_delay += 1"
   ]
  },
  {
   "cell_type": "code",
   "execution_count": 23,
   "metadata": {
    "scrolled": true
   },
   "outputs": [
    {
     "data": {
      "image/png": "[encoded data removed]",
      "text/plain": [
       "<Figure size 720x360 with 1 Axes>"
      ]
     },
     "metadata": {},
     "output_type": "display_data"
    }
   ],
   "source": [
    "\"\"\"\n",
    "Now let's plot this and visualise it.\n",
    "\"\"\"\n",
    "sns.set_style(style=\"whitegrid\")\n",
    "fig_dims = (10,5)\n",
    "fig, ax = plt.subplots(figsize=fig_dims)\n",
    "x = ['pos_count','neg_count']\n",
    "y = [pos_delay, neg_delay]\n",
    "sns.barplot(x, y, ax=ax)\n",
    "plt.show()"
   ]
  },
  {
   "cell_type": "markdown",
   "metadata": {},
   "source": [
    "Via graph we can observe that there are more customers who pay their dues after the due_date."
   ]
  },
  {
   "cell_type": "code",
   "execution_count": 24,
   "metadata": {},
   "outputs": [
    {
     "name": "stdout",
     "output_type": "stream",
     "text": [
      "62.77  percent of customer haven't paid their dues on time\n",
      "37.23 percent of customer have paid their dues before time\n"
     ]
    }
   ],
   "source": [
    "print(round(pos_delay/(pos_delay+neg_delay)*100,2),\" percent of customer haven't paid their dues on time\")\n",
    "print(round(neg_delay/(pos_delay+neg_delay)*100,2),\"percent of customer have paid their dues before time\")"
   ]
  },
  {
   "cell_type": "code",
   "execution_count": 25,
   "metadata": {},
   "outputs": [
    {
     "data": {
      "text/plain": [
       "0        False\n",
       "12782     True\n",
       "dtype: bool"
      ]
     },
     "execution_count": 25,
     "metadata": {},
     "output_type": "execute_result"
    }
   ],
   "source": [
    "\"\"\"\n",
    "Let's check that we don't have any duplicate rows. If found keep the first one and then drop the rest.\n",
    "\"\"\"\n",
    "duplicate_check=train_invoiceData.duplicated()\n",
    "duplicate_check\n",
    "duplicate_check.drop_duplicates(keep='first')\n",
    "# So by this it infere that there are no rows which are exactly alike."
   ]
  },
  {
   "cell_type": "markdown",
   "metadata": {},
   "source": [
    "Now let's remove the anamolies in the dataset that we can find.<br>\n",
    "This is the sequence that should be followed.<br>\n",
    "<b>document_create_date.1 <= posting_date <= baseline_create_date <= due_in_date <= clear_date</b><br>\n",
    "Due date will be greater than clearing date incase of negative delay.<br>\n",
    "Apart from these cases everything else is an anomaly and should be removed.<br>"
   ]
  },
  {
   "cell_type": "code",
   "execution_count": 26,
   "metadata": {},
   "outputs": [
    {
     "name": "stdout",
     "output_type": "stream",
     "text": [
      "(0, 13)\n"
     ]
    }
   ],
   "source": [
    "print(train_invoiceData[train_invoiceData[\"document_create_date.1\"]>train_invoiceData[\"posting_date\"]].shape)\n",
    "train_invoiceData.drop(train_invoiceData[train_invoiceData[\"document_create_date.1\"]>train_invoiceData[\"posting_date\"]].index,inplace=True)"
   ]
  },
  {
   "cell_type": "code",
   "execution_count": 27,
   "metadata": {},
   "outputs": [
    {
     "name": "stdout",
     "output_type": "stream",
     "text": [
      "(2037, 13)\n"
     ]
    }
   ],
   "source": [
    "print(train_invoiceData[train_invoiceData[\"document_create_date.1\"]>train_invoiceData[\"baseline_create_date\"]].shape)\n",
    "train_invoiceData.drop(train_invoiceData[train_invoiceData[\"document_create_date.1\"]>train_invoiceData[\"baseline_create_date\"]].index,inplace=True)"
   ]
  },
  {
   "cell_type": "code",
   "execution_count": 28,
   "metadata": {},
   "outputs": [
    {
     "name": "stdout",
     "output_type": "stream",
     "text": [
      "(0, 13)\n"
     ]
    }
   ],
   "source": [
    "print(train_invoiceData[train_invoiceData[\"document_create_date.1\"]>train_invoiceData[\"due_in_date\"]].shape)\n",
    "train_invoiceData.drop(train_invoiceData[train_invoiceData[\"document_create_date.1\"]>train_invoiceData[\"due_in_date\"]].index,inplace=True)"
   ]
  },
  {
   "cell_type": "code",
   "execution_count": 29,
   "metadata": {},
   "outputs": [
    {
     "name": "stdout",
     "output_type": "stream",
     "text": [
      "(0, 13)\n"
     ]
    }
   ],
   "source": [
    "print(train_invoiceData[train_invoiceData[\"document_create_date.1\"]>train_invoiceData[\"clear_date\"]].shape)\n",
    "train_invoiceData.drop(train_invoiceData[train_invoiceData[\"document_create_date.1\"]>train_invoiceData[\"clear_date\"]].index,inplace=True)"
   ]
  },
  {
   "cell_type": "code",
   "execution_count": 30,
   "metadata": {},
   "outputs": [
    {
     "name": "stdout",
     "output_type": "stream",
     "text": [
      "(6, 13)\n"
     ]
    }
   ],
   "source": [
    "print(train_invoiceData[train_invoiceData[\"posting_date\"]>train_invoiceData[\"baseline_create_date\"]].shape)\n",
    "train_invoiceData.drop(train_invoiceData[train_invoiceData[\"posting_date\"]>train_invoiceData[\"baseline_create_date\"]].index,inplace=True)"
   ]
  },
  {
   "cell_type": "code",
   "execution_count": 31,
   "metadata": {},
   "outputs": [
    {
     "name": "stdout",
     "output_type": "stream",
     "text": [
      "(0, 13)\n"
     ]
    }
   ],
   "source": [
    "print(train_invoiceData[train_invoiceData[\"posting_date\"]>train_invoiceData[\"due_in_date\"]].shape)\n",
    "train_invoiceData.drop(train_invoiceData[train_invoiceData[\"posting_date\"]>train_invoiceData[\"due_in_date\"]].index,inplace=True)"
   ]
  },
  {
   "cell_type": "code",
   "execution_count": 32,
   "metadata": {},
   "outputs": [
    {
     "name": "stdout",
     "output_type": "stream",
     "text": [
      "(0, 13)\n"
     ]
    }
   ],
   "source": [
    "print(train_invoiceData[train_invoiceData[\"posting_date\"]>train_invoiceData[\"clear_date\"]].shape)\n",
    "train_invoiceData.drop(train_invoiceData[train_invoiceData[\"posting_date\"]>train_invoiceData[\"clear_date\"]].index,inplace=True)"
   ]
  },
  {
   "cell_type": "code",
   "execution_count": 33,
   "metadata": {
    "scrolled": true
   },
   "outputs": [
    {
     "name": "stdout",
     "output_type": "stream",
     "text": [
      "(0, 13)\n"
     ]
    }
   ],
   "source": [
    "print(train_invoiceData[train_invoiceData[\"baseline_create_date\"]>train_invoiceData[\"due_in_date\"]].shape)\n",
    "train_invoiceData.drop(train_invoiceData[train_invoiceData[\"baseline_create_date\"]>train_invoiceData[\"due_in_date\"]].index,inplace=True)"
   ]
  },
  {
   "cell_type": "code",
   "execution_count": 34,
   "metadata": {},
   "outputs": [
    {
     "data": {
      "text/plain": [
       "(44631, 13)"
      ]
     },
     "execution_count": 34,
     "metadata": {},
     "output_type": "execute_result"
    }
   ],
   "source": [
    "train_invoiceData.shape"
   ]
  },
  {
   "cell_type": "markdown",
   "metadata": {},
   "source": [
    "Let's test all these conditions for our test data too."
   ]
  },
  {
   "cell_type": "code",
   "execution_count": 35,
   "metadata": {},
   "outputs": [
    {
     "name": "stdout",
     "output_type": "stream",
     "text": [
      "(0, 12)\n"
     ]
    }
   ],
   "source": [
    "print(test_invoiceData[test_invoiceData[\"document_create_date.1\"]>test_invoiceData[\"posting_date\"]].shape)\n",
    "test_invoiceData.drop(test_invoiceData[test_invoiceData[\"document_create_date.1\"]>test_invoiceData[\"posting_date\"]].index,inplace=True)"
   ]
  },
  {
   "cell_type": "code",
   "execution_count": 36,
   "metadata": {},
   "outputs": [
    {
     "name": "stdout",
     "output_type": "stream",
     "text": [
      "(113, 12)\n"
     ]
    }
   ],
   "source": [
    "print(test_invoiceData[test_invoiceData[\"document_create_date.1\"]>test_invoiceData[\"baseline_create_date\"]].shape)\n",
    "test_invoiceData.drop(test_invoiceData[test_invoiceData[\"document_create_date.1\"]>test_invoiceData[\"baseline_create_date\"]].index,inplace=True)"
   ]
  },
  {
   "cell_type": "code",
   "execution_count": 37,
   "metadata": {},
   "outputs": [
    {
     "name": "stdout",
     "output_type": "stream",
     "text": [
      "(0, 12)\n"
     ]
    }
   ],
   "source": [
    "print(test_invoiceData[test_invoiceData[\"document_create_date.1\"]>test_invoiceData[\"due_in_date\"]].shape)\n",
    "test_invoiceData.drop(test_invoiceData[test_invoiceData[\"document_create_date.1\"]>test_invoiceData[\"due_in_date\"]].index,inplace=True)"
   ]
  },
  {
   "cell_type": "code",
   "execution_count": 38,
   "metadata": {},
   "outputs": [
    {
     "name": "stdout",
     "output_type": "stream",
     "text": [
      "(0, 12)\n"
     ]
    }
   ],
   "source": [
    "print(test_invoiceData[test_invoiceData[\"document_create_date.1\"]>test_invoiceData[\"clear_date\"]].shape)\n",
    "test_invoiceData.drop(test_invoiceData[test_invoiceData[\"document_create_date.1\"]>test_invoiceData[\"clear_date\"]].index,inplace=True)"
   ]
  },
  {
   "cell_type": "code",
   "execution_count": 39,
   "metadata": {},
   "outputs": [
    {
     "name": "stdout",
     "output_type": "stream",
     "text": [
      "(0, 12)\n"
     ]
    }
   ],
   "source": [
    "print(test_invoiceData[test_invoiceData[\"posting_date\"]>test_invoiceData[\"baseline_create_date\"]].shape)\n",
    "test_invoiceData.drop(test_invoiceData[test_invoiceData[\"posting_date\"]>test_invoiceData[\"baseline_create_date\"]].index,inplace=True)"
   ]
  },
  {
   "cell_type": "code",
   "execution_count": 40,
   "metadata": {},
   "outputs": [
    {
     "name": "stdout",
     "output_type": "stream",
     "text": [
      "(0, 12)\n"
     ]
    }
   ],
   "source": [
    "print(test_invoiceData[test_invoiceData[\"posting_date\"]>test_invoiceData[\"due_in_date\"]].shape)\n",
    "test_invoiceData.drop(test_invoiceData[test_invoiceData[\"posting_date\"]>test_invoiceData[\"due_in_date\"]].index,inplace=True)"
   ]
  },
  {
   "cell_type": "code",
   "execution_count": 41,
   "metadata": {},
   "outputs": [
    {
     "name": "stdout",
     "output_type": "stream",
     "text": [
      "(0, 12)\n"
     ]
    }
   ],
   "source": [
    "print(test_invoiceData[test_invoiceData[\"posting_date\"]>test_invoiceData[\"clear_date\"]].shape)\n",
    "test_invoiceData.drop(test_invoiceData[test_invoiceData[\"posting_date\"]>test_invoiceData[\"clear_date\"]].index,inplace=True)"
   ]
  },
  {
   "cell_type": "code",
   "execution_count": 42,
   "metadata": {},
   "outputs": [
    {
     "name": "stdout",
     "output_type": "stream",
     "text": [
      "(0, 12)\n"
     ]
    }
   ],
   "source": [
    "print(test_invoiceData[test_invoiceData[\"baseline_create_date\"]>test_invoiceData[\"due_in_date\"]].shape)\n",
    "test_invoiceData.drop(test_invoiceData[test_invoiceData[\"baseline_create_date\"]>test_invoiceData[\"due_in_date\"]].index,inplace=True)"
   ]
  },
  {
   "cell_type": "markdown",
   "metadata": {},
   "source": [
    "   Now, we have removed the anamolies in our train_invoiceData and test_invoiceData. So the final shape we are having right now is:"
   ]
  },
  {
   "cell_type": "code",
   "execution_count": 43,
   "metadata": {},
   "outputs": [
    {
     "data": {
      "text/plain": [
       "((44631, 13), (3213, 12))"
      ]
     },
     "execution_count": 43,
     "metadata": {},
     "output_type": "execute_result"
    }
   ],
   "source": [
    "train_invoiceData.shape,test_invoiceData.shape"
   ]
  },
  {
   "cell_type": "code",
   "execution_count": 44,
   "metadata": {},
   "outputs": [
    {
     "data": {
      "text/plain": [
       "<matplotlib.axes._subplots.AxesSubplot at 0x29953377248>"
      ]
     },
     "execution_count": 44,
     "metadata": {},
     "output_type": "execute_result"
    },
    {
     "data": {
      "image/png": "[encoded data removed]",
      "text/plain": [
       "<Figure size 842.4x595.44 with 1 Axes>"
      ]
     },
     "metadata": {},
     "output_type": "display_data"
    }
   ],
   "source": [
    "a4_dims = (11.7, 8.27)\n",
    "fig, ax = plt.subplots(figsize=a4_dims)\n",
    "sns.boxplot(ax=ax,x=train_invoiceData[\"total_open_amount\"])"
   ]
  },
  {
   "cell_type": "code",
   "execution_count": 45,
   "metadata": {},
   "outputs": [
    {
     "data": {
      "text/plain": [
       "(5319.0, 47834.643)"
      ]
     },
     "execution_count": 45,
     "metadata": {},
     "output_type": "execute_result"
    }
   ],
   "source": [
    "\"\"\"\n",
    "Let's check for any outliers in the total_open_amount column.\n",
    "\"\"\"\n",
    "Q1 = train_invoiceData[\"total_open_amount\"].quantile(0.25)\n",
    "Q3 = train_invoiceData[\"total_open_amount\"].quantile(0.75)\n",
    "Q1 , Q3"
   ]
  },
  {
   "cell_type": "code",
   "execution_count": 46,
   "metadata": {},
   "outputs": [
    {
     "data": {
      "text/plain": [
       "42515.643"
      ]
     },
     "execution_count": 46,
     "metadata": {},
     "output_type": "execute_result"
    }
   ],
   "source": [
    "IQR = Q3 - Q1\n",
    "IQR"
   ]
  },
  {
   "cell_type": "code",
   "execution_count": 47,
   "metadata": {},
   "outputs": [],
   "source": [
    "heightLower=Q1-1.5*IQR\n",
    "heightUpper=Q3+1.5*IQR"
   ]
  },
  {
   "cell_type": "code",
   "execution_count": 48,
   "metadata": {},
   "outputs": [
    {
     "name": "stdout",
     "output_type": "stream",
     "text": [
      "(2089, 13)\n",
      "(0, 13)\n"
     ]
    }
   ],
   "source": [
    "print(train_invoiceData[train_invoiceData[\"total_open_amount\"]>heightUpper].shape)\n",
    "print(train_invoiceData[train_invoiceData[\"total_open_amount\"]<heightLower].shape)"
   ]
  },
  {
   "cell_type": "code",
   "execution_count": 49,
   "metadata": {},
   "outputs": [],
   "source": [
    "\"\"\"\n",
    "So, these values have to removed as they are the outliers.\n",
    "\"\"\"\n",
    "train_invoiceData.drop(train_invoiceData[train_invoiceData[\"total_open_amount\"]>heightUpper].index,inplace=True,axis=0)\n",
    "train_invoiceData.drop(train_invoiceData[train_invoiceData[\"total_open_amount\"]<heightLower].index,inplace=True,axis=0)"
   ]
  },
  {
   "cell_type": "code",
   "execution_count": 50,
   "metadata": {},
   "outputs": [
    {
     "data": {
      "text/plain": [
       "<matplotlib.axes._subplots.AxesSubplot at 0x2995362e588>"
      ]
     },
     "execution_count": 50,
     "metadata": {},
     "output_type": "execute_result"
    },
    {
     "data": {
      "image/png": "[encoded data removed]",
      "text/plain": [
       "<Figure size 842.4x595.44 with 1 Axes>"
      ]
     },
     "metadata": {},
     "output_type": "display_data"
    }
   ],
   "source": [
    "a4_dims = (11.7, 8.27)\n",
    "fig, ax = plt.subplots(figsize=a4_dims)\n",
    "sns.boxplot(ax=ax,x=train_invoiceData[\"total_open_amount\"])\n",
    "# So via this graph now we can observe that there are no more outliers in the total open ammount."
   ]
  },
  {
   "cell_type": "code",
   "execution_count": 51,
   "metadata": {
    "scrolled": true
   },
   "outputs": [
    {
     "name": "stdout",
     "output_type": "stream",
     "text": [
      "True\n",
      "True\n"
     ]
    }
   ],
   "source": [
    "\"\"\"\n",
    "Let'do a check between 2 dates. As I have observed the data document_create_date.1 and posting_date are kind of same. \n",
    "Let's verify.\n",
    "\"\"\"\n",
    "print((train_invoiceData[\"document_create_date.1\"].equals(train_invoiceData[\"posting_date\"])))\n",
    "print((test_invoiceData[\"document_create_date.1\"].equals(test_invoiceData[\"posting_date\"])))"
   ]
  },
  {
   "cell_type": "code",
   "execution_count": 52,
   "metadata": {},
   "outputs": [],
   "source": [
    "\"\"\"\n",
    "As we can see from above that document_create_date.1 is equal to the posting_date. \n",
    "So we have to remove anyone of it to remove the data redundancy. \n",
    "As more the common data is, it will not provide more information  to our model so let's drop that column\n",
    "\"\"\"\n",
    "train_invoiceData.drop(\"posting_date\",axis=1,inplace=True)\n",
    "test_invoiceData.drop(\"posting_date\",axis=1,inplace=True)"
   ]
  },
  {
   "cell_type": "code",
   "execution_count": 53,
   "metadata": {},
   "outputs": [],
   "source": [
    "\"\"\"\n",
    "Now, we have to sort the whole train_invoiceData according to the document_create_date.1.\n",
    "As now we are going to split the data into train,test and val so the document_create_date.1 should be in a sorted manner.\n",
    "And then we are reseting the index to zero. \n",
    "Otherwise it will going to have another column named index to store the value of previous indexes.\n",
    "Droping the previous indexes and adding the new one.\n",
    "\"\"\"\n",
    "train_invoiceData.sort_values(by=['document_create_date.1'],inplace=True)\n",
    "test_invoiceData.sort_values(by=['document_create_date.1'],inplace=True)\n",
    "test_invoiceData.reset_index(drop=True,inplace=True)\n",
    "train_invoiceData.reset_index(drop=True,inplace=True)"
   ]
  },
  {
   "cell_type": "markdown",
   "metadata": {},
   "source": [
    "Split the data into train, test, val in the ratio of 70 percent, 15, percent, 15 percent respectively.<br>\n",
    "Now, we will have 4 dataframes:<br>\n",
    "    1) train_invoiceData_train:<br>\n",
    "        $\\;\\;\\;\\;\\;\\;$This dataframe will consist of train part for our model. Our EDA and Feature creation and Feature extraction will be done on this.<br>\n",
    "    2) train_invoiceData_test_val:<br>\n",
    "        $\\;\\;\\;\\;\\;\\;$This dataframe will consist of values that are going to be divided further into test and val based upon the ratio we desire.<br>\n",
    "    3) train_invoiceData_val:<br>\n",
    "        $\\;\\;\\;\\;\\;\\;$This dataframe will consist of validation part for our model. Our parameter tuning and accuracy check for diffrent models will be done on this.<br>\n",
    "    4) train_invoiceData_test<br>\n",
    "        $\\;\\;\\;\\;\\;\\;$This dataframe will consist of test part for our model. It will tell about how the model is behaving for unknown data and on a particular model selected by val set based on the accuracy it will be checked and tested and that will be the final accuracy/metrics of our model .<br>"
   ]
  },
  {
   "cell_type": "code",
   "execution_count": 54,
   "metadata": {
    "scrolled": true
   },
   "outputs": [
    {
     "name": "stdout",
     "output_type": "stream",
     "text": [
      "Shape of train_invoiceData_train (29779, 12)\n",
      "Shape of train_invoiceData_test_val (12763, 12)\n",
      "Shape of train_invoiceData_test (6382, 12)\n",
      "Shape of train_invoiceData_val (6381, 12)\n"
     ]
    }
   ],
   "source": [
    "\"\"\"\n",
    "Here, we have used a train_test_split function it has many parameters but if used these because of specific reasons:\n",
    "1) dataframe: the dataframe that you are going to divide into train_invoiceData_train and train_invoiceData_test_val.\n",
    "             And after that train_invoiceData_test_val will be divided into train_invoiceData_test and train_invoiceData_val\n",
    "             in further train_test_split()\n",
    "2) shuffle=False: We have taken shuffle equal to False because we want our rows in sorted order according to the \n",
    "                  document_create_date.1 rather than in a random order.\n",
    "3)test_size: it will say about how much ammount of rows will be in test data.\n",
    "             Let's say test_size=0.3 it means 30% of the given dataframe is taken as test and rest 70% as train.\n",
    "4) random_state=0: It's optional in our case to put or not as we have kept shuffle = False so it will start dividing the rows from the beginning in train, test, val. It is used to select a random state from where the division start.\n",
    "                   If we have done shuffle= True and random_state=None then we will have diffrent accuracies as the model going to have diffrent accuracies for multiple runnings.\n",
    "\"\"\"\n",
    "train_invoiceData_train,train_invoiceData_test_val=train_test_split(\n",
    "    train_invoiceData,shuffle=False,test_size=0.3,random_state=0)\n",
    "train_invoiceData_val, train_invoiceData_test=train_test_split(\n",
    "    train_invoiceData_test_val,shuffle=False,test_size=0.5,random_state=0)\n",
    "\"\"\"\n",
    "Calculating the shape of each dataframe that how many rows and columns each contains.\n",
    "\"\"\"\n",
    "print(\"Shape of train_invoiceData_train\",train_invoiceData_train.shape)\n",
    "print(\"Shape of train_invoiceData_test_val\",train_invoiceData_test_val.shape)\n",
    "print(\"Shape of train_invoiceData_test\",train_invoiceData_test.shape)\n",
    "print(\"Shape of train_invoiceData_val\",train_invoiceData_val.shape)"
   ]
  },
  {
   "cell_type": "code",
   "execution_count": 55,
   "metadata": {
    "scrolled": true
   },
   "outputs": [
    {
     "data": {
      "text/plain": [
       "count                   29779\n",
       "unique                    282\n",
       "top       2019-03-29 00:00:00\n",
       "freq                      168\n",
       "first     2018-12-30 00:00:00\n",
       "last      2019-10-07 00:00:00\n",
       "Name: document_create_date.1, dtype: object"
      ]
     },
     "execution_count": 55,
     "metadata": {},
     "output_type": "execute_result"
    }
   ],
   "source": [
    "train_invoiceData_train[\"document_create_date.1\"].describe()"
   ]
  },
  {
   "cell_type": "code",
   "execution_count": 56,
   "metadata": {},
   "outputs": [],
   "source": [
    "\"\"\"\n",
    "We are reseting the index to zero. \n",
    "Otherwise it will going to have another column named index to store the value of previous indexes.\n",
    "Droping the previous indexes and adding the new one.\n",
    "\"\"\"\n",
    "\n",
    "train_invoiceData_test.reset_index(drop=True,inplace=True)\n",
    "train_invoiceData_train.reset_index(drop=True,inplace=True)\n",
    "train_invoiceData_test_val.reset_index(drop=True,inplace=True)\n",
    "train_invoiceData_val.reset_index(drop=True,inplace=True)"
   ]
  },
  {
   "cell_type": "code",
   "execution_count": 57,
   "metadata": {},
   "outputs": [
    {
     "name": "stdout",
     "output_type": "stream",
     "text": [
      "[2019]\n"
     ]
    }
   ],
   "source": [
    "print(train_invoiceData_train[\"buisness_year\"].unique())\n",
    "\"\"\"\n",
    "As we can see that there is only one value in the whole column. \n",
    "So we can drop that as it is not providing any significance to our model.\n",
    "And if we are droping that column in our train_invoiceData_train, \n",
    "so we have to remove from train_invoiceData_test and  train_invoiceData_val\n",
    "\"\"\"\n",
    "train_invoiceData_train.drop(\"buisness_year\",axis=1,inplace=True)\n",
    "train_invoiceData_val.drop(\"buisness_year\",axis=1,inplace=True)\n",
    "train_invoiceData_test.drop(\"buisness_year\",axis=1,inplace=True)"
   ]
  },
  {
   "cell_type": "code",
   "execution_count": 58,
   "metadata": {},
   "outputs": [
    {
     "name": "stdout",
     "output_type": "stream",
     "text": [
      "[0]\n"
     ]
    }
   ],
   "source": [
    "print(train_invoiceData_train[\"isOpen\"].unique())\n",
    "\"\"\"\n",
    "As we can see that there is only one value in the whole column i.e. it's a constant column.\n",
    "So we can drop that as it is not providing any significance to our model.\n",
    "And if we are droping that column in our train_invoiceData_train, \n",
    "so we have to remove from train_invoiceData_test and  train_invoiceData_val\n",
    "\"\"\"\n",
    "train_invoiceData_train.drop(\"isOpen\",axis=1,inplace=True)\n",
    "train_invoiceData_val.drop(\"isOpen\",axis=1,inplace=True)\n",
    "train_invoiceData_test.drop(\"isOpen\",axis=1,inplace=True)"
   ]
  },
  {
   "cell_type": "code",
   "execution_count": 59,
   "metadata": {},
   "outputs": [
    {
     "name": "stdout",
     "output_type": "stream",
     "text": [
      "62.43  percent of customer in the train set haven't paid their dues on time\n",
      "37.57 percent of customer in the train set have paid their dues before time\n"
     ]
    },
    {
     "data": {
      "image/png": "[encoded data removed]",
      "text/plain": [
       "<Figure size 432x288 with 1 Axes>"
      ]
     },
     "metadata": {},
     "output_type": "display_data"
    }
   ],
   "source": [
    "value=train_invoiceData_train['delay'].value_counts().index.tolist()\n",
    "pos_delay, neg_delay = 0, 0\n",
    "for num in value: \n",
    "    if num >= 0: \n",
    "        pos_delay += 1\n",
    "    else :\n",
    "        neg_delay += 1\n",
    "print(round(pos_delay/(pos_delay+neg_delay)*100,2),\" percent of customer in the train set haven't paid their dues on time\")\n",
    "print(round(neg_delay/(pos_delay+neg_delay)*100,2),\"percent of customer in the train set have paid their dues before time\")\n",
    "\n",
    "sns.set_style(style=\"whitegrid\")\n",
    "x = ['pos_count','neg_count']\n",
    "y = [pos_delay, neg_delay]\n",
    "sns.barplot(x, y)\n",
    "plt.show()"
   ]
  },
  {
   "cell_type": "raw",
   "metadata": {},
   "source": [
    "By this we can infer that the there are more percentage of customer who pays their dues after the due_in_date."
   ]
  },
  {
   "cell_type": "markdown",
   "metadata": {},
   "source": [
    "Here I have used a function named new_feature_creation to create new features for my train_invoiceData_train:<br>\n",
    "Here I have created multiple features based upon the stats that I have calculated and observed.<br>\n",
    "I observed that each company has a unique <b>customer name</b> but not a unique customer number. For Example:<br>\n",
    "The branches of WAL-MART are having same customer number but the names are diffrent so based upon the criteria we can observe\n",
    "that we can do mapping of the features based upon the customer name rather than customer number.<br>\n",
    "Let's discuss:<br>\n",
    "    $\\;\\;\\;\\;\\;\\;$1) <b>num_of_invoices:</b> Total number of the invoices of the invoice owner. It will tell about that how many invoices are there for a particular customer.<br>\n",
    "    $\\;\\;\\;\\;\\;\\;$2) <b>number_of_delayed_invoices:</b> Total number of the delayed invoices of the invoice owner. It will tell about that how many delayed invoices are there for a particular customer.<br>\n",
    "    $\\;\\;\\;\\;\\;\\;$3) <b>number_of_early_invoices:</b> Total number of the early invoices of the invoice owner. It will tell about that how many early invoices are there for a particular customer.<br>\n",
    "    $\\;\\;\\;\\;\\;\\;$4) <b>sum_invoice:</b> Total sum of invoice amount of the invoice owner. It will tell about the sum of the total_open_amount for all the invoices of a particular customer<br>\n",
    "    $\\;\\;\\;\\;\\;\\;$5) <b>sum_delayed_invoice:</b> Total sum of the delayed invoice amount of the invoice owner. It will tell about the sum of the total_open_amount for the delayed invoices of a particular customer.<br>\n",
    "    $\\;\\;\\;\\;\\;\\;$6) <b>average_delay_of_delayed:</b> Average delay of the delayed invoices of the invoice owner. Here we are going to find out the average number of delay the customer has done for the having a positive delay.<br>\n",
    "    $\\;\\;\\;\\;\\;\\;$7) <b>average_delay:</b> Average delay of all the invoices of the invoice owner. Here we are going to find out the average number of delay the customer has done.<br>\n",
    "    $\\;\\;\\;\\;\\;\\;$8) <b>ratio_num:</b> Ratio between the number_of_delayed_invoices and num_of_invoices. If one has a delay ratio near zero, this customer is a \"good\" customer that means it pays every bill within the due_date.<br>\n",
    "    $\\;\\;\\;\\;\\;\\;$9) <b>ratio_sum:</b> Ratio between the sum_delayed_invoice and the sum_invoice.If one has a delay ratio near zero, this customer is a \"good\" customer that means it pays every bill within the due_date.<br>\n",
    "This function will return an array of features mapping."
   ]
  },
  {
   "cell_type": "code",
   "execution_count": 60,
   "metadata": {},
   "outputs": [],
   "source": [
    "def new_feature_creation(df):\n",
    "    \n",
    "    number_of_invoices_mapping = df[\"name_customer\"].value_counts().to_dict()\n",
    "    # getting a map of having a key as name of that customer and the value is how many times does this customer has appeared.\n",
    "    \n",
    "    number_of_delayed_invoices_mapping = df[df[\"delay\"] > 0][\"name_customer\"].value_counts().to_dict()\n",
    "    # getting a map of having a key as name of that customer whose delay is greater than zero \n",
    "    # and the value is how many times does this customer has appeared for having delay in it's payment.\n",
    "    \n",
    "    number_of_early_invoices_mapping = df[df[\"delay\"] < 0][\"name_customer\"].value_counts().to_dict()\n",
    "    # getting a map of having a key as name of that customer whose delay is less than zero \n",
    "    # and the value is how many times does this customer has appeared for not having delay in it's payment.\n",
    "    \n",
    "    sum_invoice_mapping = df.groupby(\"name_customer\")[\"total_open_amount\"].sum().to_dict()\n",
    "    # getting a map of having a key as name of that customer and the value is the sum of the total_open_amount corresponding to that particular customer\n",
    "    \n",
    "    sum_delayed_invoice_mapping = df[df[\"delay\"] > 0].groupby(\"name_customer\")[\"total_open_amount\"].sum().to_dict()\n",
    "    # getting a map of having a key as name of that customer where the delay is greater than zero and the value is the sum of the total_open_amount corresponding to that particular customer for the delayed part.\n",
    "    \n",
    "    avg_delay_of_delayed_mapping = df[df[\"delay\"] > 0].groupby(\"name_customer\")[\"delay\"].mean().to_dict()\n",
    "    # getting a map of having a key as name of that customer which is having delay greater than zero and the value is the average of the delay of the delays corresponding to that particular customer.\n",
    "    \n",
    "    avg_delay_mapping = df.groupby(\"name_customer\")[\"delay\"].mean().to_dict()\n",
    "    # getting a map of having a key as name of that customer and the value is the average of the delay for all invoices of that customer.\n",
    "    \n",
    "    # Adding these columns to the dataframe and mapping the values that we have got above.\n",
    "    df[\"num_of_invoices\"] = df[\"name_customer\"].map(number_of_invoices_mapping).astype('int64')\n",
    "    \n",
    "    df[\"number_of_delayed_invoices\"] = df[\"name_customer\"].map(number_of_delayed_invoices_mapping).fillna(0).astype(\"int64\")\n",
    "    \n",
    "    df[\"number_of_early_invoices\"] = df[\"name_customer\"].map(number_of_early_invoices_mapping).fillna(0).astype(\"int64\")\n",
    "\n",
    "    df[\"sum_invoice\"] = df[\"name_customer\"].map(sum_invoice_mapping).astype(\"float64\")\n",
    "    \n",
    "    df[\"sum_delayed_invoice\"] = df[\"name_customer\"].map(sum_delayed_invoice_mapping).fillna(0).astype(\"float64\")\n",
    "    \n",
    "    df[\"average_delay_of_delayed\"] = df[\"name_customer\"].map(avg_delay_of_delayed_mapping).fillna(0).astype(\"float64\")\n",
    "    \n",
    "    df[\"average_delay\"] = df[\"name_customer\"].map(avg_delay_mapping).astype(\"float64\")\n",
    "    \n",
    "    df[\"ratio_num\"] = df[\"number_of_delayed_invoices\"]/df[\"num_of_invoices\"]\n",
    "    \n",
    "    df[\"ratio_sum\"] = df[\"sum_delayed_invoice\"] / df[\"sum_invoice\"]\n",
    "    \n",
    "    return [number_of_invoices_mapping, number_of_delayed_invoices_mapping, number_of_early_invoices_mapping,\n",
    "            sum_invoice_mapping, sum_delayed_invoice_mapping,avg_delay_of_delayed_mapping,\n",
    "            avg_delay_mapping]"
   ]
  },
  {
   "cell_type": "code",
   "execution_count": 61,
   "metadata": {},
   "outputs": [],
   "source": [
    "\"\"\"\n",
    "Calling the new_feature_creation function by passing train_invoiceData_train as a parameter to add new features to it\n",
    "and store the returned output in features_mapping\n",
    "\"\"\"\n",
    "feature_mappings = new_feature_creation(train_invoiceData_train)"
   ]
  },
  {
   "cell_type": "code",
   "execution_count": 62,
   "metadata": {
    "scrolled": false
   },
   "outputs": [
    {
     "data": {
      "text/html": [
       "<div>\n",
       "<style scoped>\n",
       "    .dataframe tbody tr th:only-of-type {\n",
       "        vertical-align: middle;\n",
       "    }\n",
       "\n",
       "    .dataframe tbody tr th {\n",
       "        vertical-align: top;\n",
       "    }\n",
       "\n",
       "    .dataframe thead th {\n",
       "        text-align: right;\n",
       "    }\n",
       "</style>\n",
       "<table border=\"1\" class=\"dataframe\">\n",
       "  <thead>\n",
       "    <tr style=\"text-align: right;\">\n",
       "      <th></th>\n",
       "      <th>business_code</th>\n",
       "      <th>cust_number</th>\n",
       "      <th>name_customer</th>\n",
       "      <th>clear_date</th>\n",
       "      <th>document_create_date.1</th>\n",
       "      <th>due_in_date</th>\n",
       "      <th>total_open_amount</th>\n",
       "      <th>baseline_create_date</th>\n",
       "      <th>cust_payment_terms</th>\n",
       "      <th>delay</th>\n",
       "      <th>num_of_invoices</th>\n",
       "      <th>number_of_delayed_invoices</th>\n",
       "      <th>number_of_early_invoices</th>\n",
       "      <th>sum_invoice</th>\n",
       "      <th>sum_delayed_invoice</th>\n",
       "      <th>average_delay_of_delayed</th>\n",
       "      <th>average_delay</th>\n",
       "      <th>ratio_num</th>\n",
       "      <th>ratio_sum</th>\n",
       "    </tr>\n",
       "  </thead>\n",
       "  <tbody>\n",
       "    <tr>\n",
       "      <th>0</th>\n",
       "      <td>U001</td>\n",
       "      <td>0100001196</td>\n",
       "      <td>DOLLAR systems</td>\n",
       "      <td>2019-01-14</td>\n",
       "      <td>2018-12-30</td>\n",
       "      <td>2019-01-14</td>\n",
       "      <td>23785.79</td>\n",
       "      <td>2018-12-30</td>\n",
       "      <td>NAA8</td>\n",
       "      <td>0</td>\n",
       "      <td>5</td>\n",
       "      <td>2</td>\n",
       "      <td>0</td>\n",
       "      <td>49708.03</td>\n",
       "      <td>20952.60</td>\n",
       "      <td>1.500000</td>\n",
       "      <td>0.600000</td>\n",
       "      <td>0.400000</td>\n",
       "      <td>0.421513</td>\n",
       "    </tr>\n",
       "    <tr>\n",
       "      <th>1</th>\n",
       "      <td>U001</td>\n",
       "      <td>0200769623</td>\n",
       "      <td>WAL-MAR llc</td>\n",
       "      <td>2019-01-09</td>\n",
       "      <td>2018-12-30</td>\n",
       "      <td>2019-01-14</td>\n",
       "      <td>20076.44</td>\n",
       "      <td>2018-12-30</td>\n",
       "      <td>NAH4</td>\n",
       "      <td>-5</td>\n",
       "      <td>713</td>\n",
       "      <td>148</td>\n",
       "      <td>555</td>\n",
       "      <td>15137048.53</td>\n",
       "      <td>2244062.97</td>\n",
       "      <td>3.385135</td>\n",
       "      <td>-2.321178</td>\n",
       "      <td>0.207574</td>\n",
       "      <td>0.148250</td>\n",
       "    </tr>\n",
       "    <tr>\n",
       "      <th>2</th>\n",
       "      <td>U001</td>\n",
       "      <td>0200726979</td>\n",
       "      <td>BJ'S  llc</td>\n",
       "      <td>2019-01-15</td>\n",
       "      <td>2018-12-30</td>\n",
       "      <td>2019-01-14</td>\n",
       "      <td>240.86</td>\n",
       "      <td>2018-12-30</td>\n",
       "      <td>NAA8</td>\n",
       "      <td>1</td>\n",
       "      <td>99</td>\n",
       "      <td>41</td>\n",
       "      <td>0</td>\n",
       "      <td>462707.82</td>\n",
       "      <td>342005.69</td>\n",
       "      <td>2.000000</td>\n",
       "      <td>0.828283</td>\n",
       "      <td>0.414141</td>\n",
       "      <td>0.739140</td>\n",
       "    </tr>\n",
       "    <tr>\n",
       "      <th>3</th>\n",
       "      <td>U001</td>\n",
       "      <td>0200769623</td>\n",
       "      <td>WAL-MAR trust</td>\n",
       "      <td>2019-01-09</td>\n",
       "      <td>2018-12-30</td>\n",
       "      <td>2019-01-14</td>\n",
       "      <td>985.41</td>\n",
       "      <td>2018-12-30</td>\n",
       "      <td>NAH4</td>\n",
       "      <td>-5</td>\n",
       "      <td>678</td>\n",
       "      <td>126</td>\n",
       "      <td>545</td>\n",
       "      <td>14525380.43</td>\n",
       "      <td>2184197.59</td>\n",
       "      <td>5.626984</td>\n",
       "      <td>-2.109145</td>\n",
       "      <td>0.185841</td>\n",
       "      <td>0.150371</td>\n",
       "    </tr>\n",
       "    <tr>\n",
       "      <th>4</th>\n",
       "      <td>U001</td>\n",
       "      <td>0200743123</td>\n",
       "      <td>KROGER foundation</td>\n",
       "      <td>2019-01-14</td>\n",
       "      <td>2018-12-30</td>\n",
       "      <td>2019-01-14</td>\n",
       "      <td>50228.95</td>\n",
       "      <td>2018-12-30</td>\n",
       "      <td>NAA8</td>\n",
       "      <td>0</td>\n",
       "      <td>48</td>\n",
       "      <td>22</td>\n",
       "      <td>0</td>\n",
       "      <td>2194148.91</td>\n",
       "      <td>1052721.37</td>\n",
       "      <td>2.318182</td>\n",
       "      <td>1.062500</td>\n",
       "      <td>0.458333</td>\n",
       "      <td>0.479786</td>\n",
       "    </tr>\n",
       "  </tbody>\n",
       "</table>\n",
       "</div>"
      ],
      "text/plain": [
       "  business_code cust_number      name_customer clear_date  \\\n",
       "0          U001  0100001196     DOLLAR systems 2019-01-14   \n",
       "1          U001  0200769623        WAL-MAR llc 2019-01-09   \n",
       "2          U001  0200726979          BJ'S  llc 2019-01-15   \n",
       "3          U001  0200769623      WAL-MAR trust 2019-01-09   \n",
       "4          U001  0200743123  KROGER foundation 2019-01-14   \n",
       "\n",
       "  document_create_date.1 due_in_date  total_open_amount baseline_create_date  \\\n",
       "0             2018-12-30  2019-01-14           23785.79           2018-12-30   \n",
       "1             2018-12-30  2019-01-14           20076.44           2018-12-30   \n",
       "2             2018-12-30  2019-01-14             240.86           2018-12-30   \n",
       "3             2018-12-30  2019-01-14             985.41           2018-12-30   \n",
       "4             2018-12-30  2019-01-14           50228.95           2018-12-30   \n",
       "\n",
       "  cust_payment_terms  delay  num_of_invoices  number_of_delayed_invoices  \\\n",
       "0               NAA8      0                5                           2   \n",
       "1               NAH4     -5              713                         148   \n",
       "2               NAA8      1               99                          41   \n",
       "3               NAH4     -5              678                         126   \n",
       "4               NAA8      0               48                          22   \n",
       "\n",
       "   number_of_early_invoices  sum_invoice  sum_delayed_invoice  \\\n",
       "0                         0     49708.03             20952.60   \n",
       "1                       555  15137048.53           2244062.97   \n",
       "2                         0    462707.82            342005.69   \n",
       "3                       545  14525380.43           2184197.59   \n",
       "4                         0   2194148.91           1052721.37   \n",
       "\n",
       "   average_delay_of_delayed  average_delay  ratio_num  ratio_sum  \n",
       "0                  1.500000       0.600000   0.400000   0.421513  \n",
       "1                  3.385135      -2.321178   0.207574   0.148250  \n",
       "2                  2.000000       0.828283   0.414141   0.739140  \n",
       "3                  5.626984      -2.109145   0.185841   0.150371  \n",
       "4                  2.318182       1.062500   0.458333   0.479786  "
      ]
     },
     "execution_count": 62,
     "metadata": {},
     "output_type": "execute_result"
    }
   ],
   "source": [
    "\"\"\"\n",
    "Let's verify that the features are added or not.\n",
    "\n",
    "\"\"\"\n",
    "train_invoiceData_train.head()"
   ]
  },
  {
   "cell_type": "code",
   "execution_count": 63,
   "metadata": {},
   "outputs": [
    {
     "data": {
      "text/plain": [
       "<matplotlib.axes._subplots.AxesSubplot at 0x29953855e08>"
      ]
     },
     "execution_count": 63,
     "metadata": {},
     "output_type": "execute_result"
    },
    {
     "data": {
      "image/png": "[encoded data removed]",
      "text/plain": [
       "<Figure size 1296x595.44 with 1 Axes>"
      ]
     },
     "metadata": {},
     "output_type": "display_data"
    }
   ],
   "source": [
    "a4_dims = (18, 8.27)\n",
    "fig, ax = plt.subplots(figsize=a4_dims)\n",
    "sns.barplot(ax=ax,x=train_invoiceData_train[\"delay\"],y=train_invoiceData_train[\"num_of_invoices\"])"
   ]
  },
  {
   "cell_type": "markdown",
   "metadata": {},
   "source": [
    "It's a plot between delay and num_of_invoices. Here we can see that there are only quite few peeks that have so much high value\n",
    "As the delay is increasing, we can see that when delay at it's max extreme there are not so much invoices with this much of rise and peak.But in between ranges from 10 to 40 there are more no of invoices."
   ]
  },
  {
   "cell_type": "code",
   "execution_count": 64,
   "metadata": {
    "scrolled": true
   },
   "outputs": [
    {
     "data": {
      "text/plain": [
       "Text(0, 0.5, 'Delay_Count')"
      ]
     },
     "execution_count": 64,
     "metadata": {},
     "output_type": "execute_result"
    },
    {
     "data": {
      "image/png": "[encoded data removed]",
      "text/plain": [
       "<Figure size 432x288 with 1 Axes>"
      ]
     },
     "metadata": {},
     "output_type": "display_data"
    }
   ],
   "source": [
    "\"\"\"\n",
    "A function named bucket which will return the corresponding bucket number.\n",
    "\"\"\"\n",
    "def bucket(x):\n",
    "    if x <= 0:\n",
    "        return 1\n",
    "    elif ( x > 0 and x <= 15):\n",
    "        return 2\n",
    "    elif ( x > 15 and x <= 30):\n",
    "        return 3\n",
    "    elif ( x > 30 and x <= 45):\n",
    "        return 4\n",
    "    elif ( x > 45 and x <= 60):\n",
    "        return 5\n",
    "    elif ( x > 60 ):\n",
    "        return 6\n",
    "predicted_bucket=train_invoiceData_train[\"delay\"].apply(bucket)\n",
    "value_mapping=predicted_bucket.value_counts().to_dict()\n",
    "keys = value_mapping.keys()\n",
    "values = value_mapping. values()\n",
    "plt. bar(keys, values)\n",
    "plt.xlabel(\"Buckets\")\n",
    "plt.ylabel(\"Delay_Count\")"
   ]
  },
  {
   "cell_type": "markdown",
   "metadata": {},
   "source": [
    "By this we can infer that the most of the train_invoiceData_train consists of the bucket 1. So and 2nd it's bucket 2 which may show a light to out our model that if our train has so much of bucket 1 and bucket 2 then our test may also have the similar characterstics."
   ]
  },
  {
   "cell_type": "code",
   "execution_count": 65,
   "metadata": {
    "scrolled": false
   },
   "outputs": [
    {
     "data": {
      "image/png": "[encoded data removed]",
      "text/plain": [
       "<Figure size 432x288 with 1 Axes>"
      ]
     },
     "metadata": {},
     "output_type": "display_data"
    }
   ],
   "source": [
    "fig,ax = plt.subplots(1,1)\n",
    "a = train_invoiceData_train[\"ratio_num\"]\n",
    "ax.hist(a, bins = [0,0.25,0.50,0.75,1])\n",
    "ax.set_xticks([0,0.25,0.50,0.75,1])\n",
    "ax.set_title(\"ratio_num v/s no_of_invoices\")\n",
    "ax.set_xlabel('ratio_num')\n",
    "ax.set_ylabel('no. of invoices')\n",
    "plt.show()"
   ]
  },
  {
   "cell_type": "code",
   "execution_count": 66,
   "metadata": {},
   "outputs": [
    {
     "data": {
      "image/png": "[encoded data removed]",
      "text/plain": [
       "<Figure size 432x288 with 1 Axes>"
      ]
     },
     "metadata": {},
     "output_type": "display_data"
    }
   ],
   "source": [
    "fig,ax = plt.subplots(1,1)\n",
    "a = train_invoiceData_train[\"ratio_sum\"]\n",
    "ax.hist(a, bins = [0,0.25,0.50,0.75,1])\n",
    "ax.set_xticks([0,0.25,0.50,0.75,1])\n",
    "ax.set_title(\"ratio_sum v/s no_of_invoices\")\n",
    "ax.set_xlabel('ratio_sum')\n",
    "ax.set_ylabel('no. of invoices')\n",
    "plt.show()"
   ]
  },
  {
   "cell_type": "markdown",
   "metadata": {},
   "source": [
    "By observing both the graphs this we can infer that if the ratios are near to 0 the no. of invoices having the delay is less which proves the above point that as the ratio will decrease it will be a good customer and pays the due well before time or a very less delay."
   ]
  },
  {
   "cell_type": "markdown",
   "metadata": {},
   "source": [
    "Now we are going to encode our features that have categorical values or in simple words the one that has data type objects.<br>\n",
    "So as we can see there are 4 columns with us having categorical values.<br>\n",
    "We can encode these columns via diffrent methods like label encoding, mean encoding, target encoding, one-hot encoding etc.<br>\n",
    "So, I have encoded the cust_number, name_customer, business_code, cust_payment_terms via label encoding."
   ]
  },
  {
   "cell_type": "code",
   "execution_count": 67,
   "metadata": {},
   "outputs": [],
   "source": [
    "label_encoder_num = preprocessing.LabelEncoder()# an object of LabelEncoder is created named label_encoder_num\n",
    "label_encoder_num.fit(train_invoiceData_train['cust_number'])\n",
    "label_encoder_num_mapping = dict(zip(label_encoder_num.classes_, label_encoder_num.transform(label_encoder_num.classes_)))\n",
    "'''\n",
    "Here, we have formed a dictionary where a unique code will be given to each unique class and the mapping will be\n",
    "stored in a dictionary for doing furthur more mapping in test and val data.\n",
    "'''\n",
    "train_invoiceData_train['cust_number']= label_encoder_num.fit_transform(train_invoiceData_train['cust_number'])"
   ]
  },
  {
   "cell_type": "code",
   "execution_count": 68,
   "metadata": {},
   "outputs": [],
   "source": [
    "label_encoder_name= preprocessing.LabelEncoder()# an object of LabelEncoder is created named label_encoder_name\n",
    "label_encoder_name.fit(train_invoiceData_train['name_customer'])\n",
    "label_encoder_name_mapping = dict(zip(label_encoder_name.classes_, label_encoder_name.transform(label_encoder_name.classes_)))\n",
    "'''\n",
    "Here, we have formed a dictionary where a unique code will be given to each unique class and the mapping will be\n",
    "stored in a dictionary for doing furthur more mapping in test and val data.\n",
    "'''\n",
    "train_invoiceData_train['name_customer']= label_encoder_name.fit_transform(train_invoiceData_train['name_customer'])"
   ]
  },
  {
   "cell_type": "code",
   "execution_count": 69,
   "metadata": {},
   "outputs": [],
   "source": [
    "label_encoder_business_code= preprocessing.LabelEncoder()# an object of LabelEncoder is created named label_encoder_business_code\n",
    "label_encoder_business_code.fit(train_invoiceData_train['business_code'])\n",
    "label_encoder_business_code_mapping = dict(zip(label_encoder_business_code.classes_, label_encoder_business_code.transform(label_encoder_business_code.classes_)))\n",
    "'''\n",
    "Here, we have formed a dictionary where a unique code will be given to each unique class and the mapping will be\n",
    "stored in a dictionary for doing furthur more mapping in test and val data.\n",
    "'''\n",
    "train_invoiceData_train['business_code']= label_encoder_business_code.fit_transform(train_invoiceData_train['business_code'])"
   ]
  },
  {
   "cell_type": "code",
   "execution_count": 70,
   "metadata": {},
   "outputs": [],
   "source": [
    "label_encoder_cust_pay_terms = preprocessing.LabelEncoder()# an object of LabelEncoder is created named label_encoder_cust_pay_terms\n",
    "label_encoder_cust_pay_terms.fit(train_invoiceData_train['cust_payment_terms'])\n",
    "label_encoder_cust_pay_terms_mapping = dict(zip(label_encoder_cust_pay_terms.classes_, label_encoder_cust_pay_terms.transform(label_encoder_cust_pay_terms.classes_)))\n",
    "'''\n",
    "Here, we have formed a dictionary where a unique code will be given to each unique class and the mapping will be\n",
    "stored in a dictionary for doing furthur more mapping in test and val data.\n",
    "'''\n",
    "train_invoiceData_train['cust_payment_terms']= label_encoder_cust_pay_terms.fit_transform(train_invoiceData_train['cust_payment_terms'])"
   ]
  },
  {
   "cell_type": "raw",
   "metadata": {},
   "source": [
    "Now we are mapping all the data we have collected previously and adding the new features to train_invoiceData_test and train_invoiceData_val.\n",
    "For the sake of clarity I'm writing it down again:\n",
    "feature_mappings[0]: number_of_invoices_mapping\n",
    "feature_mappings[1]: number_of_delayed_invoices_mapping\n",
    "feature_mappings[2]: number_of_early_invoices_mapping\n",
    "feature_mappings[3]: sum_invoice_mapping\n",
    "feature_mappings[4]: sum_delayed_invoice_mapping\n",
    "feature_mappings[5]: avg_delay_of_delayed_mapping\n",
    "feature_mappings[6]: avg_delay_mapping\n",
    "\n",
    "And filling the data with the average/mean if the customer_name is not found in mapping that we have done for train part."
   ]
  },
  {
   "cell_type": "code",
   "execution_count": 71,
   "metadata": {},
   "outputs": [],
   "source": [
    "train_invoiceData_test[\"num_of_invoices\"] = train_invoiceData_test[\"name_customer\"].map(\n",
    "    feature_mappings[0]).fillna(sum(feature_mappings[0].values())/len(feature_mappings[0].values())).astype('int64')\n",
    "\n",
    "train_invoiceData_test[\"number_of_delayed_invoices\"] = train_invoiceData_test[\"name_customer\"].map(\n",
    "    feature_mappings[1]).fillna(sum(feature_mappings[1].values())/len(feature_mappings[1].values())).astype('int64')\n",
    "\n",
    "train_invoiceData_test[\"number_of_early_invoices\"] = train_invoiceData_test[\"name_customer\"].map(\n",
    "    feature_mappings[2]).fillna(sum(feature_mappings[2].values())/len(feature_mappings[2].values())).astype('int64')\n",
    "\n",
    "train_invoiceData_test[\"sum_invoice\"] = train_invoiceData_test[\"name_customer\"].map(\n",
    "    feature_mappings[3]).fillna(sum(feature_mappings[3].values())/len(feature_mappings[3].values())).astype('int64')\n",
    "\n",
    "train_invoiceData_test[\"sum_delayed_invoice\"] = train_invoiceData_test[\"name_customer\"].map(\n",
    "    feature_mappings[4]).fillna(sum(feature_mappings[4].values())/len(feature_mappings[4].values())).astype('int64')\n",
    "\n",
    "train_invoiceData_test[\"average_delay_of_delayed\"] = train_invoiceData_test[\"name_customer\"].map(\n",
    "    feature_mappings[5]).fillna(sum(feature_mappings[5].values())/len(feature_mappings[5].values())).astype('int64')\n",
    "\n",
    "train_invoiceData_test[\"average_delay\"] = train_invoiceData_test[\"name_customer\"].map(\n",
    "    feature_mappings[6]).fillna(sum(feature_mappings[6].values())/len(feature_mappings[6].values())).astype('int64')\n",
    "\n",
    "train_invoiceData_test[\"ratio_num\"] = train_invoiceData_test[\"number_of_delayed_invoices\"]/train_invoiceData_test[\"num_of_invoices\"]\n",
    "\n",
    "train_invoiceData_test[\"ratio_sum\"] = train_invoiceData_test[\"sum_delayed_invoice\"] / train_invoiceData_test[\"sum_invoice\"]\n",
    "\n",
    "\"\"\"\n",
    "Here I'm Encoding the train_invoiceData_test with the mapping that I have created in train_invoiceData_train \n",
    "so that the encoding value remain constant throughout train and test.\n",
    "For filling the others values that are not present in the mapping of train,\n",
    "fill them with the last index + 1 i.e. the length of the dictionary. \n",
    "\"\"\" \n",
    "train_invoiceData_test[\"cust_number\"] = train_invoiceData_test[\"cust_number\"].map(\n",
    "    label_encoder_num_mapping).fillna(len(label_encoder_num_mapping)).astype('int64')\n",
    "\n",
    "train_invoiceData_test[\"business_code\"] = train_invoiceData_test[\"business_code\"].map(\n",
    "    label_encoder_business_code_mapping).fillna(len(label_encoder_business_code_mapping)).astype('int64')\n",
    "\n",
    "train_invoiceData_test[\"name_customer\"] = train_invoiceData_test[\"name_customer\"].map(\n",
    "    label_encoder_name_mapping).fillna(len(label_encoder_name_mapping)).astype('int64')\n",
    "\n",
    "train_invoiceData_test[\"cust_payment_terms\"] = train_invoiceData_test[\"cust_payment_terms\"].map(\n",
    "    label_encoder_cust_pay_terms_mapping).fillna(len(label_encoder_cust_pay_terms_mapping)).astype('int64')"
   ]
  },
  {
   "cell_type": "code",
   "execution_count": 72,
   "metadata": {},
   "outputs": [],
   "source": [
    "train_invoiceData_val[\"num_of_invoices\"] = train_invoiceData_val[\"name_customer\"].map(\n",
    "    feature_mappings[0]).fillna(sum(feature_mappings[0].values())/len(feature_mappings[0].values())).astype('int64')\n",
    "\n",
    "train_invoiceData_val[\"number_of_delayed_invoices\"] = train_invoiceData_val[\"name_customer\"].map(\n",
    "    feature_mappings[1]).fillna(sum(feature_mappings[1].values())/len(feature_mappings[1].values())).astype('int64')\n",
    "\n",
    "train_invoiceData_val[\"number_of_early_invoices\"] = train_invoiceData_val[\"name_customer\"].map(\n",
    "    feature_mappings[2]).fillna(sum(feature_mappings[2].values())/len(feature_mappings[2].values())).astype('int64')\n",
    "\n",
    "train_invoiceData_val[\"sum_invoice\"] = train_invoiceData_val[\"name_customer\"].map(\n",
    "    feature_mappings[3]).fillna(sum(feature_mappings[3].values())/len(feature_mappings[3].values())).astype('int64')\n",
    "\n",
    "train_invoiceData_val[\"sum_delayed_invoice\"] = train_invoiceData_val[\"name_customer\"].map(\n",
    "    feature_mappings[4]).fillna(sum(feature_mappings[4].values())/len(feature_mappings[4].values())).astype('int64')\n",
    "\n",
    "train_invoiceData_val[\"average_delay_of_delayed\"] = train_invoiceData_val[\"name_customer\"].map(\n",
    "    feature_mappings[5]).fillna(sum(feature_mappings[5].values())/len(feature_mappings[5].values())).astype('int64')\n",
    "\n",
    "train_invoiceData_val[\"average_delay\"] = train_invoiceData_val[\"name_customer\"].map(\n",
    "    feature_mappings[6]).fillna(sum(feature_mappings[6].values())/len(feature_mappings[6].values())).astype('int64')\n",
    "\n",
    "train_invoiceData_val[\"ratio_num\"] = train_invoiceData_val[\"number_of_delayed_invoices\"]/train_invoiceData_val[\"num_of_invoices\"]\n",
    "\n",
    "train_invoiceData_val[\"ratio_sum\"] = train_invoiceData_val[\"sum_delayed_invoice\"] / train_invoiceData_val[\"sum_invoice\"]\n",
    "\n",
    "\n",
    "\n",
    "\"\"\"\n",
    "Here I'm Encoding the train_invoiceData_test with the mapping that I have created in train_invoiceData_train \n",
    "so that the encoding value remain constant throughout train and test.\n",
    "For filling the others values that are not present in the mapping of train,\n",
    "fill them with the last index + 1 i.e. the length of the dictionary. \n",
    "\"\"\"\n",
    "train_invoiceData_val[\"cust_number\"] = train_invoiceData_val[\"cust_number\"].map(\n",
    "    label_encoder_num_mapping).fillna(len(label_encoder_num_mapping)).astype('int64')\n",
    "\n",
    "train_invoiceData_val[\"business_code\"] = train_invoiceData_val[\"business_code\"].map(\n",
    "    label_encoder_business_code_mapping).fillna(len(label_encoder_business_code_mapping)).astype('int64')\n",
    "\n",
    "train_invoiceData_val[\"name_customer\"] = train_invoiceData_val[\"name_customer\"].map(\n",
    "    label_encoder_name_mapping).fillna(len(label_encoder_name_mapping)).astype('int64')\n",
    "\n",
    "train_invoiceData_val[\"cust_payment_terms\"] = train_invoiceData_val[\"cust_payment_terms\"].map(\n",
    "    label_encoder_cust_pay_terms_mapping).fillna(len(label_encoder_cust_pay_terms_mapping)).astype('int64')"
   ]
  },
  {
   "cell_type": "code",
   "execution_count": 73,
   "metadata": {},
   "outputs": [
    {
     "data": {
      "text/html": [
       "<div>\n",
       "<style scoped>\n",
       "    .dataframe tbody tr th:only-of-type {\n",
       "        vertical-align: middle;\n",
       "    }\n",
       "\n",
       "    .dataframe tbody tr th {\n",
       "        vertical-align: top;\n",
       "    }\n",
       "\n",
       "    .dataframe thead th {\n",
       "        text-align: right;\n",
       "    }\n",
       "</style>\n",
       "<table border=\"1\" class=\"dataframe\">\n",
       "  <thead>\n",
       "    <tr style=\"text-align: right;\">\n",
       "      <th></th>\n",
       "      <th>business_code</th>\n",
       "      <th>cust_number</th>\n",
       "      <th>name_customer</th>\n",
       "      <th>clear_date</th>\n",
       "      <th>document_create_date.1</th>\n",
       "      <th>due_in_date</th>\n",
       "      <th>total_open_amount</th>\n",
       "      <th>baseline_create_date</th>\n",
       "      <th>cust_payment_terms</th>\n",
       "      <th>delay</th>\n",
       "      <th>num_of_invoices</th>\n",
       "      <th>number_of_delayed_invoices</th>\n",
       "      <th>number_of_early_invoices</th>\n",
       "      <th>sum_invoice</th>\n",
       "      <th>sum_delayed_invoice</th>\n",
       "      <th>average_delay_of_delayed</th>\n",
       "      <th>average_delay</th>\n",
       "      <th>ratio_num</th>\n",
       "      <th>ratio_sum</th>\n",
       "    </tr>\n",
       "  </thead>\n",
       "  <tbody>\n",
       "    <tr>\n",
       "      <th>0</th>\n",
       "      <td>1</td>\n",
       "      <td>10</td>\n",
       "      <td>939</td>\n",
       "      <td>2019-01-14</td>\n",
       "      <td>2018-12-30</td>\n",
       "      <td>2019-01-14</td>\n",
       "      <td>23785.79</td>\n",
       "      <td>2018-12-30</td>\n",
       "      <td>19</td>\n",
       "      <td>0</td>\n",
       "      <td>5</td>\n",
       "      <td>2</td>\n",
       "      <td>0</td>\n",
       "      <td>49708.03</td>\n",
       "      <td>20952.60</td>\n",
       "      <td>1.500000</td>\n",
       "      <td>0.600000</td>\n",
       "      <td>0.400000</td>\n",
       "      <td>0.421513</td>\n",
       "    </tr>\n",
       "    <tr>\n",
       "      <th>1</th>\n",
       "      <td>1</td>\n",
       "      <td>772</td>\n",
       "      <td>3487</td>\n",
       "      <td>2019-01-09</td>\n",
       "      <td>2018-12-30</td>\n",
       "      <td>2019-01-14</td>\n",
       "      <td>20076.44</td>\n",
       "      <td>2018-12-30</td>\n",
       "      <td>32</td>\n",
       "      <td>-5</td>\n",
       "      <td>713</td>\n",
       "      <td>148</td>\n",
       "      <td>555</td>\n",
       "      <td>15137048.53</td>\n",
       "      <td>2244062.97</td>\n",
       "      <td>3.385135</td>\n",
       "      <td>-2.321178</td>\n",
       "      <td>0.207574</td>\n",
       "      <td>0.148250</td>\n",
       "    </tr>\n",
       "    <tr>\n",
       "      <th>2</th>\n",
       "      <td>1</td>\n",
       "      <td>677</td>\n",
       "      <td>378</td>\n",
       "      <td>2019-01-15</td>\n",
       "      <td>2018-12-30</td>\n",
       "      <td>2019-01-14</td>\n",
       "      <td>240.86</td>\n",
       "      <td>2018-12-30</td>\n",
       "      <td>19</td>\n",
       "      <td>1</td>\n",
       "      <td>99</td>\n",
       "      <td>41</td>\n",
       "      <td>0</td>\n",
       "      <td>462707.82</td>\n",
       "      <td>342005.69</td>\n",
       "      <td>2.000000</td>\n",
       "      <td>0.828283</td>\n",
       "      <td>0.414141</td>\n",
       "      <td>0.739140</td>\n",
       "    </tr>\n",
       "    <tr>\n",
       "      <th>3</th>\n",
       "      <td>1</td>\n",
       "      <td>772</td>\n",
       "      <td>3489</td>\n",
       "      <td>2019-01-09</td>\n",
       "      <td>2018-12-30</td>\n",
       "      <td>2019-01-14</td>\n",
       "      <td>985.41</td>\n",
       "      <td>2018-12-30</td>\n",
       "      <td>32</td>\n",
       "      <td>-5</td>\n",
       "      <td>678</td>\n",
       "      <td>126</td>\n",
       "      <td>545</td>\n",
       "      <td>14525380.43</td>\n",
       "      <td>2184197.59</td>\n",
       "      <td>5.626984</td>\n",
       "      <td>-2.109145</td>\n",
       "      <td>0.185841</td>\n",
       "      <td>0.150371</td>\n",
       "    </tr>\n",
       "    <tr>\n",
       "      <th>4</th>\n",
       "      <td>1</td>\n",
       "      <td>714</td>\n",
       "      <td>1864</td>\n",
       "      <td>2019-01-14</td>\n",
       "      <td>2018-12-30</td>\n",
       "      <td>2019-01-14</td>\n",
       "      <td>50228.95</td>\n",
       "      <td>2018-12-30</td>\n",
       "      <td>19</td>\n",
       "      <td>0</td>\n",
       "      <td>48</td>\n",
       "      <td>22</td>\n",
       "      <td>0</td>\n",
       "      <td>2194148.91</td>\n",
       "      <td>1052721.37</td>\n",
       "      <td>2.318182</td>\n",
       "      <td>1.062500</td>\n",
       "      <td>0.458333</td>\n",
       "      <td>0.479786</td>\n",
       "    </tr>\n",
       "  </tbody>\n",
       "</table>\n",
       "</div>"
      ],
      "text/plain": [
       "   business_code  cust_number  name_customer clear_date  \\\n",
       "0              1           10            939 2019-01-14   \n",
       "1              1          772           3487 2019-01-09   \n",
       "2              1          677            378 2019-01-15   \n",
       "3              1          772           3489 2019-01-09   \n",
       "4              1          714           1864 2019-01-14   \n",
       "\n",
       "  document_create_date.1 due_in_date  total_open_amount baseline_create_date  \\\n",
       "0             2018-12-30  2019-01-14           23785.79           2018-12-30   \n",
       "1             2018-12-30  2019-01-14           20076.44           2018-12-30   \n",
       "2             2018-12-30  2019-01-14             240.86           2018-12-30   \n",
       "3             2018-12-30  2019-01-14             985.41           2018-12-30   \n",
       "4             2018-12-30  2019-01-14           50228.95           2018-12-30   \n",
       "\n",
       "   cust_payment_terms  delay  num_of_invoices  number_of_delayed_invoices  \\\n",
       "0                  19      0                5                           2   \n",
       "1                  32     -5              713                         148   \n",
       "2                  19      1               99                          41   \n",
       "3                  32     -5              678                         126   \n",
       "4                  19      0               48                          22   \n",
       "\n",
       "   number_of_early_invoices  sum_invoice  sum_delayed_invoice  \\\n",
       "0                         0     49708.03             20952.60   \n",
       "1                       555  15137048.53           2244062.97   \n",
       "2                         0    462707.82            342005.69   \n",
       "3                       545  14525380.43           2184197.59   \n",
       "4                         0   2194148.91           1052721.37   \n",
       "\n",
       "   average_delay_of_delayed  average_delay  ratio_num  ratio_sum  \n",
       "0                  1.500000       0.600000   0.400000   0.421513  \n",
       "1                  3.385135      -2.321178   0.207574   0.148250  \n",
       "2                  2.000000       0.828283   0.414141   0.739140  \n",
       "3                  5.626984      -2.109145   0.185841   0.150371  \n",
       "4                  2.318182       1.062500   0.458333   0.479786  "
      ]
     },
     "execution_count": 73,
     "metadata": {},
     "output_type": "execute_result"
    }
   ],
   "source": [
    "# Let's verify that all features that we have thought have been added or not.\n",
    "train_invoiceData_train.head()"
   ]
  },
  {
   "cell_type": "code",
   "execution_count": 74,
   "metadata": {},
   "outputs": [
    {
     "data": {
      "text/html": [
       "<div>\n",
       "<style scoped>\n",
       "    .dataframe tbody tr th:only-of-type {\n",
       "        vertical-align: middle;\n",
       "    }\n",
       "\n",
       "    .dataframe tbody tr th {\n",
       "        vertical-align: top;\n",
       "    }\n",
       "\n",
       "    .dataframe thead th {\n",
       "        text-align: right;\n",
       "    }\n",
       "</style>\n",
       "<table border=\"1\" class=\"dataframe\">\n",
       "  <thead>\n",
       "    <tr style=\"text-align: right;\">\n",
       "      <th></th>\n",
       "      <th>business_code</th>\n",
       "      <th>cust_number</th>\n",
       "      <th>name_customer</th>\n",
       "      <th>clear_date</th>\n",
       "      <th>document_create_date.1</th>\n",
       "      <th>due_in_date</th>\n",
       "      <th>total_open_amount</th>\n",
       "      <th>baseline_create_date</th>\n",
       "      <th>cust_payment_terms</th>\n",
       "      <th>delay</th>\n",
       "      <th>num_of_invoices</th>\n",
       "      <th>number_of_delayed_invoices</th>\n",
       "      <th>number_of_early_invoices</th>\n",
       "      <th>sum_invoice</th>\n",
       "      <th>sum_delayed_invoice</th>\n",
       "      <th>average_delay_of_delayed</th>\n",
       "      <th>average_delay</th>\n",
       "      <th>ratio_num</th>\n",
       "      <th>ratio_sum</th>\n",
       "    </tr>\n",
       "  </thead>\n",
       "  <tbody>\n",
       "    <tr>\n",
       "      <th>0</th>\n",
       "      <td>1</td>\n",
       "      <td>772</td>\n",
       "      <td>3487</td>\n",
       "      <td>2019-12-23</td>\n",
       "      <td>2019-12-10</td>\n",
       "      <td>2019-12-25</td>\n",
       "      <td>1126.17</td>\n",
       "      <td>2019-12-10</td>\n",
       "      <td>32</td>\n",
       "      <td>-2</td>\n",
       "      <td>713</td>\n",
       "      <td>148</td>\n",
       "      <td>555</td>\n",
       "      <td>15137048</td>\n",
       "      <td>2244062</td>\n",
       "      <td>3</td>\n",
       "      <td>-2</td>\n",
       "      <td>0.207574</td>\n",
       "      <td>0.148250</td>\n",
       "    </tr>\n",
       "    <tr>\n",
       "      <th>1</th>\n",
       "      <td>1</td>\n",
       "      <td>772</td>\n",
       "      <td>3490</td>\n",
       "      <td>2019-12-20</td>\n",
       "      <td>2019-12-10</td>\n",
       "      <td>2019-12-25</td>\n",
       "      <td>52817.07</td>\n",
       "      <td>2019-12-10</td>\n",
       "      <td>32</td>\n",
       "      <td>-5</td>\n",
       "      <td>685</td>\n",
       "      <td>132</td>\n",
       "      <td>543</td>\n",
       "      <td>15150739</td>\n",
       "      <td>1967441</td>\n",
       "      <td>5</td>\n",
       "      <td>-2</td>\n",
       "      <td>0.192701</td>\n",
       "      <td>0.129858</td>\n",
       "    </tr>\n",
       "    <tr>\n",
       "      <th>2</th>\n",
       "      <td>1</td>\n",
       "      <td>772</td>\n",
       "      <td>3480</td>\n",
       "      <td>2019-12-27</td>\n",
       "      <td>2019-12-10</td>\n",
       "      <td>2019-12-25</td>\n",
       "      <td>46199.57</td>\n",
       "      <td>2019-12-10</td>\n",
       "      <td>32</td>\n",
       "      <td>2</td>\n",
       "      <td>680</td>\n",
       "      <td>134</td>\n",
       "      <td>539</td>\n",
       "      <td>14337658</td>\n",
       "      <td>2451453</td>\n",
       "      <td>5</td>\n",
       "      <td>-1</td>\n",
       "      <td>0.197059</td>\n",
       "      <td>0.170980</td>\n",
       "    </tr>\n",
       "    <tr>\n",
       "      <th>3</th>\n",
       "      <td>1</td>\n",
       "      <td>118</td>\n",
       "      <td>851</td>\n",
       "      <td>2019-12-31</td>\n",
       "      <td>2019-12-10</td>\n",
       "      <td>2019-12-25</td>\n",
       "      <td>6010.86</td>\n",
       "      <td>2019-12-10</td>\n",
       "      <td>19</td>\n",
       "      <td>6</td>\n",
       "      <td>25</td>\n",
       "      <td>15</td>\n",
       "      <td>5</td>\n",
       "      <td>856644</td>\n",
       "      <td>462452</td>\n",
       "      <td>1</td>\n",
       "      <td>0</td>\n",
       "      <td>0.600000</td>\n",
       "      <td>0.539842</td>\n",
       "    </tr>\n",
       "    <tr>\n",
       "      <th>4</th>\n",
       "      <td>1</td>\n",
       "      <td>614</td>\n",
       "      <td>3345</td>\n",
       "      <td>2019-12-26</td>\n",
       "      <td>2019-12-10</td>\n",
       "      <td>2019-12-25</td>\n",
       "      <td>6658.47</td>\n",
       "      <td>2019-12-10</td>\n",
       "      <td>19</td>\n",
       "      <td>1</td>\n",
       "      <td>6</td>\n",
       "      <td>3</td>\n",
       "      <td>1</td>\n",
       "      <td>52098</td>\n",
       "      <td>28062</td>\n",
       "      <td>4</td>\n",
       "      <td>1</td>\n",
       "      <td>0.500000</td>\n",
       "      <td>0.538639</td>\n",
       "    </tr>\n",
       "  </tbody>\n",
       "</table>\n",
       "</div>"
      ],
      "text/plain": [
       "   business_code  cust_number  name_customer clear_date  \\\n",
       "0              1          772           3487 2019-12-23   \n",
       "1              1          772           3490 2019-12-20   \n",
       "2              1          772           3480 2019-12-27   \n",
       "3              1          118            851 2019-12-31   \n",
       "4              1          614           3345 2019-12-26   \n",
       "\n",
       "  document_create_date.1 due_in_date  total_open_amount baseline_create_date  \\\n",
       "0             2019-12-10  2019-12-25            1126.17           2019-12-10   \n",
       "1             2019-12-10  2019-12-25           52817.07           2019-12-10   \n",
       "2             2019-12-10  2019-12-25           46199.57           2019-12-10   \n",
       "3             2019-12-10  2019-12-25            6010.86           2019-12-10   \n",
       "4             2019-12-10  2019-12-25            6658.47           2019-12-10   \n",
       "\n",
       "   cust_payment_terms  delay  num_of_invoices  number_of_delayed_invoices  \\\n",
       "0                  32     -2              713                         148   \n",
       "1                  32     -5              685                         132   \n",
       "2                  32      2              680                         134   \n",
       "3                  19      6               25                          15   \n",
       "4                  19      1                6                           3   \n",
       "\n",
       "   number_of_early_invoices  sum_invoice  sum_delayed_invoice  \\\n",
       "0                       555     15137048              2244062   \n",
       "1                       543     15150739              1967441   \n",
       "2                       539     14337658              2451453   \n",
       "3                         5       856644               462452   \n",
       "4                         1        52098                28062   \n",
       "\n",
       "   average_delay_of_delayed  average_delay  ratio_num  ratio_sum  \n",
       "0                         3             -2   0.207574   0.148250  \n",
       "1                         5             -2   0.192701   0.129858  \n",
       "2                         5             -1   0.197059   0.170980  \n",
       "3                         1              0   0.600000   0.539842  \n",
       "4                         4              1   0.500000   0.538639  "
      ]
     },
     "execution_count": 74,
     "metadata": {},
     "output_type": "execute_result"
    }
   ],
   "source": [
    "# Let's verify that all features that we have thought have been added or not.\n",
    "train_invoiceData_test.head()"
   ]
  },
  {
   "cell_type": "code",
   "execution_count": 75,
   "metadata": {},
   "outputs": [
    {
     "data": {
      "text/html": [
       "<div>\n",
       "<style scoped>\n",
       "    .dataframe tbody tr th:only-of-type {\n",
       "        vertical-align: middle;\n",
       "    }\n",
       "\n",
       "    .dataframe tbody tr th {\n",
       "        vertical-align: top;\n",
       "    }\n",
       "\n",
       "    .dataframe thead th {\n",
       "        text-align: right;\n",
       "    }\n",
       "</style>\n",
       "<table border=\"1\" class=\"dataframe\">\n",
       "  <thead>\n",
       "    <tr style=\"text-align: right;\">\n",
       "      <th></th>\n",
       "      <th>business_code</th>\n",
       "      <th>cust_number</th>\n",
       "      <th>name_customer</th>\n",
       "      <th>clear_date</th>\n",
       "      <th>document_create_date.1</th>\n",
       "      <th>due_in_date</th>\n",
       "      <th>total_open_amount</th>\n",
       "      <th>baseline_create_date</th>\n",
       "      <th>cust_payment_terms</th>\n",
       "      <th>delay</th>\n",
       "      <th>num_of_invoices</th>\n",
       "      <th>number_of_delayed_invoices</th>\n",
       "      <th>number_of_early_invoices</th>\n",
       "      <th>sum_invoice</th>\n",
       "      <th>sum_delayed_invoice</th>\n",
       "      <th>average_delay_of_delayed</th>\n",
       "      <th>average_delay</th>\n",
       "      <th>ratio_num</th>\n",
       "      <th>ratio_sum</th>\n",
       "    </tr>\n",
       "  </thead>\n",
       "  <tbody>\n",
       "    <tr>\n",
       "      <th>0</th>\n",
       "      <td>1</td>\n",
       "      <td>677</td>\n",
       "      <td>378</td>\n",
       "      <td>2019-10-22</td>\n",
       "      <td>2019-10-07</td>\n",
       "      <td>2019-10-22</td>\n",
       "      <td>893.52</td>\n",
       "      <td>2019-10-07</td>\n",
       "      <td>19</td>\n",
       "      <td>0</td>\n",
       "      <td>99</td>\n",
       "      <td>41</td>\n",
       "      <td>6</td>\n",
       "      <td>462707</td>\n",
       "      <td>342005</td>\n",
       "      <td>2</td>\n",
       "      <td>0</td>\n",
       "      <td>0.414141</td>\n",
       "      <td>0.739139</td>\n",
       "    </tr>\n",
       "    <tr>\n",
       "      <th>1</th>\n",
       "      <td>1</td>\n",
       "      <td>844</td>\n",
       "      <td>729</td>\n",
       "      <td>2019-10-21</td>\n",
       "      <td>2019-10-07</td>\n",
       "      <td>2019-10-22</td>\n",
       "      <td>38103.59</td>\n",
       "      <td>2019-10-07</td>\n",
       "      <td>21</td>\n",
       "      <td>-1</td>\n",
       "      <td>69</td>\n",
       "      <td>18</td>\n",
       "      <td>35</td>\n",
       "      <td>1715950</td>\n",
       "      <td>414147</td>\n",
       "      <td>7</td>\n",
       "      <td>0</td>\n",
       "      <td>0.260870</td>\n",
       "      <td>0.241351</td>\n",
       "    </tr>\n",
       "    <tr>\n",
       "      <th>2</th>\n",
       "      <td>1</td>\n",
       "      <td>481</td>\n",
       "      <td>3136</td>\n",
       "      <td>2019-10-23</td>\n",
       "      <td>2019-10-07</td>\n",
       "      <td>2019-10-22</td>\n",
       "      <td>407.30</td>\n",
       "      <td>2019-10-07</td>\n",
       "      <td>19</td>\n",
       "      <td>1</td>\n",
       "      <td>22</td>\n",
       "      <td>20</td>\n",
       "      <td>1</td>\n",
       "      <td>354369</td>\n",
       "      <td>348413</td>\n",
       "      <td>4</td>\n",
       "      <td>3</td>\n",
       "      <td>0.909091</td>\n",
       "      <td>0.983193</td>\n",
       "    </tr>\n",
       "    <tr>\n",
       "      <th>3</th>\n",
       "      <td>1</td>\n",
       "      <td>707</td>\n",
       "      <td>1997</td>\n",
       "      <td>2019-10-23</td>\n",
       "      <td>2019-10-07</td>\n",
       "      <td>2019-10-22</td>\n",
       "      <td>18667.82</td>\n",
       "      <td>2019-10-07</td>\n",
       "      <td>19</td>\n",
       "      <td>1</td>\n",
       "      <td>7</td>\n",
       "      <td>7</td>\n",
       "      <td>6</td>\n",
       "      <td>113902</td>\n",
       "      <td>113902</td>\n",
       "      <td>3</td>\n",
       "      <td>3</td>\n",
       "      <td>1.000000</td>\n",
       "      <td>1.000000</td>\n",
       "    </tr>\n",
       "    <tr>\n",
       "      <th>4</th>\n",
       "      <td>1</td>\n",
       "      <td>760</td>\n",
       "      <td>3164</td>\n",
       "      <td>2019-11-12</td>\n",
       "      <td>2019-10-07</td>\n",
       "      <td>2019-11-08</td>\n",
       "      <td>45362.84</td>\n",
       "      <td>2019-10-07</td>\n",
       "      <td>12</td>\n",
       "      <td>4</td>\n",
       "      <td>21</td>\n",
       "      <td>14</td>\n",
       "      <td>6</td>\n",
       "      <td>425998</td>\n",
       "      <td>183709</td>\n",
       "      <td>3</td>\n",
       "      <td>1</td>\n",
       "      <td>0.666667</td>\n",
       "      <td>0.431244</td>\n",
       "    </tr>\n",
       "  </tbody>\n",
       "</table>\n",
       "</div>"
      ],
      "text/plain": [
       "   business_code  cust_number  name_customer clear_date  \\\n",
       "0              1          677            378 2019-10-22   \n",
       "1              1          844            729 2019-10-21   \n",
       "2              1          481           3136 2019-10-23   \n",
       "3              1          707           1997 2019-10-23   \n",
       "4              1          760           3164 2019-11-12   \n",
       "\n",
       "  document_create_date.1 due_in_date  total_open_amount baseline_create_date  \\\n",
       "0             2019-10-07  2019-10-22             893.52           2019-10-07   \n",
       "1             2019-10-07  2019-10-22           38103.59           2019-10-07   \n",
       "2             2019-10-07  2019-10-22             407.30           2019-10-07   \n",
       "3             2019-10-07  2019-10-22           18667.82           2019-10-07   \n",
       "4             2019-10-07  2019-11-08           45362.84           2019-10-07   \n",
       "\n",
       "   cust_payment_terms  delay  num_of_invoices  number_of_delayed_invoices  \\\n",
       "0                  19      0               99                          41   \n",
       "1                  21     -1               69                          18   \n",
       "2                  19      1               22                          20   \n",
       "3                  19      1                7                           7   \n",
       "4                  12      4               21                          14   \n",
       "\n",
       "   number_of_early_invoices  sum_invoice  sum_delayed_invoice  \\\n",
       "0                         6       462707               342005   \n",
       "1                        35      1715950               414147   \n",
       "2                         1       354369               348413   \n",
       "3                         6       113902               113902   \n",
       "4                         6       425998               183709   \n",
       "\n",
       "   average_delay_of_delayed  average_delay  ratio_num  ratio_sum  \n",
       "0                         2              0   0.414141   0.739139  \n",
       "1                         7              0   0.260870   0.241351  \n",
       "2                         4              3   0.909091   0.983193  \n",
       "3                         3              3   1.000000   1.000000  \n",
       "4                         3              1   0.666667   0.431244  "
      ]
     },
     "execution_count": 75,
     "metadata": {},
     "output_type": "execute_result"
    }
   ],
   "source": [
    "# Let's verify that all features that we have thought have been added or not.\n",
    "train_invoiceData_val.head()"
   ]
  },
  {
   "cell_type": "code",
   "execution_count": 76,
   "metadata": {},
   "outputs": [
    {
     "data": {
      "text/plain": [
       "<matplotlib.axes._subplots.AxesSubplot at 0x29955aae808>"
      ]
     },
     "execution_count": 76,
     "metadata": {},
     "output_type": "execute_result"
    },
    {
     "data": {
      "image/png": "[encoded data removed]",
      "text/plain": [
       "<Figure size 1440x720 with 2 Axes>"
      ]
     },
     "metadata": {},
     "output_type": "display_data"
    }
   ],
   "source": [
    "\"\"\"\n",
    "Now let's visualise the correlation between the variables and with the delay.\n",
    "If correlation between the delay and other columns are high include those in your features.\n",
    "By seeing the heat map we can say that \"average_delay\",\"ratio_sum\",\"ratio_num\",\"average_delay_of_delayed\" should be considered as features.\n",
    "While rest we can take help of feature selection algorithms like Wrapper methods which may include FFS,BFS etc or Embedded Methods.\n",
    "\"\"\"\n",
    "corr=train_invoiceData_train.corr()\n",
    "plt.figure(figsize=(20,10))\n",
    "sns.heatmap(corr,annot=True)"
   ]
  },
  {
   "cell_type": "code",
   "execution_count": 77,
   "metadata": {},
   "outputs": [],
   "source": [
    "\"\"\"\n",
    "For the sake of feature selection via FFS, BFS and tree_based_feature_importance\n",
    "Just creating the X_train and y_train\n",
    "\"\"\"\n",
    "X_train=train_invoiceData_train[\n",
    "        [\"business_code\",\n",
    "        \"cust_number\",\n",
    "        \"name_customer\",\n",
    "        \"total_open_amount\",\n",
    "        \"cust_payment_terms\",\n",
    "        \"num_of_invoices\",\n",
    "        \"number_of_delayed_invoices\",\n",
    "        \"number_of_early_invoices\",\n",
    "        \"sum_invoice\",\n",
    "        \"sum_delayed_invoice\",\n",
    "        \"average_delay_of_delayed\",\n",
    "        \"average_delay\",\n",
    "        \"ratio_num\",\n",
    "        \"ratio_sum\"]\n",
    "    ]\n",
    "y_train=train_invoiceData_train[\"delay\"]"
   ]
  },
  {
   "cell_type": "code",
   "execution_count": 78,
   "metadata": {},
   "outputs": [],
   "source": [
    "def tree_based_feature_importance(X_train,y_train):\n",
    "    from sklearn.ensemble import RandomForestRegressor\n",
    "    # create the random forest model\n",
    "    model = RandomForestRegressor(n_estimators=120)\n",
    "\n",
    "    # fit the model to start training.\n",
    "    model.fit(X_train, y_train)\n",
    "\n",
    "    # get the importance of the resulting features.\n",
    "    importances = model.feature_importances_\n",
    "\n",
    "    # create a data frame for visualization.\n",
    "    final_df = pd.DataFrame({\"Features\": X_train.columns, \"Importances\":importances})\n",
    "    final_df.set_index('Importances')\n",
    "\n",
    "    # sort in descending order \n",
    "    final_df = final_df.sort_values('Importances',ascending=False)\n",
    "    \n",
    "    #visualising feature importance\n",
    "    pd.Series(model.feature_importances_, index=X_train.columns).nlargest(6).plot(kind='barh')  \n",
    "    return final_df"
   ]
  },
  {
   "cell_type": "code",
   "execution_count": 79,
   "metadata": {},
   "outputs": [
    {
     "data": {
      "image/png": "[encoded data removed]",
      "text/plain": [
       "<Figure size 432x288 with 1 Axes>"
      ]
     },
     "metadata": {},
     "output_type": "display_data"
    }
   ],
   "source": [
    "feature_importance=tree_based_feature_importance(X_train,y_train)#features importance data frame"
   ]
  },
  {
   "cell_type": "code",
   "execution_count": 80,
   "metadata": {},
   "outputs": [
    {
     "data": {
      "text/html": [
       "<div>\n",
       "<style scoped>\n",
       "    .dataframe tbody tr th:only-of-type {\n",
       "        vertical-align: middle;\n",
       "    }\n",
       "\n",
       "    .dataframe tbody tr th {\n",
       "        vertical-align: top;\n",
       "    }\n",
       "\n",
       "    .dataframe thead th {\n",
       "        text-align: right;\n",
       "    }\n",
       "</style>\n",
       "<table border=\"1\" class=\"dataframe\">\n",
       "  <thead>\n",
       "    <tr style=\"text-align: right;\">\n",
       "      <th></th>\n",
       "      <th>Features</th>\n",
       "      <th>Importances</th>\n",
       "    </tr>\n",
       "  </thead>\n",
       "  <tbody>\n",
       "    <tr>\n",
       "      <th>11</th>\n",
       "      <td>average_delay</td>\n",
       "      <td>0.480382</td>\n",
       "    </tr>\n",
       "    <tr>\n",
       "      <th>3</th>\n",
       "      <td>total_open_amount</td>\n",
       "      <td>0.245888</td>\n",
       "    </tr>\n",
       "    <tr>\n",
       "      <th>4</th>\n",
       "      <td>cust_payment_terms</td>\n",
       "      <td>0.086726</td>\n",
       "    </tr>\n",
       "    <tr>\n",
       "      <th>10</th>\n",
       "      <td>average_delay_of_delayed</td>\n",
       "      <td>0.032724</td>\n",
       "    </tr>\n",
       "    <tr>\n",
       "      <th>1</th>\n",
       "      <td>cust_number</td>\n",
       "      <td>0.024966</td>\n",
       "    </tr>\n",
       "    <tr>\n",
       "      <th>2</th>\n",
       "      <td>name_customer</td>\n",
       "      <td>0.017831</td>\n",
       "    </tr>\n",
       "    <tr>\n",
       "      <th>8</th>\n",
       "      <td>sum_invoice</td>\n",
       "      <td>0.017697</td>\n",
       "    </tr>\n",
       "    <tr>\n",
       "      <th>5</th>\n",
       "      <td>num_of_invoices</td>\n",
       "      <td>0.017618</td>\n",
       "    </tr>\n",
       "    <tr>\n",
       "      <th>13</th>\n",
       "      <td>ratio_sum</td>\n",
       "      <td>0.015981</td>\n",
       "    </tr>\n",
       "    <tr>\n",
       "      <th>12</th>\n",
       "      <td>ratio_num</td>\n",
       "      <td>0.015797</td>\n",
       "    </tr>\n",
       "    <tr>\n",
       "      <th>9</th>\n",
       "      <td>sum_delayed_invoice</td>\n",
       "      <td>0.013585</td>\n",
       "    </tr>\n",
       "    <tr>\n",
       "      <th>7</th>\n",
       "      <td>number_of_early_invoices</td>\n",
       "      <td>0.011763</td>\n",
       "    </tr>\n",
       "    <tr>\n",
       "      <th>6</th>\n",
       "      <td>number_of_delayed_invoices</td>\n",
       "      <td>0.010761</td>\n",
       "    </tr>\n",
       "    <tr>\n",
       "      <th>0</th>\n",
       "      <td>business_code</td>\n",
       "      <td>0.008282</td>\n",
       "    </tr>\n",
       "  </tbody>\n",
       "</table>\n",
       "</div>"
      ],
      "text/plain": [
       "                      Features  Importances\n",
       "11               average_delay     0.480382\n",
       "3            total_open_amount     0.245888\n",
       "4           cust_payment_terms     0.086726\n",
       "10    average_delay_of_delayed     0.032724\n",
       "1                  cust_number     0.024966\n",
       "2                name_customer     0.017831\n",
       "8                  sum_invoice     0.017697\n",
       "5              num_of_invoices     0.017618\n",
       "13                   ratio_sum     0.015981\n",
       "12                   ratio_num     0.015797\n",
       "9          sum_delayed_invoice     0.013585\n",
       "7     number_of_early_invoices     0.011763\n",
       "6   number_of_delayed_invoices     0.010761\n",
       "0                business_code     0.008282"
      ]
     },
     "metadata": {},
     "output_type": "display_data"
    }
   ],
   "source": [
    "display(feature_importance)"
   ]
  },
  {
   "cell_type": "code",
   "execution_count": 81,
   "metadata": {},
   "outputs": [],
   "source": [
    "def FFS(X,y):\n",
    "    from mlxtend.feature_selection import SequentialFeatureSelector as SFS\n",
    "    from sklearn.linear_model import LinearRegression\n",
    "    # Sequential Forward Selection(sfs)\n",
    "    sfs = SFS(LinearRegression(), k_features=8, forward=True, scoring = 'r2', cv = 5)\n",
    "    sfs.fit(X, y)#doing the FFS\n",
    "    return sfs.k_feature_names_"
   ]
  },
  {
   "cell_type": "code",
   "execution_count": 82,
   "metadata": {},
   "outputs": [
    {
     "data": {
      "text/plain": [
       "('business_code',\n",
       " 'cust_number',\n",
       " 'name_customer',\n",
       " 'total_open_amount',\n",
       " 'cust_payment_terms',\n",
       " 'number_of_delayed_invoices',\n",
       " 'sum_delayed_invoice',\n",
       " 'average_delay')"
      ]
     },
     "execution_count": 82,
     "metadata": {},
     "output_type": "execute_result"
    }
   ],
   "source": [
    "FFS(X_train,y_train)#features selected by FFS"
   ]
  },
  {
   "cell_type": "code",
   "execution_count": 83,
   "metadata": {},
   "outputs": [],
   "source": [
    "def BFS(X,y):\n",
    "    from mlxtend.feature_selection import SequentialFeatureSelector as SFS\n",
    "    from sklearn.linear_model import LinearRegression\n",
    "    # Sequential Backward Selection(sfs)\n",
    "    sfs = SFS(LinearRegression(), k_features=8, forward=False, scoring = 'r2', cv = 5)\n",
    "    sfs.fit(X, y)#doing the BFS\n",
    "    return sfs.k_feature_names_"
   ]
  },
  {
   "cell_type": "code",
   "execution_count": 84,
   "metadata": {},
   "outputs": [
    {
     "data": {
      "text/plain": [
       "('business_code',\n",
       " 'total_open_amount',\n",
       " 'cust_payment_terms',\n",
       " 'num_of_invoices',\n",
       " 'number_of_delayed_invoices',\n",
       " 'number_of_early_invoices',\n",
       " 'average_delay',\n",
       " 'ratio_sum')"
      ]
     },
     "execution_count": 84,
     "metadata": {},
     "output_type": "execute_result"
    }
   ],
   "source": [
    "BFS(X_train,y_train)#features selected by Backward Feature Selection"
   ]
  },
  {
   "cell_type": "code",
   "execution_count": 85,
   "metadata": {},
   "outputs": [],
   "source": [
    "\"\"\"\n",
    "A list of selected features on which the model is going to be trained, validate and tested.\n",
    "\"\"\"\n",
    "# selected_features = ['name_customer',\n",
    "#                      'total_open_amount',\n",
    "#                      'cust_payment_terms',\n",
    "#                      'number_of_delayed_invoices',\n",
    "#                      'sum_delayed_invoice',\n",
    "#                      'average_delay']\n",
    "\n",
    "\n",
    "selected_features = ['name_customer',\n",
    "                      \"average_delay\",\n",
    "                      \"ratio_sum\",\n",
    "                      \"ratio_num\",\n",
    "                      \"average_delay_of_delayed\"]\n",
    "\n",
    "# selected_features = ['business_code',\n",
    "#                      'cust_number',\n",
    "#                      'name_customer',\n",
    "#                      'total_open_amount',\n",
    "#                      'cust_payment_terms',\n",
    "#                      'number_of_delayed_invoices',\n",
    "#                      'sum_delayed_invoice',\n",
    "#                      'average_delay']"
   ]
  },
  {
   "cell_type": "code",
   "execution_count": 86,
   "metadata": {},
   "outputs": [],
   "source": [
    "# initialising X_train which will consist of only those features which we have selected in the selected_features list.\n",
    "# y_train is also initialised and will consist of only target variable that is delay\n",
    "X_train=train_invoiceData_train[selected_features]\n",
    "y_train=train_invoiceData_train[\"delay\"]"
   ]
  },
  {
   "cell_type": "code",
   "execution_count": 87,
   "metadata": {},
   "outputs": [
    {
     "data": {
      "text/plain": [
       "((29779, 5), (29779,))"
      ]
     },
     "execution_count": 87,
     "metadata": {},
     "output_type": "execute_result"
    }
   ],
   "source": [
    "# calculating the dimensions of the X_train and y_train\n",
    "X_train.shape,y_train.shape"
   ]
  },
  {
   "cell_type": "code",
   "execution_count": 88,
   "metadata": {},
   "outputs": [],
   "source": [
    "# initialising X_test which will consist of only those features which we have selected in the selected_features list.\n",
    "# y_test is also initialised and will consist of only target variable that is delay\n",
    "X_test=train_invoiceData_test[selected_features]\n",
    "y_test=train_invoiceData_test[\"delay\"]"
   ]
  },
  {
   "cell_type": "code",
   "execution_count": 89,
   "metadata": {},
   "outputs": [
    {
     "data": {
      "text/plain": [
       "((6382, 5), (6382,))"
      ]
     },
     "execution_count": 89,
     "metadata": {},
     "output_type": "execute_result"
    }
   ],
   "source": [
    "# calculating the dimensions of the X_test and y_test\n",
    "X_test.shape,y_test.shape"
   ]
  },
  {
   "cell_type": "code",
   "execution_count": 90,
   "metadata": {},
   "outputs": [],
   "source": [
    "# initialising X_val which will consist of only those features which we have selected in the selected_features list.\n",
    "# y_val is also initialised and will consist of only target variable that is delay\n",
    "X_val=train_invoiceData_val[selected_features]\n",
    "y_val=train_invoiceData_val[\"delay\"]"
   ]
  },
  {
   "cell_type": "code",
   "execution_count": 91,
   "metadata": {},
   "outputs": [
    {
     "data": {
      "text/plain": [
       "((6381, 5), (6381,))"
      ]
     },
     "execution_count": 91,
     "metadata": {},
     "output_type": "execute_result"
    }
   ],
   "source": [
    "# calculating the dimensions of the X_val and y_val\n",
    "X_val.shape,y_val.shape"
   ]
  },
  {
   "cell_type": "code",
   "execution_count": 92,
   "metadata": {},
   "outputs": [],
   "source": [
    "# Defining Lists to Store in the Results and Names of Algorithms\n",
    "MSE_Score = []\n",
    "# R2_Score = []\n",
    "Algorithm = []\n",
    "Root_Mean_Squared_Error=[]"
   ]
  },
  {
   "cell_type": "code",
   "execution_count": 93,
   "metadata": {},
   "outputs": [],
   "source": [
    "# Fitting Simple Linear Regression to the Training Set\n",
    "Algorithm.append('Linear Regression')\n",
    "clf = LinearRegression()\n",
    "clf.fit(X_train, y_train)\n",
    "\n",
    "# Predicting the Test Set Results\n",
    "predicted = clf.predict(X_val)\n",
    "\n",
    "# Appending the Scores For Visualisation at a Later Part\n",
    "MSE_Score.append(mean_squared_error(y_val, predicted))\n",
    "# R2_Score.append(r2_score(y_val, predicted))\n",
    "Root_Mean_Squared_Error.append(sqrt(mean_squared_error(y_val, predicted)))"
   ]
  },
  {
   "cell_type": "code",
   "execution_count": 94,
   "metadata": {},
   "outputs": [],
   "source": [
    "# Fitting SVR to the Training Set\n",
    "Algorithm.append('Support Vector Regression')\n",
    "clf = SVR()\n",
    "clf.fit(X_train, y_train)\n",
    "\n",
    "# Predicting the Test Set Results\n",
    "predicted = clf.predict(X_val)\n",
    "\n",
    "\n",
    "# Appending the Scores For Visualisation at a Later Part\n",
    "MSE_Score.append(mean_squared_error(y_val, predicted))\n",
    "# R2_Score.append(r2_score(y_val, predicted))\n",
    "Root_Mean_Squared_Error.append(sqrt(mean_squared_error(y_val, predicted)))"
   ]
  },
  {
   "cell_type": "code",
   "execution_count": 95,
   "metadata": {},
   "outputs": [],
   "source": [
    "# Fitting Decision Tree to the Training Set\n",
    "Algorithm.append('Decision Tree Regressor')\n",
    "clf = DecisionTreeRegressor()\n",
    "clf.fit(X_train, y_train)\n",
    "\n",
    "# Predicting the Test Set Results\n",
    "predicted = clf.predict(X_val)\n",
    "\n",
    "# Appending the Scores For Visualisation at a Later Part\n",
    "MSE_Score.append(mean_squared_error(y_val, predicted))\n",
    "# R2_Score.append(r2_score(y_val, predicted))\n",
    "Root_Mean_Squared_Error.append(sqrt(mean_squared_error(y_val, predicted)))"
   ]
  },
  {
   "cell_type": "code",
   "execution_count": 96,
   "metadata": {},
   "outputs": [],
   "source": [
    "# Fitting Random Forest Regressor Tree to the Training Set\n",
    "Algorithm.append('Random Forest Regressor')\n",
    "clf = RandomForestRegressor()\n",
    "clf.fit(X_train, y_train)\n",
    "\n",
    "# Predicting the Test Set Results\n",
    "predicted = clf.predict(X_val)\n",
    "\n",
    "# Appending the Scores For Visualisation at a Later Part\n",
    "MSE_Score.append(mean_squared_error(y_val, predicted))\n",
    "# R2_Score.append(r2_score(y_val, predicted))\n",
    "Root_Mean_Squared_Error.append(sqrt(mean_squared_error(y_val, predicted)))"
   ]
  },
  {
   "cell_type": "code",
   "execution_count": 97,
   "metadata": {},
   "outputs": [],
   "source": [
    "# Fitting XGBoost Regressor to the Training Set\n",
    "Algorithm.append('XGB Regressor')\n",
    "clf = xgb.XGBRegressor()\n",
    "clf.fit(X_train, y_train)\n",
    "\n",
    "# Predicting the Test Set Results\n",
    "predicted = clf.predict(X_val)\n",
    "\n",
    "# Appending the Scores For Visualisation at a Later Part\n",
    "MSE_Score.append(mean_squared_error(y_val, predicted))\n",
    "# R2_Score.append(r2_score(y_val, predicted))\n",
    "Root_Mean_Squared_Error.append(sqrt(mean_squared_error(y_val, predicted)))"
   ]
  },
  {
   "cell_type": "code",
   "execution_count": 98,
   "metadata": {},
   "outputs": [
    {
     "data": {
      "text/html": [
       "<div>\n",
       "<style scoped>\n",
       "    .dataframe tbody tr th:only-of-type {\n",
       "        vertical-align: middle;\n",
       "    }\n",
       "\n",
       "    .dataframe tbody tr th {\n",
       "        vertical-align: top;\n",
       "    }\n",
       "\n",
       "    .dataframe thead th {\n",
       "        text-align: right;\n",
       "    }\n",
       "</style>\n",
       "<table border=\"1\" class=\"dataframe\">\n",
       "  <thead>\n",
       "    <tr style=\"text-align: right;\">\n",
       "      <th></th>\n",
       "      <th>Algorithm</th>\n",
       "      <th>MSE_Score</th>\n",
       "      <th>Root_Mean_Squared_Error</th>\n",
       "    </tr>\n",
       "  </thead>\n",
       "  <tbody>\n",
       "    <tr>\n",
       "      <th>0</th>\n",
       "      <td>Linear Regression</td>\n",
       "      <td>43.693778</td>\n",
       "      <td>6.610127</td>\n",
       "    </tr>\n",
       "    <tr>\n",
       "      <th>1</th>\n",
       "      <td>Support Vector Regression</td>\n",
       "      <td>48.228812</td>\n",
       "      <td>6.944697</td>\n",
       "    </tr>\n",
       "    <tr>\n",
       "      <th>2</th>\n",
       "      <td>Decision Tree Regressor</td>\n",
       "      <td>43.741831</td>\n",
       "      <td>6.613761</td>\n",
       "    </tr>\n",
       "    <tr>\n",
       "      <th>3</th>\n",
       "      <td>Random Forest Regressor</td>\n",
       "      <td>44.276529</td>\n",
       "      <td>6.654061</td>\n",
       "    </tr>\n",
       "    <tr>\n",
       "      <th>4</th>\n",
       "      <td>XGB Regressor</td>\n",
       "      <td>43.701339</td>\n",
       "      <td>6.610699</td>\n",
       "    </tr>\n",
       "  </tbody>\n",
       "</table>\n",
       "</div>"
      ],
      "text/plain": [
       "                   Algorithm  MSE_Score  Root_Mean_Squared_Error\n",
       "0          Linear Regression  43.693778                 6.610127\n",
       "1  Support Vector Regression  48.228812                 6.944697\n",
       "2    Decision Tree Regressor  43.741831                 6.613761\n",
       "3    Random Forest Regressor  44.276529                 6.654061\n",
       "4              XGB Regressor  43.701339                 6.610699"
      ]
     },
     "execution_count": 98,
     "metadata": {},
     "output_type": "execute_result"
    }
   ],
   "source": [
    "# Just Combining the Lists into a DataFrame for a Better Visualisation\n",
    "Comparison = pd.DataFrame(list(zip(Algorithm, MSE_Score, Root_Mean_Squared_Error)),\n",
    "                          columns = ['Algorithm', 'MSE_Score','Root_Mean_Squared_Error'])\n",
    "Comparison"
   ]
  },
  {
   "cell_type": "markdown",
   "metadata": {},
   "source": [
    "So by this XGB Regressor showing the better R2 Score compared to the other models so we will apply our train_invoiceData_test to this feature."
   ]
  },
  {
   "cell_type": "code",
   "execution_count": 99,
   "metadata": {},
   "outputs": [
    {
     "name": "stdout",
     "output_type": "stream",
     "text": [
      "Mean Square Error:  67.91052402530275\n",
      "Root mean square Error:  8.2407841875214\n"
     ]
    }
   ],
   "source": [
    "clf = xgb.XGBRegressor()\n",
    "clf.fit(X_train, y_train)\n",
    "predicted = clf.predict(X_test)\n",
    "print(\"Mean Square Error: \",mean_squared_error(y_test, predicted))\n",
    "# print(\"R2 Score: \",r2_score(y_test, predicted))\n",
    "print(\"Root mean square Error: \",sqrt(mean_squared_error(y_test, predicted)))"
   ]
  },
  {
   "cell_type": "code",
   "execution_count": 100,
   "metadata": {},
   "outputs": [
    {
     "data": {
      "text/html": [
       "<div>\n",
       "<style scoped>\n",
       "    .dataframe tbody tr th:only-of-type {\n",
       "        vertical-align: middle;\n",
       "    }\n",
       "\n",
       "    .dataframe tbody tr th {\n",
       "        vertical-align: top;\n",
       "    }\n",
       "\n",
       "    .dataframe thead th {\n",
       "        text-align: right;\n",
       "    }\n",
       "</style>\n",
       "<table border=\"1\" class=\"dataframe\">\n",
       "  <thead>\n",
       "    <tr style=\"text-align: right;\">\n",
       "      <th></th>\n",
       "      <th>business_code</th>\n",
       "      <th>cust_number</th>\n",
       "      <th>name_customer</th>\n",
       "      <th>clear_date</th>\n",
       "      <th>buisness_year</th>\n",
       "      <th>document_create_date.1</th>\n",
       "      <th>due_in_date</th>\n",
       "      <th>total_open_amount</th>\n",
       "      <th>baseline_create_date</th>\n",
       "      <th>cust_payment_terms</th>\n",
       "      <th>isOpen</th>\n",
       "    </tr>\n",
       "  </thead>\n",
       "  <tbody>\n",
       "    <tr>\n",
       "      <th>0</th>\n",
       "      <td>U001</td>\n",
       "      <td>0200881076</td>\n",
       "      <td>ALBERT</td>\n",
       "      <td>NaT</td>\n",
       "      <td>2020</td>\n",
       "      <td>2020-02-27</td>\n",
       "      <td>2020-03-13</td>\n",
       "      <td>17391.23</td>\n",
       "      <td>2020-02-27</td>\n",
       "      <td>NAA8</td>\n",
       "      <td>1</td>\n",
       "    </tr>\n",
       "    <tr>\n",
       "      <th>1</th>\n",
       "      <td>U001</td>\n",
       "      <td>0200148860</td>\n",
       "      <td>DOLLA</td>\n",
       "      <td>NaT</td>\n",
       "      <td>2020</td>\n",
       "      <td>2020-02-27</td>\n",
       "      <td>2020-03-13</td>\n",
       "      <td>14704.10</td>\n",
       "      <td>2020-02-27</td>\n",
       "      <td>NAA8</td>\n",
       "      <td>1</td>\n",
       "    </tr>\n",
       "    <tr>\n",
       "      <th>2</th>\n",
       "      <td>U001</td>\n",
       "      <td>0200705742</td>\n",
       "      <td>DOT systems</td>\n",
       "      <td>NaT</td>\n",
       "      <td>2020</td>\n",
       "      <td>2020-02-27</td>\n",
       "      <td>2020-03-30</td>\n",
       "      <td>75324.29</td>\n",
       "      <td>2020-02-27</td>\n",
       "      <td>NA32</td>\n",
       "      <td>1</td>\n",
       "    </tr>\n",
       "    <tr>\n",
       "      <th>3</th>\n",
       "      <td>U001</td>\n",
       "      <td>0200780825</td>\n",
       "      <td>SYSCO FO</td>\n",
       "      <td>NaT</td>\n",
       "      <td>2020</td>\n",
       "      <td>2020-02-27</td>\n",
       "      <td>2020-03-13</td>\n",
       "      <td>3418.18</td>\n",
       "      <td>2020-02-27</td>\n",
       "      <td>NAA8</td>\n",
       "      <td>1</td>\n",
       "    </tr>\n",
       "    <tr>\n",
       "      <th>4</th>\n",
       "      <td>U001</td>\n",
       "      <td>0200764795</td>\n",
       "      <td>SYSCO  in</td>\n",
       "      <td>NaT</td>\n",
       "      <td>2020</td>\n",
       "      <td>2020-02-27</td>\n",
       "      <td>2020-03-13</td>\n",
       "      <td>41939.99</td>\n",
       "      <td>2020-02-27</td>\n",
       "      <td>NAA8</td>\n",
       "      <td>1</td>\n",
       "    </tr>\n",
       "  </tbody>\n",
       "</table>\n",
       "</div>"
      ],
      "text/plain": [
       "  business_code cust_number name_customer clear_date  buisness_year  \\\n",
       "0          U001  0200881076       ALBERT         NaT           2020   \n",
       "1          U001  0200148860        DOLLA         NaT           2020   \n",
       "2          U001  0200705742   DOT systems        NaT           2020   \n",
       "3          U001  0200780825     SYSCO FO         NaT           2020   \n",
       "4          U001  0200764795     SYSCO  in        NaT           2020   \n",
       "\n",
       "  document_create_date.1 due_in_date  total_open_amount baseline_create_date  \\\n",
       "0             2020-02-27  2020-03-13           17391.23           2020-02-27   \n",
       "1             2020-02-27  2020-03-13           14704.10           2020-02-27   \n",
       "2             2020-02-27  2020-03-30           75324.29           2020-02-27   \n",
       "3             2020-02-27  2020-03-13            3418.18           2020-02-27   \n",
       "4             2020-02-27  2020-03-13           41939.99           2020-02-27   \n",
       "\n",
       "  cust_payment_terms  isOpen  \n",
       "0               NAA8       1  \n",
       "1               NAA8       1  \n",
       "2               NA32       1  \n",
       "3               NAA8       1  \n",
       "4               NAA8       1  "
      ]
     },
     "execution_count": 100,
     "metadata": {},
     "output_type": "execute_result"
    }
   ],
   "source": [
    "\"\"\"\n",
    "Now, we are all set to calculate the clear_date and the bucket it to which belong.\n",
    "\n",
    "\"\"\"\n",
    "test_invoiceData.head()"
   ]
  },
  {
   "cell_type": "code",
   "execution_count": 101,
   "metadata": {},
   "outputs": [],
   "source": [
    "test_invoiceData[\"num_of_invoices\"] = test_invoiceData[\"name_customer\"].map(\n",
    "    feature_mappings[0]).fillna(sum(feature_mappings[0].values())/len(feature_mappings[0].values())).astype('int64')\n",
    "\n",
    "test_invoiceData[\"number_of_delayed_invoices\"] = test_invoiceData[\"name_customer\"].map(\n",
    "    feature_mappings[1]).fillna(sum(feature_mappings[1].values())/len(feature_mappings[1].values())).astype('int64')\n",
    "\n",
    "test_invoiceData[\"number_of_early_invoices\"] = test_invoiceData[\"name_customer\"].map(\n",
    "    feature_mappings[2]).fillna(sum(feature_mappings[2].values())/len(feature_mappings[2].values())).astype('int64')\n",
    "\n",
    "test_invoiceData[\"sum_invoice\"] = test_invoiceData[\"name_customer\"].map(\n",
    "    feature_mappings[3]).fillna(sum(feature_mappings[3].values())/len(feature_mappings[3].values())).astype('int64')\n",
    "\n",
    "test_invoiceData[\"sum_delayed_invoice\"] = test_invoiceData[\"name_customer\"].map(\n",
    "    feature_mappings[4]).fillna(sum(feature_mappings[4].values())/len(feature_mappings[4].values())).astype('int64')\n",
    "\n",
    "test_invoiceData[\"average_delay_of_delayed\"] = test_invoiceData[\"name_customer\"].map(\n",
    "    feature_mappings[5]).fillna(sum(feature_mappings[5].values())/len(feature_mappings[5].values())).astype('int64')\n",
    "\n",
    "test_invoiceData[\"average_delay\"] = test_invoiceData[\"name_customer\"].map(\n",
    "    feature_mappings[6]).fillna(sum(feature_mappings[6].values())/len(feature_mappings[6].values())).astype('int64')\n",
    "\n",
    "test_invoiceData[\"ratio_num\"] = test_invoiceData[\"number_of_delayed_invoices\"]/test_invoiceData[\"num_of_invoices\"]\n",
    "\n",
    "test_invoiceData[\"ratio_sum\"] = test_invoiceData[\"sum_delayed_invoice\"] / test_invoiceData[\"sum_invoice\"]\n",
    "\n",
    "\n",
    "\n",
    "\"\"\"\n",
    "Here I'm Encoding the test_invoiceData with the mapping that I have created in train_invoiceData_train \n",
    "so that the encoding value remain constant throughout train and test.\n",
    "For filling the others values that are not present in the mapping of train,\n",
    "fill them with the last index + 1 i.e. the length of the dictionary. \n",
    "\"\"\" \n",
    "\n",
    "test_invoiceData[\"cust_number\"] = test_invoiceData[\"cust_number\"].map(\n",
    "    label_encoder_num_mapping).fillna(len(label_encoder_num_mapping)).astype('int64')\n",
    "\n",
    "test_invoiceData[\"business_code\"] = test_invoiceData[\"business_code\"].map(\n",
    "    label_encoder_business_code_mapping).fillna(len(label_encoder_business_code_mapping)).astype('int64')\n",
    "\n",
    "test_invoiceData[\"name_customer\"] = test_invoiceData[\"name_customer\"].map(\n",
    "    label_encoder_name_mapping).fillna(len(label_encoder_name_mapping)).astype('int64')\n",
    "\n",
    "test_invoiceData[\"cust_payment_terms\"] = test_invoiceData[\"cust_payment_terms\"].map(\n",
    "    label_encoder_cust_pay_terms_mapping).fillna(len(label_encoder_cust_pay_terms_mapping)).astype('int64')"
   ]
  },
  {
   "cell_type": "code",
   "execution_count": 102,
   "metadata": {},
   "outputs": [
    {
     "data": {
      "text/html": [
       "<div>\n",
       "<style scoped>\n",
       "    .dataframe tbody tr th:only-of-type {\n",
       "        vertical-align: middle;\n",
       "    }\n",
       "\n",
       "    .dataframe tbody tr th {\n",
       "        vertical-align: top;\n",
       "    }\n",
       "\n",
       "    .dataframe thead th {\n",
       "        text-align: right;\n",
       "    }\n",
       "</style>\n",
       "<table border=\"1\" class=\"dataframe\">\n",
       "  <thead>\n",
       "    <tr style=\"text-align: right;\">\n",
       "      <th></th>\n",
       "      <th>business_code</th>\n",
       "      <th>cust_number</th>\n",
       "      <th>name_customer</th>\n",
       "      <th>clear_date</th>\n",
       "      <th>buisness_year</th>\n",
       "      <th>document_create_date.1</th>\n",
       "      <th>due_in_date</th>\n",
       "      <th>total_open_amount</th>\n",
       "      <th>baseline_create_date</th>\n",
       "      <th>cust_payment_terms</th>\n",
       "      <th>isOpen</th>\n",
       "      <th>num_of_invoices</th>\n",
       "      <th>number_of_delayed_invoices</th>\n",
       "      <th>number_of_early_invoices</th>\n",
       "      <th>sum_invoice</th>\n",
       "      <th>sum_delayed_invoice</th>\n",
       "      <th>average_delay_of_delayed</th>\n",
       "      <th>average_delay</th>\n",
       "      <th>ratio_num</th>\n",
       "      <th>ratio_sum</th>\n",
       "    </tr>\n",
       "  </thead>\n",
       "  <tbody>\n",
       "    <tr>\n",
       "      <th>0</th>\n",
       "      <td>1</td>\n",
       "      <td>884</td>\n",
       "      <td>85</td>\n",
       "      <td>NaT</td>\n",
       "      <td>2020</td>\n",
       "      <td>2020-02-27</td>\n",
       "      <td>2020-03-13</td>\n",
       "      <td>17391.23</td>\n",
       "      <td>2020-02-27</td>\n",
       "      <td>19</td>\n",
       "      <td>1</td>\n",
       "      <td>16</td>\n",
       "      <td>1</td>\n",
       "      <td>1</td>\n",
       "      <td>648127</td>\n",
       "      <td>54028</td>\n",
       "      <td>1</td>\n",
       "      <td>0</td>\n",
       "      <td>0.062500</td>\n",
       "      <td>0.083360</td>\n",
       "    </tr>\n",
       "    <tr>\n",
       "      <th>1</th>\n",
       "      <td>1</td>\n",
       "      <td>435</td>\n",
       "      <td>920</td>\n",
       "      <td>NaT</td>\n",
       "      <td>2020</td>\n",
       "      <td>2020-02-27</td>\n",
       "      <td>2020-03-13</td>\n",
       "      <td>14704.10</td>\n",
       "      <td>2020-02-27</td>\n",
       "      <td>19</td>\n",
       "      <td>1</td>\n",
       "      <td>24</td>\n",
       "      <td>5</td>\n",
       "      <td>3</td>\n",
       "      <td>982486</td>\n",
       "      <td>122492</td>\n",
       "      <td>1</td>\n",
       "      <td>0</td>\n",
       "      <td>0.208333</td>\n",
       "      <td>0.124676</td>\n",
       "    </tr>\n",
       "    <tr>\n",
       "      <th>2</th>\n",
       "      <td>1</td>\n",
       "      <td>632</td>\n",
       "      <td>960</td>\n",
       "      <td>NaT</td>\n",
       "      <td>2020</td>\n",
       "      <td>2020-02-27</td>\n",
       "      <td>2020-03-30</td>\n",
       "      <td>75324.29</td>\n",
       "      <td>2020-02-27</td>\n",
       "      <td>12</td>\n",
       "      <td>1</td>\n",
       "      <td>56</td>\n",
       "      <td>4</td>\n",
       "      <td>34</td>\n",
       "      <td>1602549</td>\n",
       "      <td>144224</td>\n",
       "      <td>2</td>\n",
       "      <td>-7</td>\n",
       "      <td>0.071429</td>\n",
       "      <td>0.089997</td>\n",
       "    </tr>\n",
       "    <tr>\n",
       "      <th>3</th>\n",
       "      <td>1</td>\n",
       "      <td>800</td>\n",
       "      <td>3165</td>\n",
       "      <td>NaT</td>\n",
       "      <td>2020</td>\n",
       "      <td>2020-02-27</td>\n",
       "      <td>2020-03-13</td>\n",
       "      <td>3418.18</td>\n",
       "      <td>2020-02-27</td>\n",
       "      <td>19</td>\n",
       "      <td>1</td>\n",
       "      <td>8</td>\n",
       "      <td>8</td>\n",
       "      <td>6</td>\n",
       "      <td>129191</td>\n",
       "      <td>129191</td>\n",
       "      <td>2</td>\n",
       "      <td>2</td>\n",
       "      <td>1.000000</td>\n",
       "      <td>1.000000</td>\n",
       "    </tr>\n",
       "    <tr>\n",
       "      <th>4</th>\n",
       "      <td>1</td>\n",
       "      <td>762</td>\n",
       "      <td>3149</td>\n",
       "      <td>NaT</td>\n",
       "      <td>2020</td>\n",
       "      <td>2020-02-27</td>\n",
       "      <td>2020-03-13</td>\n",
       "      <td>41939.99</td>\n",
       "      <td>2020-02-27</td>\n",
       "      <td>19</td>\n",
       "      <td>1</td>\n",
       "      <td>50</td>\n",
       "      <td>38</td>\n",
       "      <td>5</td>\n",
       "      <td>941934</td>\n",
       "      <td>757284</td>\n",
       "      <td>2</td>\n",
       "      <td>1</td>\n",
       "      <td>0.760000</td>\n",
       "      <td>0.803967</td>\n",
       "    </tr>\n",
       "  </tbody>\n",
       "</table>\n",
       "</div>"
      ],
      "text/plain": [
       "   business_code  cust_number  name_customer clear_date  buisness_year  \\\n",
       "0              1          884             85        NaT           2020   \n",
       "1              1          435            920        NaT           2020   \n",
       "2              1          632            960        NaT           2020   \n",
       "3              1          800           3165        NaT           2020   \n",
       "4              1          762           3149        NaT           2020   \n",
       "\n",
       "  document_create_date.1 due_in_date  total_open_amount baseline_create_date  \\\n",
       "0             2020-02-27  2020-03-13           17391.23           2020-02-27   \n",
       "1             2020-02-27  2020-03-13           14704.10           2020-02-27   \n",
       "2             2020-02-27  2020-03-30           75324.29           2020-02-27   \n",
       "3             2020-02-27  2020-03-13            3418.18           2020-02-27   \n",
       "4             2020-02-27  2020-03-13           41939.99           2020-02-27   \n",
       "\n",
       "   cust_payment_terms  isOpen  num_of_invoices  number_of_delayed_invoices  \\\n",
       "0                  19       1               16                           1   \n",
       "1                  19       1               24                           5   \n",
       "2                  12       1               56                           4   \n",
       "3                  19       1                8                           8   \n",
       "4                  19       1               50                          38   \n",
       "\n",
       "   number_of_early_invoices  sum_invoice  sum_delayed_invoice  \\\n",
       "0                         1       648127                54028   \n",
       "1                         3       982486               122492   \n",
       "2                        34      1602549               144224   \n",
       "3                         6       129191               129191   \n",
       "4                         5       941934               757284   \n",
       "\n",
       "   average_delay_of_delayed  average_delay  ratio_num  ratio_sum  \n",
       "0                         1              0   0.062500   0.083360  \n",
       "1                         1              0   0.208333   0.124676  \n",
       "2                         2             -7   0.071429   0.089997  \n",
       "3                         2              2   1.000000   1.000000  \n",
       "4                         2              1   0.760000   0.803967  "
      ]
     },
     "execution_count": 102,
     "metadata": {},
     "output_type": "execute_result"
    }
   ],
   "source": [
    "test_invoiceData.head()"
   ]
  },
  {
   "cell_type": "code",
   "execution_count": 103,
   "metadata": {},
   "outputs": [],
   "source": [
    "\"\"\"\n",
    "Initialising X_test which will consist of only those features which we have selected in the selected_features list and\n",
    "going to predict on the basis of those only.\n",
    "\"\"\"\n",
    "X_test=test_invoiceData[selected_features]"
   ]
  },
  {
   "cell_type": "code",
   "execution_count": 104,
   "metadata": {},
   "outputs": [
    {
     "name": "stdout",
     "output_type": "stream",
     "text": [
      "[ 3.6140415e-04  3.1986858e-03 -7.0345383e+00 ...  2.0001767e+00\n",
      "  1.0018240e+00  3.9972677e+00]\n"
     ]
    }
   ],
   "source": [
    "XGB_predict = clf.predict(X_test) #Predictions on Testing data\n",
    "print(XGB_predict)"
   ]
  },
  {
   "cell_type": "code",
   "execution_count": 105,
   "metadata": {
    "scrolled": true
   },
   "outputs": [],
   "source": [
    "\"\"\"\n",
    "Assigning a new column name predicted_delay which stores the output of the XGB_predict that \n",
    "will be the delay predicted by the XGBBooster.\n",
    "\"\"\"\n",
    "test_invoiceData[\"predicted_delay\"]=XGB_predict"
   ]
  },
  {
   "cell_type": "code",
   "execution_count": 106,
   "metadata": {},
   "outputs": [],
   "source": [
    "# converting the predicting delay to integer by applying ceiling function.\n",
    "test_invoiceData[\"predicted_delay\"]=test_invoiceData[\"predicted_delay\"].apply(np.ceil).astype(\"int64\")"
   ]
  },
  {
   "cell_type": "code",
   "execution_count": 107,
   "metadata": {},
   "outputs": [
    {
     "data": {
      "text/html": [
       "<div>\n",
       "<style scoped>\n",
       "    .dataframe tbody tr th:only-of-type {\n",
       "        vertical-align: middle;\n",
       "    }\n",
       "\n",
       "    .dataframe tbody tr th {\n",
       "        vertical-align: top;\n",
       "    }\n",
       "\n",
       "    .dataframe thead th {\n",
       "        text-align: right;\n",
       "    }\n",
       "</style>\n",
       "<table border=\"1\" class=\"dataframe\">\n",
       "  <thead>\n",
       "    <tr style=\"text-align: right;\">\n",
       "      <th></th>\n",
       "      <th>business_code</th>\n",
       "      <th>cust_number</th>\n",
       "      <th>name_customer</th>\n",
       "      <th>clear_date</th>\n",
       "      <th>buisness_year</th>\n",
       "      <th>document_create_date.1</th>\n",
       "      <th>due_in_date</th>\n",
       "      <th>total_open_amount</th>\n",
       "      <th>baseline_create_date</th>\n",
       "      <th>cust_payment_terms</th>\n",
       "      <th>...</th>\n",
       "      <th>num_of_invoices</th>\n",
       "      <th>number_of_delayed_invoices</th>\n",
       "      <th>number_of_early_invoices</th>\n",
       "      <th>sum_invoice</th>\n",
       "      <th>sum_delayed_invoice</th>\n",
       "      <th>average_delay_of_delayed</th>\n",
       "      <th>average_delay</th>\n",
       "      <th>ratio_num</th>\n",
       "      <th>ratio_sum</th>\n",
       "      <th>predicted_delay</th>\n",
       "    </tr>\n",
       "  </thead>\n",
       "  <tbody>\n",
       "    <tr>\n",
       "      <th>0</th>\n",
       "      <td>1</td>\n",
       "      <td>884</td>\n",
       "      <td>85</td>\n",
       "      <td>NaT</td>\n",
       "      <td>2020</td>\n",
       "      <td>2020-02-27</td>\n",
       "      <td>2020-03-13</td>\n",
       "      <td>17391.23</td>\n",
       "      <td>2020-02-27</td>\n",
       "      <td>19</td>\n",
       "      <td>...</td>\n",
       "      <td>16</td>\n",
       "      <td>1</td>\n",
       "      <td>1</td>\n",
       "      <td>648127</td>\n",
       "      <td>54028</td>\n",
       "      <td>1</td>\n",
       "      <td>0</td>\n",
       "      <td>0.062500</td>\n",
       "      <td>0.083360</td>\n",
       "      <td>1</td>\n",
       "    </tr>\n",
       "    <tr>\n",
       "      <th>1</th>\n",
       "      <td>1</td>\n",
       "      <td>435</td>\n",
       "      <td>920</td>\n",
       "      <td>NaT</td>\n",
       "      <td>2020</td>\n",
       "      <td>2020-02-27</td>\n",
       "      <td>2020-03-13</td>\n",
       "      <td>14704.10</td>\n",
       "      <td>2020-02-27</td>\n",
       "      <td>19</td>\n",
       "      <td>...</td>\n",
       "      <td>24</td>\n",
       "      <td>5</td>\n",
       "      <td>3</td>\n",
       "      <td>982486</td>\n",
       "      <td>122492</td>\n",
       "      <td>1</td>\n",
       "      <td>0</td>\n",
       "      <td>0.208333</td>\n",
       "      <td>0.124676</td>\n",
       "      <td>1</td>\n",
       "    </tr>\n",
       "    <tr>\n",
       "      <th>2</th>\n",
       "      <td>1</td>\n",
       "      <td>632</td>\n",
       "      <td>960</td>\n",
       "      <td>NaT</td>\n",
       "      <td>2020</td>\n",
       "      <td>2020-02-27</td>\n",
       "      <td>2020-03-30</td>\n",
       "      <td>75324.29</td>\n",
       "      <td>2020-02-27</td>\n",
       "      <td>12</td>\n",
       "      <td>...</td>\n",
       "      <td>56</td>\n",
       "      <td>4</td>\n",
       "      <td>34</td>\n",
       "      <td>1602549</td>\n",
       "      <td>144224</td>\n",
       "      <td>2</td>\n",
       "      <td>-7</td>\n",
       "      <td>0.071429</td>\n",
       "      <td>0.089997</td>\n",
       "      <td>-7</td>\n",
       "    </tr>\n",
       "    <tr>\n",
       "      <th>3</th>\n",
       "      <td>1</td>\n",
       "      <td>800</td>\n",
       "      <td>3165</td>\n",
       "      <td>NaT</td>\n",
       "      <td>2020</td>\n",
       "      <td>2020-02-27</td>\n",
       "      <td>2020-03-13</td>\n",
       "      <td>3418.18</td>\n",
       "      <td>2020-02-27</td>\n",
       "      <td>19</td>\n",
       "      <td>...</td>\n",
       "      <td>8</td>\n",
       "      <td>8</td>\n",
       "      <td>6</td>\n",
       "      <td>129191</td>\n",
       "      <td>129191</td>\n",
       "      <td>2</td>\n",
       "      <td>2</td>\n",
       "      <td>1.000000</td>\n",
       "      <td>1.000000</td>\n",
       "      <td>3</td>\n",
       "    </tr>\n",
       "    <tr>\n",
       "      <th>4</th>\n",
       "      <td>1</td>\n",
       "      <td>762</td>\n",
       "      <td>3149</td>\n",
       "      <td>NaT</td>\n",
       "      <td>2020</td>\n",
       "      <td>2020-02-27</td>\n",
       "      <td>2020-03-13</td>\n",
       "      <td>41939.99</td>\n",
       "      <td>2020-02-27</td>\n",
       "      <td>19</td>\n",
       "      <td>...</td>\n",
       "      <td>50</td>\n",
       "      <td>38</td>\n",
       "      <td>5</td>\n",
       "      <td>941934</td>\n",
       "      <td>757284</td>\n",
       "      <td>2</td>\n",
       "      <td>1</td>\n",
       "      <td>0.760000</td>\n",
       "      <td>0.803967</td>\n",
       "      <td>1</td>\n",
       "    </tr>\n",
       "  </tbody>\n",
       "</table>\n",
       "<p>5 rows × 21 columns</p>\n",
       "</div>"
      ],
      "text/plain": [
       "   business_code  cust_number  name_customer clear_date  buisness_year  \\\n",
       "0              1          884             85        NaT           2020   \n",
       "1              1          435            920        NaT           2020   \n",
       "2              1          632            960        NaT           2020   \n",
       "3              1          800           3165        NaT           2020   \n",
       "4              1          762           3149        NaT           2020   \n",
       "\n",
       "  document_create_date.1 due_in_date  total_open_amount baseline_create_date  \\\n",
       "0             2020-02-27  2020-03-13           17391.23           2020-02-27   \n",
       "1             2020-02-27  2020-03-13           14704.10           2020-02-27   \n",
       "2             2020-02-27  2020-03-30           75324.29           2020-02-27   \n",
       "3             2020-02-27  2020-03-13            3418.18           2020-02-27   \n",
       "4             2020-02-27  2020-03-13           41939.99           2020-02-27   \n",
       "\n",
       "   cust_payment_terms  ...  num_of_invoices  number_of_delayed_invoices  \\\n",
       "0                  19  ...               16                           1   \n",
       "1                  19  ...               24                           5   \n",
       "2                  12  ...               56                           4   \n",
       "3                  19  ...                8                           8   \n",
       "4                  19  ...               50                          38   \n",
       "\n",
       "   number_of_early_invoices  sum_invoice  sum_delayed_invoice  \\\n",
       "0                         1       648127                54028   \n",
       "1                         3       982486               122492   \n",
       "2                        34      1602549               144224   \n",
       "3                         6       129191               129191   \n",
       "4                         5       941934               757284   \n",
       "\n",
       "   average_delay_of_delayed  average_delay  ratio_num  ratio_sum  \\\n",
       "0                         1              0   0.062500   0.083360   \n",
       "1                         1              0   0.208333   0.124676   \n",
       "2                         2             -7   0.071429   0.089997   \n",
       "3                         2              2   1.000000   1.000000   \n",
       "4                         2              1   0.760000   0.803967   \n",
       "\n",
       "   predicted_delay  \n",
       "0                1  \n",
       "1                1  \n",
       "2               -7  \n",
       "3                3  \n",
       "4                1  \n",
       "\n",
       "[5 rows x 21 columns]"
      ]
     },
     "execution_count": 107,
     "metadata": {},
     "output_type": "execute_result"
    }
   ],
   "source": [
    "# Let's verify the changes that happened or not.\n",
    "test_invoiceData.head()"
   ]
  },
  {
   "cell_type": "code",
   "execution_count": 108,
   "metadata": {},
   "outputs": [],
   "source": [
    "#Convert the second column type to pandas timedelta type and add to first column (which is already in date time type)\n",
    "test_invoiceData['clear_date'] = test_invoiceData['due_in_date']+pd.to_timedelta(test_invoiceData['predicted_delay'],unit='d') "
   ]
  },
  {
   "cell_type": "code",
   "execution_count": 109,
   "metadata": {
    "scrolled": true
   },
   "outputs": [
    {
     "data": {
      "text/html": [
       "<div>\n",
       "<style scoped>\n",
       "    .dataframe tbody tr th:only-of-type {\n",
       "        vertical-align: middle;\n",
       "    }\n",
       "\n",
       "    .dataframe tbody tr th {\n",
       "        vertical-align: top;\n",
       "    }\n",
       "\n",
       "    .dataframe thead th {\n",
       "        text-align: right;\n",
       "    }\n",
       "</style>\n",
       "<table border=\"1\" class=\"dataframe\">\n",
       "  <thead>\n",
       "    <tr style=\"text-align: right;\">\n",
       "      <th></th>\n",
       "      <th>business_code</th>\n",
       "      <th>cust_number</th>\n",
       "      <th>name_customer</th>\n",
       "      <th>clear_date</th>\n",
       "      <th>buisness_year</th>\n",
       "      <th>document_create_date.1</th>\n",
       "      <th>due_in_date</th>\n",
       "      <th>total_open_amount</th>\n",
       "      <th>baseline_create_date</th>\n",
       "      <th>cust_payment_terms</th>\n",
       "      <th>...</th>\n",
       "      <th>num_of_invoices</th>\n",
       "      <th>number_of_delayed_invoices</th>\n",
       "      <th>number_of_early_invoices</th>\n",
       "      <th>sum_invoice</th>\n",
       "      <th>sum_delayed_invoice</th>\n",
       "      <th>average_delay_of_delayed</th>\n",
       "      <th>average_delay</th>\n",
       "      <th>ratio_num</th>\n",
       "      <th>ratio_sum</th>\n",
       "      <th>predicted_delay</th>\n",
       "    </tr>\n",
       "  </thead>\n",
       "  <tbody>\n",
       "    <tr>\n",
       "      <th>0</th>\n",
       "      <td>1</td>\n",
       "      <td>884</td>\n",
       "      <td>85</td>\n",
       "      <td>2020-03-14</td>\n",
       "      <td>2020</td>\n",
       "      <td>2020-02-27</td>\n",
       "      <td>2020-03-13</td>\n",
       "      <td>17391.23</td>\n",
       "      <td>2020-02-27</td>\n",
       "      <td>19</td>\n",
       "      <td>...</td>\n",
       "      <td>16</td>\n",
       "      <td>1</td>\n",
       "      <td>1</td>\n",
       "      <td>648127</td>\n",
       "      <td>54028</td>\n",
       "      <td>1</td>\n",
       "      <td>0</td>\n",
       "      <td>0.062500</td>\n",
       "      <td>0.083360</td>\n",
       "      <td>1</td>\n",
       "    </tr>\n",
       "    <tr>\n",
       "      <th>1</th>\n",
       "      <td>1</td>\n",
       "      <td>435</td>\n",
       "      <td>920</td>\n",
       "      <td>2020-03-14</td>\n",
       "      <td>2020</td>\n",
       "      <td>2020-02-27</td>\n",
       "      <td>2020-03-13</td>\n",
       "      <td>14704.10</td>\n",
       "      <td>2020-02-27</td>\n",
       "      <td>19</td>\n",
       "      <td>...</td>\n",
       "      <td>24</td>\n",
       "      <td>5</td>\n",
       "      <td>3</td>\n",
       "      <td>982486</td>\n",
       "      <td>122492</td>\n",
       "      <td>1</td>\n",
       "      <td>0</td>\n",
       "      <td>0.208333</td>\n",
       "      <td>0.124676</td>\n",
       "      <td>1</td>\n",
       "    </tr>\n",
       "    <tr>\n",
       "      <th>2</th>\n",
       "      <td>1</td>\n",
       "      <td>632</td>\n",
       "      <td>960</td>\n",
       "      <td>2020-03-23</td>\n",
       "      <td>2020</td>\n",
       "      <td>2020-02-27</td>\n",
       "      <td>2020-03-30</td>\n",
       "      <td>75324.29</td>\n",
       "      <td>2020-02-27</td>\n",
       "      <td>12</td>\n",
       "      <td>...</td>\n",
       "      <td>56</td>\n",
       "      <td>4</td>\n",
       "      <td>34</td>\n",
       "      <td>1602549</td>\n",
       "      <td>144224</td>\n",
       "      <td>2</td>\n",
       "      <td>-7</td>\n",
       "      <td>0.071429</td>\n",
       "      <td>0.089997</td>\n",
       "      <td>-7</td>\n",
       "    </tr>\n",
       "    <tr>\n",
       "      <th>3</th>\n",
       "      <td>1</td>\n",
       "      <td>800</td>\n",
       "      <td>3165</td>\n",
       "      <td>2020-03-16</td>\n",
       "      <td>2020</td>\n",
       "      <td>2020-02-27</td>\n",
       "      <td>2020-03-13</td>\n",
       "      <td>3418.18</td>\n",
       "      <td>2020-02-27</td>\n",
       "      <td>19</td>\n",
       "      <td>...</td>\n",
       "      <td>8</td>\n",
       "      <td>8</td>\n",
       "      <td>6</td>\n",
       "      <td>129191</td>\n",
       "      <td>129191</td>\n",
       "      <td>2</td>\n",
       "      <td>2</td>\n",
       "      <td>1.000000</td>\n",
       "      <td>1.000000</td>\n",
       "      <td>3</td>\n",
       "    </tr>\n",
       "    <tr>\n",
       "      <th>4</th>\n",
       "      <td>1</td>\n",
       "      <td>762</td>\n",
       "      <td>3149</td>\n",
       "      <td>2020-03-14</td>\n",
       "      <td>2020</td>\n",
       "      <td>2020-02-27</td>\n",
       "      <td>2020-03-13</td>\n",
       "      <td>41939.99</td>\n",
       "      <td>2020-02-27</td>\n",
       "      <td>19</td>\n",
       "      <td>...</td>\n",
       "      <td>50</td>\n",
       "      <td>38</td>\n",
       "      <td>5</td>\n",
       "      <td>941934</td>\n",
       "      <td>757284</td>\n",
       "      <td>2</td>\n",
       "      <td>1</td>\n",
       "      <td>0.760000</td>\n",
       "      <td>0.803967</td>\n",
       "      <td>1</td>\n",
       "    </tr>\n",
       "  </tbody>\n",
       "</table>\n",
       "<p>5 rows × 21 columns</p>\n",
       "</div>"
      ],
      "text/plain": [
       "   business_code  cust_number  name_customer clear_date  buisness_year  \\\n",
       "0              1          884             85 2020-03-14           2020   \n",
       "1              1          435            920 2020-03-14           2020   \n",
       "2              1          632            960 2020-03-23           2020   \n",
       "3              1          800           3165 2020-03-16           2020   \n",
       "4              1          762           3149 2020-03-14           2020   \n",
       "\n",
       "  document_create_date.1 due_in_date  total_open_amount baseline_create_date  \\\n",
       "0             2020-02-27  2020-03-13           17391.23           2020-02-27   \n",
       "1             2020-02-27  2020-03-13           14704.10           2020-02-27   \n",
       "2             2020-02-27  2020-03-30           75324.29           2020-02-27   \n",
       "3             2020-02-27  2020-03-13            3418.18           2020-02-27   \n",
       "4             2020-02-27  2020-03-13           41939.99           2020-02-27   \n",
       "\n",
       "   cust_payment_terms  ...  num_of_invoices  number_of_delayed_invoices  \\\n",
       "0                  19  ...               16                           1   \n",
       "1                  19  ...               24                           5   \n",
       "2                  12  ...               56                           4   \n",
       "3                  19  ...                8                           8   \n",
       "4                  19  ...               50                          38   \n",
       "\n",
       "   number_of_early_invoices  sum_invoice  sum_delayed_invoice  \\\n",
       "0                         1       648127                54028   \n",
       "1                         3       982486               122492   \n",
       "2                        34      1602549               144224   \n",
       "3                         6       129191               129191   \n",
       "4                         5       941934               757284   \n",
       "\n",
       "   average_delay_of_delayed  average_delay  ratio_num  ratio_sum  \\\n",
       "0                         1              0   0.062500   0.083360   \n",
       "1                         1              0   0.208333   0.124676   \n",
       "2                         2             -7   0.071429   0.089997   \n",
       "3                         2              2   1.000000   1.000000   \n",
       "4                         2              1   0.760000   0.803967   \n",
       "\n",
       "   predicted_delay  \n",
       "0                1  \n",
       "1                1  \n",
       "2               -7  \n",
       "3                3  \n",
       "4                1  \n",
       "\n",
       "[5 rows x 21 columns]"
      ]
     },
     "execution_count": 109,
     "metadata": {},
     "output_type": "execute_result"
    }
   ],
   "source": [
    "\"\"\"\n",
    "Let's verify that clear_date column is filled with the sum of predicted_delay and due_in_date\n",
    "And by this the 1st task that is to compute the clear date is completed.\n",
    "Further we have to go ahead to do bucketisation that is depending upon the number of predicted delays \n",
    "compute to which bucket that particular invoice belongs.\n",
    "\"\"\"\n",
    "test_invoiceData.head()"
   ]
  },
  {
   "cell_type": "markdown",
   "metadata": {},
   "source": [
    "Let's assign Buckets:<br>\n",
    "if value <i>less than or equal to zero</i> then <b>Bucket 1</b>.<br>\n",
    "if value <i>greater than zero and less than and equals to fifteen</i> then it's <b>Bucket 2</b>.<br>\n",
    "if value <i>greater than fifteen and less than and equals to thirty</i> then it's <b>Bucket 3</b>.<br>\n",
    "if value <i>greater than thirty and less than and equals to forty-five</i> then it's <b>Bucket 4</b>.<br>\n",
    "if value <i>greater than forty-five and less than and equals to sixty</i> then it's <b>Bucket 5</b>.<br>\n",
    "if value <i>greater than sixty</i> then it's <b>Bucket 6</b>.<br>"
   ]
  },
  {
   "cell_type": "code",
   "execution_count": 110,
   "metadata": {},
   "outputs": [],
   "source": [
    "\"\"\"\n",
    "A function named bucket which will return the corresponding bucket number.\n",
    "\"\"\"\n",
    "def bucket(x):\n",
    "    if x <= 0:\n",
    "        return 1\n",
    "    elif ( x > 0 and x <= 15):\n",
    "        return 2\n",
    "    elif ( x > 15 and x <= 30):\n",
    "        return 3\n",
    "    elif ( x > 30 and x <= 45):\n",
    "        return 4\n",
    "    elif ( x > 45 and x <= 60):\n",
    "        return 5\n",
    "    elif ( x > 60 ):\n",
    "        return 6"
   ]
  },
  {
   "cell_type": "code",
   "execution_count": 111,
   "metadata": {},
   "outputs": [],
   "source": [
    "\"\"\"\n",
    "A new column is added named predicted_bucket which will store the bucket numbers.\n",
    "By this we have completed the 2nd assigned task based on our PRS keeping an eye on business's perspective. \n",
    "\"\"\"\n",
    "test_invoiceData['predicted_bucket'] = test_invoiceData['predicted_delay'].apply(bucket)"
   ]
  },
  {
   "cell_type": "code",
   "execution_count": 112,
   "metadata": {},
   "outputs": [
    {
     "data": {
      "text/plain": [
       "<BarContainer object of 6 artists>"
      ]
     },
     "execution_count": 112,
     "metadata": {},
     "output_type": "execute_result"
    },
    {
     "data": {
      "image/png": "[encoded data removed]",
      "text/plain": [
       "<Figure size 432x288 with 1 Axes>"
      ]
     },
     "metadata": {},
     "output_type": "display_data"
    }
   ],
   "source": [
    "value_mapping=test_invoiceData[\"predicted_bucket\"].value_counts().to_dict()\n",
    "keys = value_mapping.keys()\n",
    "values = value_mapping. values()\n",
    "plt. bar(keys, values)\n",
    "# Let's see which bucket has the highest number of invoices.\n",
    "# By this we can observe that the Bucket 1 has highest no. of invoices which lie in the range i.e. less than or equal to zero days delay."
   ]
  },
  {
   "cell_type": "code",
   "execution_count": null,
   "metadata": {},
   "outputs": [],
   "source": []
  }
 ],
 "metadata": {
  "kernelspec": {
   "display_name": "Python 3",
   "language": "python",
   "name": "python3"
  },
  "language_info": {
   "codemirror_mode": {
    "name": "ipython",
    "version": 3
   },
   "file_extension": ".py",
   "mimetype": "text/x-python",
   "name": "python",
   "nbconvert_exporter": "python",
   "pygments_lexer": "ipython3",
   "version": "3.7.4"
  }
 },
 "nbformat": 4,
 "nbformat_minor": 2
}
