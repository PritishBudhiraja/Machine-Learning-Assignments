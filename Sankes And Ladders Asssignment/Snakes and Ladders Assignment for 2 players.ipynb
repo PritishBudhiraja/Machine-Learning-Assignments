{
 "cells": [
  {
   "cell_type": "markdown",
   "metadata": {},
   "source": [
    "# Pritish Budhiraja\n",
    "# 1805317"
   ]
  },
  {
   "cell_type": "code",
   "execution_count": 1,
   "metadata": {},
   "outputs": [],
   "source": [
    "import random"
   ]
  },
  {
   "cell_type": "code",
   "execution_count": 2,
   "metadata": {},
   "outputs": [],
   "source": [
    "max_value=100   #value at which game will end"
   ]
  },
  {
   "cell_type": "code",
   "execution_count": 3,
   "metadata": {},
   "outputs": [],
   "source": [
    "#position of snakes represented in a dictionary format\n",
    "posSnakes={\n",
    "    17:7,\n",
    "    54:34,\n",
    "    62:19,\n",
    "    98:79\n",
    "} #given in start:end format\n",
    "#position of ladder represented in a dictionary format\n",
    "posLadders={\n",
    "    3:38,\n",
    "    24:33,\n",
    "    42:93,\n",
    "    72:84\n",
    "} #given in start:end format"
   ]
  },
  {
   "cell_type": "code",
   "execution_count": 4,
   "metadata": {},
   "outputs": [],
   "source": [
    "# used to input names of the players and returned to the start function\n",
    "def inputName():\n",
    "    player1=input(\"Enter the name of Player 1: \")\n",
    "    player2=input(\"Enter the name of Player 2: \")\n",
    "    return player1,player2"
   ]
  },
  {
   "cell_type": "code",
   "execution_count": 5,
   "metadata": {},
   "outputs": [],
   "source": [
    "def getPlayerMove(player):\n",
    "    while True:\n",
    "        playerCommand=input(\"Enter roll for automatic input or for manual input Enter a number between 1 to 20 for \"+player+\": \")\n",
    "        if(playerCommand == \"roll\"):\n",
    "            return random.randint(1,6)\n",
    "        elif(playerCommand == \"quit\"):\n",
    "            return playerCommand\n",
    "        elif(playerCommand.isdigit()):\n",
    "            try:\n",
    "                value=int(playerCommand)\n",
    "                if(value < 0 or value > 20):\n",
    "                    raise Exception()\n",
    "                return value\n",
    "            except:\n",
    "                print(\"Enter Move between 0 to 20\")\n",
    "                continue\n",
    "        else:\n",
    "            print(\"Incorrect Move entered.\")"
   ]
  },
  {
   "cell_type": "code",
   "execution_count": 6,
   "metadata": {},
   "outputs": [],
   "source": [
    "# used to check whether the player has won or not\n",
    "def checkWin(playerName,value):\n",
    "    if(value==100):\n",
    "        print(playerName+\" Wins!!\")\n",
    "        return \"Win\""
   ]
  },
  {
   "cell_type": "code",
   "execution_count": 7,
   "metadata": {},
   "outputs": [],
   "source": [
    "# used to check whether the snake is there or not\n",
    "def snakeCheck(currentValue,playerName):\n",
    "    if currentValue in posSnakes:\n",
    "        print(\"Oops. You stepped on a Snake at \" + str(currentValue))\n",
    "        return posSnakes[currentValue];\n",
    "    else:\n",
    "        return currentValue;"
   ]
  },
  {
   "cell_type": "code",
   "execution_count": 8,
   "metadata": {},
   "outputs": [],
   "source": [
    "# used to check whether the ladder is there or not\n",
    "def ladderCheck(currentValue,playerName):\n",
    "    if currentValue in posLadders:\n",
    "        print(\"Great. You stepped onto a ladder at \" + str(currentValue))\n",
    "        return posLadders[currentValue];\n",
    "    else:\n",
    "        return currentValue;"
   ]
  },
  {
   "cell_type": "code",
   "execution_count": 9,
   "metadata": {},
   "outputs": [],
   "source": [
    "def start():\n",
    "    flag = 0 # used to check whether the game has been quited or successfully finished.\n",
    "    print(\"                                Welcome to Snakes and Ladders                                \")\n",
    "    player1,player2=inputName()\n",
    "    currentPos_player1=currentPos_player2=0\n",
    "    while True:\n",
    "        value1=getPlayerMove(player1)\n",
    "        if(value1 == \"quit\"):\n",
    "            print(player2+\" Wins!!\")\n",
    "            break\n",
    "        print(\"You got a \"+str(value1))\n",
    "        if((value1+currentPos_player1)<=max_value):\n",
    "            currentPos_player1=value1+currentPos_player1\n",
    "            sc1=snakeCheck(currentPos_player1,player1)\n",
    "            currentPos_player1=sc1\n",
    "            lc1=ladderCheck(currentPos_player1,player1)\n",
    "            currentPos_player1=lc1\n",
    "            print(player1+\"'s final position is: \" + str(currentPos_player1))\n",
    "            check=checkWin(player1,currentPos_player1)\n",
    "            if(check==\"Win\"):\n",
    "                flag = 1\n",
    "                break\n",
    "        else:\n",
    "            print(\"Oops. You got more than what you need. Don't be greedy. Try again next turn.\")\n",
    "        value2=getPlayerMove(player2)\n",
    "        if(value2 == \"quit\"):\n",
    "            print(player1+\" Wins!!\")\n",
    "            break\n",
    "        print(\"You got a \"+str(value2))\n",
    "        if((value2+currentPos_player2)<=max_value):\n",
    "            currentPos_player2=value2+currentPos_player2;\n",
    "            sc2=snakeCheck(currentPos_player2,player2)\n",
    "            currentPos_player2=sc2;\n",
    "            lc2=ladderCheck(currentPos_player2,player2)\n",
    "            currentPos_player2=lc2\n",
    "            print(player2+\"'s final position is: \" + str(currentPos_player2))\n",
    "            check=checkWin(player2,currentPos_player2)\n",
    "            if(check==\"Win\"):\n",
    "                flag = 1\n",
    "                break\n",
    "        else:\n",
    "            print(\"Oops. You got more than what you need. Don't be greedy. Try again next turn.\")\n",
    "    if(flag == 0):\n",
    "        print(\"##### Game was successfully QUIT #####\")\n",
    "    else:\n",
    "        print(\"Game was successfully Finished #####\")"
   ]
  },
  {
   "cell_type": "code",
   "execution_count": 10,
   "metadata": {},
   "outputs": [
    {
     "name": "stdout",
     "output_type": "stream",
     "text": [
      "                                Welcome to Snakes and Ladders                                \n",
      "Enter the name of Player 1: ayaan\n",
      "Enter the name of Player 2: Ahaan\n",
      "Enter roll for automatic input or for manual input Enter a number between 1 to 20 for ayaan: roll\n",
      "You got a 5\n",
      "ayaan's final position is: 5\n",
      "Enter roll for automatic input or for manual input Enter a number between 1 to 20 for Ahaan: roll\n",
      "You got a 4\n",
      "Ahaan's final position is: 4\n",
      "Enter roll for automatic input or for manual input Enter a number between 1 to 20 for ayaan: roll\n",
      "You got a 3\n",
      "ayaan's final position is: 8\n",
      "Enter roll for automatic input or for manual input Enter a number between 1 to 20 for Ahaan: roll\n",
      "You got a 3\n",
      "Ahaan's final position is: 7\n",
      "Enter roll for automatic input or for manual input Enter a number between 1 to 20 for ayaan: quit\n",
      "Ahaan Wins!!\n",
      "##### Game was successfully QUIT #####\n"
     ]
    }
   ],
   "source": [
    "start()"
   ]
  },
  {
   "cell_type": "code",
   "execution_count": null,
   "metadata": {},
   "outputs": [],
   "source": []
  },
  {
   "cell_type": "code",
   "execution_count": null,
   "metadata": {},
   "outputs": [],
   "source": []
  }
 ],
 "metadata": {
  "kernelspec": {
   "display_name": "Python 3",
   "language": "python",
   "name": "python3"
  },
  "language_info": {
   "codemirror_mode": {
    "name": "ipython",
    "version": 3
   },
   "file_extension": ".py",
   "mimetype": "text/x-python",
   "name": "python",
   "nbconvert_exporter": "python",
   "pygments_lexer": "ipython3",
   "version": "3.7.4"
  }
 },
 "nbformat": 4,
 "nbformat_minor": 2
}
